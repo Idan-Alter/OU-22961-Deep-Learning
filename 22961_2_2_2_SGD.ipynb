{
  "nbformat": 4,
  "nbformat_minor": 0,
  "metadata": {
    "colab": {
      "provenance": [],
      "authorship_tag": "ABX9TyPg08eBMxL/Opqvxt0dnkPA",
      "include_colab_link": true
    },
    "kernelspec": {
      "name": "python3",
      "display_name": "Python 3"
    },
    "language_info": {
      "name": "python"
    }
  },
  "cells": [
    {
      "cell_type": "markdown",
      "metadata": {
        "id": "view-in-github",
        "colab_type": "text"
      },
      "source": [
        "<a href=\"https://colab.research.google.com/github/Idan-Alter/OU-22961-Deep-Learning/blob/main/22961_2_2_2_SGD.ipynb\" target=\"_parent\"><img src=\"https://colab.research.google.com/assets/colab-badge.svg\" alt=\"Open In Colab\"/></a>"
      ]
    },
    {
      "cell_type": "code",
      "execution_count": null,
      "metadata": {
        "id": "nHOVfP2lG8r_"
      },
      "outputs": [],
      "source": [
        "import torch\n",
        "import torchvision\n",
        "trans = torchvision.transforms.Compose(\n",
        "    [torchvision.transforms.PILToTensor(),\n",
        "     torchvision.transforms.ConvertImageDtype(torch.float)])\n",
        "train_data_transformed = torchvision.datasets.FashionMNIST(\n",
        "    root=\"/22961\", train=True, download=True,\n",
        "    transform=trans)"
      ]
    },
    {
      "cell_type": "code",
      "source": [
        "from torch.utils.data import DataLoader\n",
        "train_dataloader = DataLoader(\n",
        "    train_data_transformed, batch_size=60000)\n",
        "imgs, labels = next(iter(train_dataloader))"
      ],
      "metadata": {
        "id": "p118V7xRKIks"
      },
      "execution_count": null,
      "outputs": []
    },
    {
      "cell_type": "code",
      "source": [
        "print(imgs.size())\n",
        "imgs   = imgs.flatten(start_dim=1)\n",
        "y_true = torch.nn.functional.one_hot(labels, num_classes=10)\n",
        "print(imgs.size())\n",
        "print(y_true.size())"
      ],
      "metadata": {
        "colab": {
          "base_uri": "https://localhost:8080/"
        },
        "id": "cjQp_o5nQ0W1",
        "outputId": "acbf98bf-670f-4458-9b22-66e958d7bab9"
      },
      "execution_count": null,
      "outputs": [
        {
          "output_type": "stream",
          "name": "stdout",
          "text": [
            "torch.Size([60000, 1, 28, 28])\n",
            "torch.Size([60000, 784])\n",
            "torch.Size([60000, 10])\n"
          ]
        }
      ]
    },
    {
      "cell_type": "code",
      "source": [
        "from torch import nn\n",
        "z = nn.Linear(784,10)\n",
        "y = nn.Softmax(dim=1)\n",
        "print(z)"
      ],
      "metadata": {
        "colab": {
          "base_uri": "https://localhost:8080/"
        },
        "id": "UhgtIWfyHr7N",
        "outputId": "7c93fc3d-7ed9-4e74-921e-28a5d30bf555"
      },
      "execution_count": null,
      "outputs": [
        {
          "output_type": "stream",
          "name": "stdout",
          "text": [
            "Linear(in_features=784, out_features=10, bias=True)\n"
          ]
        }
      ]
    },
    {
      "cell_type": "markdown",
      "source": [
        "#True Gradient"
      ],
      "metadata": {
        "id": "nPL4SjttWp6U"
      }
    },
    {
      "cell_type": "code",
      "source": [
        "%%timeit\n",
        "y_model = y(z(imgs))\n",
        "H = -torch.sum(y_true*torch.log(y_model), dim=1)\n",
        "CE_loss = torch.mean(H)\n",
        "CE_loss.backward()"
      ],
      "metadata": {
        "colab": {
          "base_uri": "https://localhost:8080/"
        },
        "id": "8LDJFKtoJoID",
        "outputId": "e3cf2dd9-30c4-4f90-98f7-2568e8c30ad7"
      },
      "execution_count": null,
      "outputs": [
        {
          "output_type": "stream",
          "name": "stdout",
          "text": [
            "1 loop, best of 5: 235 ms per loop\n"
          ]
        }
      ]
    },
    {
      "cell_type": "markdown",
      "source": [
        "#Stochastic Gradient"
      ],
      "metadata": {
        "id": "XieinjKtWuIl"
      }
    },
    {
      "cell_type": "code",
      "source": [
        "train_dataloader_mini = DataLoader(\n",
        "    train_data_transformed, batch_size=16, shuffle=True)\n",
        "minibatch_imgs, minibatch_labels = next(iter(train_dataloader_mini))\n",
        "minibatch_imgs = minibatch_imgs.flatten(start_dim=1)\n",
        "minibatch_y_true = torch.nn.functional.one_hot(minibatch_labels, num_classes=10)"
      ],
      "metadata": {
        "id": "pJZSGzuwUyNk"
      },
      "execution_count": null,
      "outputs": []
    },
    {
      "cell_type": "code",
      "source": [
        "%%timeit\n",
        "minibatch_y_model=y(z(minibatch_imgs))\n",
        "H = -torch.sum(minibatch_y_true*torch.log(minibatch_y_model), dim=1)\n",
        "CE_loss = torch.mean(H)\n",
        "CE_loss.backward()"
      ],
      "metadata": {
        "colab": {
          "base_uri": "https://localhost:8080/"
        },
        "id": "ONhEK7keUaXB",
        "outputId": "f59f904d-f766-4872-d21e-16253ce0c6d5"
      },
      "execution_count": null,
      "outputs": [
        {
          "output_type": "stream",
          "name": "stdout",
          "text": [
            "The slowest run took 5.71 times longer than the fastest. This could mean that an intermediate result is being cached.\n",
            "1000 loops, best of 5: 216 µs per loop\n"
          ]
        }
      ]
    },
    {
      "cell_type": "markdown",
      "source": [
        "#SGD Iteration"
      ],
      "metadata": {
        "id": "-1HTXsq4eroU"
      }
    },
    {
      "cell_type": "code",
      "source": [
        "alpha=0.1\n",
        "z.zero_grad()\n",
        "minibatch_y_model = y(z(minibatch_imgs))\n",
        "H = -torch.sum(minibatch_y_true*torch.log(minibatch_y_model), dim=1)\n",
        "CE_loss = torch.mean(H)\n",
        "CE_loss.backward()\n",
        "with torch.no_grad():\n",
        "  z.weight -= alpha * z.weight.grad\n",
        "  z.bias   -= alpha * z.bias.grad "
      ],
      "metadata": {
        "id": "vr-fomkJbhdE"
      },
      "execution_count": null,
      "outputs": []
    }
  ]
}
