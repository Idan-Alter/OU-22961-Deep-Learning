{
  "cells": [
    {
      "cell_type": "markdown",
      "metadata": {
        "id": "view-in-github",
        "colab_type": "text"
      },
      "source": [
        "<a href=\"https://colab.research.google.com/github/Idan-Alter/OU-22961-Deep-Learning/blob/main/22961_6_3_RNN_classifiers.ipynb\" target=\"_parent\"><img src=\"https://colab.research.google.com/assets/colab-badge.svg\" alt=\"Open In Colab\"/></a>"
      ]
    },
    {
      "cell_type": "code",
      "execution_count": null,
      "metadata": {
        "id": "V0t1SG_8TfTD"
      },
      "outputs": [],
      "source": [
        "pip install datasets"
      ]
    },
    {
      "cell_type": "code",
      "execution_count": null,
      "metadata": {
        "colab": {
          "base_uri": "https://localhost:8080/",
          "height": 190,
          "referenced_widgets": [
            "b5336b21a8774d37a50d0fc1d631c804",
            "058f2850614a4e1aa262885de856e5e3",
            "69c7c3cebdf8451ea32c33ea440f5776",
            "d4c6e0a346df42bb8a3ada822e5bdc86",
            "94d5feb90b284b13826deccf0c35f260",
            "cc4b3e76c2e64ee0b8e56a3db28aca09",
            "4e19d31fbe3a4c7ba625ceab5baed712",
            "1694445d31844fb0bb3fa4330fb3d5bc",
            "1dacfedd6ccb4084ad8aaffccd0ee217",
            "2ff9d7615e0749af840d3a57abebec83",
            "0c1cef41c7e74283a4f3cc02754e471e"
          ]
        },
        "id": "IHn3aU9ykTjM",
        "outputId": "32ebb228-45d8-4807-fd12-fb01d9cf4f43"
      },
      "outputs": [
        {
          "output_type": "stream",
          "name": "stderr",
          "text": [
            "Reusing dataset glue (/root/.cache/huggingface/datasets/glue/sst2/1.0.0/dacbe3125aa31d7f70367a07a8a9e72a5a0bfeb5fc42e75c9db75b96da6053ad)\n"
          ]
        },
        {
          "output_type": "display_data",
          "data": {
            "text/plain": [
              "  0%|          | 0/3 [00:00<?, ?it/s]"
            ],
            "application/vnd.jupyter.widget-view+json": {
              "version_major": 2,
              "version_minor": 0,
              "model_id": "b5336b21a8774d37a50d0fc1d631c804"
            }
          },
          "metadata": {}
        },
        {
          "output_type": "stream",
          "name": "stdout",
          "text": [
            "contains no wit , only labored gags \n",
            "that loves its characters and communicates something rather beautiful about human nature \n",
            "tensor([2924,   61,  330,    2,   89, 1993,  549])\n",
            "tensor([  10, 1792,   17,   54,    4, 6088,   96,  186,  265,   34,  178,  627])\n",
            "tensor(0)\n",
            "tensor(1)\n"
          ]
        }
      ],
      "source": [
        "import torch\n",
        "from torch import nn\n",
        "import datasets as ds\n",
        "from pprint import pprint\n",
        "from tqdm import tqdm\n",
        "from matplotlib import pyplot as plt\n",
        "\n",
        "\n",
        "dataset = ds.load_dataset(\"glue\", \"sst2\")\n",
        "\n",
        "sentence_list = dataset[\"train\"][\"sentence\"]\n",
        "labels_list   = dataset[\"train\"][\"label\"]\n",
        "tokenize      = lambda x: x.split()\n",
        "tokenized     = list(map(tokenize, sentence_list))\n",
        "\n",
        "from torchtext.vocab import build_vocab_from_iterator\n",
        "vocab = build_vocab_from_iterator(tokenized, specials=[\"<UNK>\"], min_freq=5)\n",
        "vocab.set_default_index(0)\n",
        "\n",
        "func = lambda x: torch.tensor(vocab(x))\n",
        "integer_tokens = list(map(func, tokenized))\n",
        "label_tensors  = list(map(torch.tensor, labels_list))\n",
        "print(*sentence_list[1:3], sep=\"\\n\")\n",
        "print(*integer_tokens[1:3], sep=\"\\n\")\n",
        "print(*label_tensors[1:3], sep=\"\\n\")\n",
        "\n",
        "test_split   = len(integer_tokens) * 8//10\n",
        "train_tokens = integer_tokens[:test_split]\n",
        "train_labels = label_tensors[:test_split]\n",
        "test_tokens  = integer_tokens[test_split:]\n",
        "test_labels  = label_tensors[test_split:]"
      ]
    },
    {
      "cell_type": "code",
      "source": [
        "tanh = nn.Tanh()\n",
        "x    = torch.arange(-2,2,0.1)\n",
        "y    = tanh(x)\n",
        "plt.plot(x,y);"
      ],
      "metadata": {
        "colab": {
          "base_uri": "https://localhost:8080/",
          "height": 265
        },
        "id": "e_KLP4Fm2hv-",
        "outputId": "8918d804-6048-4402-f720-4bfba11cddf7"
      },
      "execution_count": null,
      "outputs": [
        {
          "output_type": "display_data",
          "data": {
            "text/plain": [
              "<Figure size 432x288 with 1 Axes>"
            ],
            "image/png": "[encoded data removed]"
          },
          "metadata": {
            "needs_background": "light"
          }
        }
      ]
    },
    {
      "cell_type": "code",
      "execution_count": null,
      "metadata": {
        "id": "dp4ucjtnDpQx"
      },
      "outputs": [],
      "source": [
        "class MyRNNCell(nn.Module):\n",
        "    def __init__(self, embed_dim, hidden_dim):\n",
        "        super().__init__()\n",
        "        self.hidden_state = torch.zeros(hidden_dim)\n",
        "        self.hidden_linear= nn.Linear(in_features = hidden_dim,\n",
        "                                     out_features = hidden_dim)\n",
        "        self.input_linear = nn.Linear(in_features = embed_dim,\n",
        "                                     out_features = hidden_dim)\n",
        "        self.activation   = nn.Tanh()\n",
        "    def forward(self, one_embedded_token):\n",
        "        Z1        = self.input_linear(one_embedded_token)\n",
        "        Z2        = self.hidden_linear(self.hidden_state)\n",
        "        Y         = Z1+Z2\n",
        "        new_state = self.activation(Y)\n",
        "        self.hidden_state = new_state\n",
        "        #return"
      ]
    },
    {
      "cell_type": "code",
      "execution_count": null,
      "metadata": {
        "id": "IO4vdQDNdv5x"
      },
      "outputs": [],
      "source": [
        "class RNNClassifier(nn.Module):\n",
        "    def __init__(self, embed_dim, hidden_dim):\n",
        "        super().__init__()\n",
        "        self.hidden_dim = hidden_dim\n",
        "        self.embedding  = nn.Embedding(len(vocab),embed_dim)\n",
        "        self.rnn        = MyRNNCell(embed_dim, hidden_dim)\n",
        "        self.linear     = nn.Linear(hidden_dim, 2)\n",
        "        self.logsoftmax = nn.LogSoftmax(dim=0)\n",
        "\n",
        "    def forward(self, sentence_tokens):\n",
        "      self.rnn.hidden_state = torch.zeros(self.hidden_dim)\n",
        "      for one_token in sentence_tokens:\n",
        "        one_embedded_token = self.embedding(one_token)\n",
        "        self.rnn(one_embedded_token)\n",
        "\n",
        "      feature_extractor_output = self.rnn.hidden_state\n",
        "      class_scores       = self.linear(feature_extractor_output)\n",
        "      logprobs           = self.logsoftmax(class_scores)\n",
        "      return logprobs"
      ]
    },
    {
      "cell_type": "code",
      "source": [
        "class DeepRNNClassifier(nn.Module):\n",
        "    def __init__(self, embed_dim, hidden_dim):\n",
        "        super().__init__()\n",
        "        self.hidden_dim = hidden_dim\n",
        "        self.embedding  = nn.Embedding(len(vocab), embed_dim)\n",
        "        self.rnn1    = MyRNNCell(embed_dim, hidden_dim)\n",
        "        self.rnn2    = MyRNNCell(hidden_dim, hidden_dim)      #\n",
        "        self.linear     = nn.Linear(hidden_dim, 2)\n",
        "        self.logsoftmax = nn.LogSoftmax(dim=0)\n",
        "\n",
        "    def forward(self, sentence_tokens):\n",
        "      self.rnn1.hidden_state = torch.zeros(self.hidden_dim)\n",
        "      self.rnn2.hidden_state = torch.zeros(self.hidden_dim)   #\n",
        "      for one_token in sentence_tokens:\n",
        "        one_embedded_token = self.embedding(one_token)\n",
        "        self.rnn1(one_embedded_token)\n",
        "        self.rnn2(self.rnn1.hidden_state)                     #\n",
        "\n",
        "      feature_extractor_output = self.rnn2.hidden_state       #\n",
        "      class_scores     = self.linear(feature_extractor_output)\n",
        "      logprobs         = self.logsoftmax(class_scores)\n",
        "      return logprobs"
      ],
      "metadata": {
        "id": "Pyr46dchFDM0"
      },
      "execution_count": null,
      "outputs": []
    },
    {
      "cell_type": "code",
      "source": [
        "class FasterDeepRNNClassifier(nn.Module):\n",
        "    def __init__(self, embed_dim, hidden_dim, RNNlayers):\n",
        "        super().__init__()\n",
        "        self.hidden_dim = hidden_dim\n",
        "        self.embedding  = nn.Embedding(len(vocab), embed_dim)  \n",
        "        self.rnn_stack  = nn.RNN(embed_dim,                   #\n",
        "                                 hidden_dim,\n",
        "                                 RNNlayers)  \n",
        "        self.linear     = nn.Linear(hidden_dim, 2)\n",
        "        self.logsoftmax = nn.LogSoftmax(dim=0)\n",
        "\n",
        "    def forward(self, sentence_tokens):\n",
        "      all_embeddings         = self.embedding(sentence_tokens)\n",
        "      all_embeddings         = all_embeddings.unsqueeze(1)\n",
        "      hidden_state_history, _= self.rnn_stack(all_embeddings)\n",
        "\n",
        "      feature_extractor_output = hidden_state_history[-1,0,:]\n",
        "      class_scores     = self.linear(feature_extractor_output)\n",
        "      logprobs         = self.logsoftmax(class_scores)\n",
        "      return logprobs"
      ],
      "metadata": {
        "id": "A5WGgAE1-JmX"
      },
      "execution_count": null,
      "outputs": []
    },
    {
      "cell_type": "code",
      "source": [
        "class LSTMclassifier(FasterDeepRNNClassifier):\n",
        "    def __init__(self, embed_dim, hidden_dim, RNNlayers):\n",
        "      super().__init__(embed_dim, hidden_dim, RNNlayers)\n",
        "      self.rnn_stack = nn.LSTM(embed_dim, hidden_dim, RNNlayers) "
      ],
      "metadata": {
        "id": "9iPNxUs9U8ng"
      },
      "execution_count": null,
      "outputs": []
    },
    {
      "cell_type": "code",
      "execution_count": null,
      "metadata": {
        "id": "p9BmxS6egLG6"
      },
      "outputs": [],
      "source": [
        "model     = FasterDeepRNNClassifier(10,10,2)\n",
        "optimizer = torch.optim.AdamW(model.parameters())"
      ]
    },
    {
      "cell_type": "code",
      "execution_count": null,
      "metadata": {
        "id": "dzwSlR8DKZsi"
      },
      "outputs": [],
      "source": [
        "def iterate_one_sentence(tokens, label, train_flag):\n",
        "  if train_flag:\n",
        "    model.train()  \n",
        "    optimizer.zero_grad()\n",
        "    y_model = model(tokens)\n",
        "    loss    = -y_model[label] #Cross Entropy\n",
        "    loss.backward()\n",
        "    optimizer.step()\n",
        "  else:\n",
        "    model.eval()\n",
        "    y_model = model(tokens)\n",
        "    model.train()\n",
        "  with torch.no_grad():\n",
        "    predicted_labels = y_model.argmax()\n",
        "    success = (predicted_labels == label)\n",
        "  return success"
      ]
    },
    {
      "cell_type": "code",
      "execution_count": null,
      "metadata": {
        "colab": {
          "base_uri": "https://localhost:8080/"
        },
        "id": "-oGfdopWMDhA",
        "outputId": "e7a8b664-1a77-4756-e381-e7dc3601811c"
      },
      "outputs": [
        {
          "output_type": "stream",
          "name": "stderr",
          "text": [
            "100%|██████████| 100/100 [00:00<00:00, 139.34it/s]\n"
          ]
        },
        {
          "output_type": "stream",
          "name": "stdout",
          "text": [
            "Epoch 0  acc: 0.4300000071525574\n"
          ]
        },
        {
          "output_type": "stream",
          "name": "stderr",
          "text": [
            "100%|██████████| 100/100 [00:00<00:00, 217.91it/s]\n",
            "100%|██████████| 100/100 [00:00<00:00, 225.72it/s]\n",
            "100%|██████████| 100/100 [00:00<00:00, 178.62it/s]\n"
          ]
        },
        {
          "output_type": "stream",
          "name": "stdout",
          "text": [
            "Epoch 3  acc: 0.6200000047683716\n"
          ]
        },
        {
          "output_type": "stream",
          "name": "stderr",
          "text": [
            "100%|██████████| 100/100 [00:00<00:00, 222.74it/s]\n",
            "100%|██████████| 100/100 [00:00<00:00, 223.38it/s]\n",
            "100%|██████████| 100/100 [00:00<00:00, 230.73it/s]\n"
          ]
        },
        {
          "output_type": "stream",
          "name": "stdout",
          "text": [
            "Epoch 6  acc: 0.7799999713897705\n"
          ]
        },
        {
          "output_type": "stream",
          "name": "stderr",
          "text": [
            "100%|██████████| 100/100 [00:00<00:00, 129.70it/s]\n",
            "100%|██████████| 100/100 [00:00<00:00, 137.21it/s]\n",
            "100%|██████████| 100/100 [00:00<00:00, 117.46it/s]"
          ]
        },
        {
          "output_type": "stream",
          "name": "stdout",
          "text": [
            "Epoch 9  acc: 0.8899999856948853\n"
          ]
        },
        {
          "output_type": "stream",
          "name": "stderr",
          "text": [
            "\n"
          ]
        }
      ],
      "source": [
        "#overfit a small batch to check if learning _can_ occur\n",
        "num_samples, epochs = 100, 10\n",
        "parameters = list(model.parameters())\n",
        "avg_grad_norms = torch.zeros(epochs)\n",
        "for epoch in range(epochs):\n",
        "  correct_predictions = torch.tensor([0.])\n",
        "  grad_norm_temp      = torch.zeros(num_samples)\n",
        "  for idx in tqdm(range(num_samples)):\n",
        "    correct_predictions += iterate_one_sentence(train_tokens[idx],\n",
        "                                                train_labels[idx],\n",
        "                                                train_flag=True)\n",
        "    norms = [p.grad.detach().abs().max() for p in parameters if p.grad is not None]\n",
        "    grad_norm_temp[idx] = torch.max(torch.stack(norms))\n",
        "  avg_grad_norms[epoch] = grad_norm_temp.mean()\n",
        "    \n",
        "  acc = correct_predictions/num_samples\n",
        "  if epoch % 3 == 0:\n",
        "    print(\"Epoch\",epoch,\" acc:\",acc.item())"
      ]
    },
    {
      "cell_type": "code",
      "source": [
        "plt.plot(avg_grad_norms)\n",
        "plt.xlabel(\"Epoch\")\n",
        "plt.title(\"Average Inf Norm\");"
      ],
      "metadata": {
        "colab": {
          "base_uri": "https://localhost:8080/",
          "height": 295
        },
        "id": "Bwp9-ceOwig5",
        "outputId": "6f0766fa-eea4-4da9-fc22-76d2ec54de1e"
      },
      "execution_count": null,
      "outputs": [
        {
          "output_type": "display_data",
          "data": {
            "text/plain": [
              "<Figure size 432x288 with 1 Axes>"
            ],
            "image/png": "[encoded data removed]"
          },
          "metadata": {
            "needs_background": "light"
          }
        }
      ]
    },
    {
      "cell_type": "code",
      "execution_count": null,
      "metadata": {
        "colab": {
          "base_uri": "https://localhost:8080/"
        },
        "id": "64OiP0YMUKFq",
        "outputId": "62ab36a8-2a9a-43f6-d63c-838ad98d0808"
      },
      "outputs": [
        {
          "output_type": "stream",
          "name": "stderr",
          "text": [
            "100%|██████████| 13470/13470 [00:15<00:00, 866.04it/s] \n"
          ]
        }
      ],
      "source": [
        "test_correct_predictions = torch.tensor([0.])\n",
        "for tokens, label in tqdm(zip(test_tokens, test_labels), total=len(test_tokens)):\n",
        "  test_correct_predictions += iterate_one_sentence(tokens, label, train_flag=False)\n",
        "test_acc = test_correct_predictions / len(test_tokens)\n"
      ]
    },
    {
      "cell_type": "code",
      "execution_count": null,
      "metadata": {
        "id": "aWte36PXPVbB",
        "colab": {
          "base_uri": "https://localhost:8080/"
        },
        "outputId": "db7b19f6-0a55-47c9-bb10-a741d49d1cd8"
      },
      "outputs": [
        {
          "output_type": "stream",
          "name": "stdout",
          "text": [
            "tensor([0.8900])\n",
            "tensor([0.5030])\n"
          ]
        }
      ],
      "source": [
        "print(acc, test_acc, sep=\"\\n\")"
      ]
    },
    {
      "cell_type": "code",
      "execution_count": null,
      "metadata": {
        "colab": {
          "base_uri": "https://localhost:8080/"
        },
        "id": "-Ok0CNxFVAr4",
        "outputId": "5a161007-9bb7-406d-c347-3fb470cd5707"
      },
      "outputs": [
        {
          "output_type": "stream",
          "name": "stdout",
          "text": [
            "tensor([77, 46,  2, 33, 74])\n",
            "tensor([0.2383, 0.7617])\n",
            "tensor([77, 74,  2, 33, 46])\n",
            "tensor([0.0527, 0.9473])\n"
          ]
        }
      ],
      "source": [
        "preprocess = lambda x: torch.tensor(vocab(x.split()))\n",
        "example_sentences=[\"very good , not bad\",\n",
        "                   \"very bad , not good\"]\n",
        "with torch.no_grad():                   \n",
        "  for sent in example_sentences:\n",
        "    print(preprocess(sent))\n",
        "    print(torch.exp(model(preprocess(sent))))"
      ]
    }
  ],
  "metadata": {
    "colab": {
      "collapsed_sections": [],
      "provenance": [],
      "authorship_tag": "ABX9TyPPDOeYDSxb1ars6qhuBH0t",
      "include_colab_link": true
    },
    "kernelspec": {
      "display_name": "Python 3",
      "name": "python3"
    },
    "language_info": {
      "name": "python"
    },
    "widgets": {
      "application/vnd.jupyter.widget-state+json": {
        "b5336b21a8774d37a50d0fc1d631c804": {
          "model_module": "@jupyter-widgets/controls",
          "model_name": "HBoxModel",
          "model_module_version": "1.5.0",
          "state": {
            "_dom_classes": [],
            "_model_module": "@jupyter-widgets/controls",
            "_model_module_version": "1.5.0",
            "_model_name": "HBoxModel",
            "_view_count": null,
            "_view_module": "@jupyter-widgets/controls",
            "_view_module_version": "1.5.0",
            "_view_name": "HBoxView",
            "box_style": "",
            "children": [
              "IPY_MODEL_058f2850614a4e1aa262885de856e5e3",
              "IPY_MODEL_69c7c3cebdf8451ea32c33ea440f5776",
              "IPY_MODEL_d4c6e0a346df42bb8a3ada822e5bdc86"
            ],
            "layout": "IPY_MODEL_94d5feb90b284b13826deccf0c35f260"
          }
        },
        "058f2850614a4e1aa262885de856e5e3": {
          "model_module": "@jupyter-widgets/controls",
          "model_name": "HTMLModel",
          "model_module_version": "1.5.0",
          "state": {
            "_dom_classes": [],
            "_model_module": "@jupyter-widgets/controls",
            "_model_module_version": "1.5.0",
            "_model_name": "HTMLModel",
            "_view_count": null,
            "_view_module": "@jupyter-widgets/controls",
            "_view_module_version": "1.5.0",
            "_view_name": "HTMLView",
            "description": "",
            "description_tooltip": null,
            "layout": "IPY_MODEL_cc4b3e76c2e64ee0b8e56a3db28aca09",
            "placeholder": "​",
            "style": "IPY_MODEL_4e19d31fbe3a4c7ba625ceab5baed712",
            "value": "100%"
          }
        },
        "69c7c3cebdf8451ea32c33ea440f5776": {
          "model_module": "@jupyter-widgets/controls",
          "model_name": "FloatProgressModel",
          "model_module_version": "1.5.0",
          "state": {
            "_dom_classes": [],
            "_model_module": "@jupyter-widgets/controls",
            "_model_module_version": "1.5.0",
            "_model_name": "FloatProgressModel",
            "_view_count": null,
            "_view_module": "@jupyter-widgets/controls",
            "_view_module_version": "1.5.0",
            "_view_name": "ProgressView",
            "bar_style": "success",
            "description": "",
            "description_tooltip": null,
            "layout": "IPY_MODEL_1694445d31844fb0bb3fa4330fb3d5bc",
            "max": 3,
            "min": 0,
            "orientation": "horizontal",
            "style": "IPY_MODEL_1dacfedd6ccb4084ad8aaffccd0ee217",
            "value": 3
          }
        },
        "d4c6e0a346df42bb8a3ada822e5bdc86": {
          "model_module": "@jupyter-widgets/controls",
          "model_name": "HTMLModel",
          "model_module_version": "1.5.0",
          "state": {
            "_dom_classes": [],
            "_model_module": "@jupyter-widgets/controls",
            "_model_module_version": "1.5.0",
            "_model_name": "HTMLModel",
            "_view_count": null,
            "_view_module": "@jupyter-widgets/controls",
            "_view_module_version": "1.5.0",
            "_view_name": "HTMLView",
            "description": "",
            "description_tooltip": null,
            "layout": "IPY_MODEL_2ff9d7615e0749af840d3a57abebec83",
            "placeholder": "​",
            "style": "IPY_MODEL_0c1cef41c7e74283a4f3cc02754e471e",
            "value": " 3/3 [00:00&lt;00:00,  8.80it/s]"
          }
        },
        "94d5feb90b284b13826deccf0c35f260": {
          "model_module": "@jupyter-widgets/base",
          "model_name": "LayoutModel",
          "model_module_version": "1.2.0",
          "state": {
            "_model_module": "@jupyter-widgets/base",
            "_model_module_version": "1.2.0",
            "_model_name": "LayoutModel",
            "_view_count": null,
            "_view_module": "@jupyter-widgets/base",
            "_view_module_version": "1.2.0",
            "_view_name": "LayoutView",
            "align_content": null,
            "align_items": null,
            "align_self": null,
            "border": null,
            "bottom": null,
            "display": null,
            "flex": null,
            "flex_flow": null,
            "grid_area": null,
            "grid_auto_columns": null,
            "grid_auto_flow": null,
            "grid_auto_rows": null,
            "grid_column": null,
            "grid_gap": null,
            "grid_row": null,
            "grid_template_areas": null,
            "grid_template_columns": null,
            "grid_template_rows": null,
            "height": null,
            "justify_content": null,
            "justify_items": null,
            "left": null,
            "margin": null,
            "max_height": null,
            "max_width": null,
            "min_height": null,
            "min_width": null,
            "object_fit": null,
            "object_position": null,
            "order": null,
            "overflow": null,
            "overflow_x": null,
            "overflow_y": null,
            "padding": null,
            "right": null,
            "top": null,
            "visibility": null,
            "width": null
          }
        },
        "cc4b3e76c2e64ee0b8e56a3db28aca09": {
          "model_module": "@jupyter-widgets/base",
          "model_name": "LayoutModel",
          "model_module_version": "1.2.0",
          "state": {
            "_model_module": "@jupyter-widgets/base",
            "_model_module_version": "1.2.0",
            "_model_name": "LayoutModel",
            "_view_count": null,
            "_view_module": "@jupyter-widgets/base",
            "_view_module_version": "1.2.0",
            "_view_name": "LayoutView",
            "align_content": null,
            "align_items": null,
            "align_self": null,
            "border": null,
            "bottom": null,
            "display": null,
            "flex": null,
            "flex_flow": null,
            "grid_area": null,
            "grid_auto_columns": null,
            "grid_auto_flow": null,
            "grid_auto_rows": null,
            "grid_column": null,
            "grid_gap": null,
            "grid_row": null,
            "grid_template_areas": null,
            "grid_template_columns": null,
            "grid_template_rows": null,
            "height": null,
            "justify_content": null,
            "justify_items": null,
            "left": null,
            "margin": null,
            "max_height": null,
            "max_width": null,
            "min_height": null,
            "min_width": null,
            "object_fit": null,
            "object_position": null,
            "order": null,
            "overflow": null,
            "overflow_x": null,
            "overflow_y": null,
            "padding": null,
            "right": null,
            "top": null,
            "visibility": null,
            "width": null
          }
        },
        "4e19d31fbe3a4c7ba625ceab5baed712": {
          "model_module": "@jupyter-widgets/controls",
          "model_name": "DescriptionStyleModel",
          "model_module_version": "1.5.0",
          "state": {
            "_model_module": "@jupyter-widgets/controls",
            "_model_module_version": "1.5.0",
            "_model_name": "DescriptionStyleModel",
            "_view_count": null,
            "_view_module": "@jupyter-widgets/base",
            "_view_module_version": "1.2.0",
            "_view_name": "StyleView",
            "description_width": ""
          }
        },
        "1694445d31844fb0bb3fa4330fb3d5bc": {
          "model_module": "@jupyter-widgets/base",
          "model_name": "LayoutModel",
          "model_module_version": "1.2.0",
          "state": {
            "_model_module": "@jupyter-widgets/base",
            "_model_module_version": "1.2.0",
            "_model_name": "LayoutModel",
            "_view_count": null,
            "_view_module": "@jupyter-widgets/base",
            "_view_module_version": "1.2.0",
            "_view_name": "LayoutView",
            "align_content": null,
            "align_items": null,
            "align_self": null,
            "border": null,
            "bottom": null,
            "display": null,
            "flex": null,
            "flex_flow": null,
            "grid_area": null,
            "grid_auto_columns": null,
            "grid_auto_flow": null,
            "grid_auto_rows": null,
            "grid_column": null,
            "grid_gap": null,
            "grid_row": null,
            "grid_template_areas": null,
            "grid_template_columns": null,
            "grid_template_rows": null,
            "height": null,
            "justify_content": null,
            "justify_items": null,
            "left": null,
            "margin": null,
            "max_height": null,
            "max_width": null,
            "min_height": null,
            "min_width": null,
            "object_fit": null,
            "object_position": null,
            "order": null,
            "overflow": null,
            "overflow_x": null,
            "overflow_y": null,
            "padding": null,
            "right": null,
            "top": null,
            "visibility": null,
            "width": null
          }
        },
        "1dacfedd6ccb4084ad8aaffccd0ee217": {
          "model_module": "@jupyter-widgets/controls",
          "model_name": "ProgressStyleModel",
          "model_module_version": "1.5.0",
          "state": {
            "_model_module": "@jupyter-widgets/controls",
            "_model_module_version": "1.5.0",
            "_model_name": "ProgressStyleModel",
            "_view_count": null,
            "_view_module": "@jupyter-widgets/base",
            "_view_module_version": "1.2.0",
            "_view_name": "StyleView",
            "bar_color": null,
            "description_width": ""
          }
        },
        "2ff9d7615e0749af840d3a57abebec83": {
          "model_module": "@jupyter-widgets/base",
          "model_name": "LayoutModel",
          "model_module_version": "1.2.0",
          "state": {
            "_model_module": "@jupyter-widgets/base",
            "_model_module_version": "1.2.0",
            "_model_name": "LayoutModel",
            "_view_count": null,
            "_view_module": "@jupyter-widgets/base",
            "_view_module_version": "1.2.0",
            "_view_name": "LayoutView",
            "align_content": null,
            "align_items": null,
            "align_self": null,
            "border": null,
            "bottom": null,
            "display": null,
            "flex": null,
            "flex_flow": null,
            "grid_area": null,
            "grid_auto_columns": null,
            "grid_auto_flow": null,
            "grid_auto_rows": null,
            "grid_column": null,
            "grid_gap": null,
            "grid_row": null,
            "grid_template_areas": null,
            "grid_template_columns": null,
            "grid_template_rows": null,
            "height": null,
            "justify_content": null,
            "justify_items": null,
            "left": null,
            "margin": null,
            "max_height": null,
            "max_width": null,
            "min_height": null,
            "min_width": null,
            "object_fit": null,
            "object_position": null,
            "order": null,
            "overflow": null,
            "overflow_x": null,
            "overflow_y": null,
            "padding": null,
            "right": null,
            "top": null,
            "visibility": null,
            "width": null
          }
        },
        "0c1cef41c7e74283a4f3cc02754e471e": {
          "model_module": "@jupyter-widgets/controls",
          "model_name": "DescriptionStyleModel",
          "model_module_version": "1.5.0",
          "state": {
            "_model_module": "@jupyter-widgets/controls",
            "_model_module_version": "1.5.0",
            "_model_name": "DescriptionStyleModel",
            "_view_count": null,
            "_view_module": "@jupyter-widgets/base",
            "_view_module_version": "1.2.0",
            "_view_name": "StyleView",
            "description_width": ""
          }
        }
      }
    }
  },
  "nbformat": 4,
  "nbformat_minor": 0
}