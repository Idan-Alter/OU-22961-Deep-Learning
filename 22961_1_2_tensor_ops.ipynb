{
  "nbformat": 4,
  "nbformat_minor": 0,
  "metadata": {
    "colab": {
      "provenance": [],
      "collapsed_sections": [],
      "authorship_tag": "ABX9TyMPyHWlx3PDSt+RbsZ4d+mf",
      "include_colab_link": true
    },
    "kernelspec": {
      "name": "python3",
      "display_name": "Python 3"
    },
    "language_info": {
      "name": "python"
    }
  },
  "cells": [
    {
      "cell_type": "markdown",
      "metadata": {
        "id": "view-in-github",
        "colab_type": "text"
      },
      "source": [
        "<a href=\"https://colab.research.google.com/github/Idan-Alter/OU-22961-Deep-Learning/blob/main/22961_1_2_tensor_ops.ipynb\" target=\"_parent\"><img src=\"https://colab.research.google.com/assets/colab-badge.svg\" alt=\"Open In Colab\"/></a>"
      ]
    },
    {
      "cell_type": "code",
      "source": [
        "import torch\n",
        "import numpy as np"
      ],
      "metadata": {
        "id": "03RWd53H7Eq1"
      },
      "execution_count": null,
      "outputs": []
    },
    {
      "cell_type": "code",
      "execution_count": null,
      "metadata": {
        "colab": {
          "base_uri": "https://localhost:8080/"
        },
        "id": "h4twop846YQt",
        "outputId": "218f4633-cbeb-4f92-b318-cd4777639e37"
      },
      "outputs": [
        {
          "output_type": "stream",
          "name": "stdout",
          "text": [
            "tensor([ 6,  8, 10, 12])\n"
          ]
        }
      ],
      "source": [
        "x = torch.tensor([1, 2, 3, 4])\n",
        "y = torch.tensor([5, 6, 7, 8])\n",
        "print(x + y)"
      ]
    },
    {
      "cell_type": "code",
      "source": [
        "print(x - y, x * y, x / y, x ** y, sep='\\n')"
      ],
      "metadata": {
        "colab": {
          "base_uri": "https://localhost:8080/"
        },
        "id": "zA58609F6yx4",
        "outputId": "4a634c43-e4fc-4bb5-f64a-259fc39f38c9"
      },
      "execution_count": null,
      "outputs": [
        {
          "output_type": "stream",
          "name": "stdout",
          "text": [
            "tensor([-4, -4, -4, -4])\n",
            "tensor([ 5, 12, 21, 32])\n",
            "tensor([0.2000, 0.3333, 0.4286, 0.5000])\n",
            "tensor([    1,    64,  2187, 65536])\n"
          ]
        }
      ]
    },
    {
      "cell_type": "code",
      "source": [
        "x = torch.ones(size=(10**5,))\n",
        "y = torch.randint(low=0, high=10, size=(10**5,))"
      ],
      "metadata": {
        "id": "sp5PEiZiAvj0"
      },
      "execution_count": null,
      "outputs": []
    },
    {
      "cell_type": "code",
      "source": [
        "x.numel()"
      ],
      "metadata": {
        "colab": {
          "base_uri": "https://localhost:8080/"
        },
        "id": "nMO0NKFfB_ih",
        "outputId": "5e99893c-56e4-47ff-9b3a-d98477b47364"
      },
      "execution_count": null,
      "outputs": [
        {
          "output_type": "execute_result",
          "data": {
            "text/plain": [
              "<function Tensor.numel>"
            ]
          },
          "metadata": {},
          "execution_count": 5
        }
      ]
    },
    {
      "cell_type": "code",
      "source": [
        "%%timeit\n",
        "x*y"
      ],
      "metadata": {
        "colab": {
          "base_uri": "https://localhost:8080/"
        },
        "id": "8S-l5_qs_7Ff",
        "outputId": "61049b9f-e391-4888-904c-dabda19eca2f"
      },
      "execution_count": null,
      "outputs": [
        {
          "output_type": "stream",
          "name": "stdout",
          "text": [
            "The slowest run took 19.69 times longer than the fastest. This could mean that an intermediate result is being cached.\n",
            "1000 loops, best of 5: 196 µs per loop\n"
          ]
        }
      ]
    },
    {
      "cell_type": "code",
      "source": [
        "%%timeit\n",
        "for i in range(x.numel()):\n",
        "  x[i]*y[i]"
      ],
      "metadata": {
        "colab": {
          "base_uri": "https://localhost:8080/"
        },
        "id": "g-4P-bdQB55B",
        "outputId": "506536be-5348-46bd-c944-82a2673ebaff"
      },
      "execution_count": null,
      "outputs": [
        {
          "output_type": "stream",
          "name": "stdout",
          "text": [
            "1 loop, best of 5: 652 ms per loop\n"
          ]
        }
      ]
    },
    {
      "cell_type": "code",
      "source": [
        "x = torch.tensor([1, 2, 3, 4])\n",
        "y = torch.tensor([5, 6, 7, 8])\n",
        "print(x@y,x==1,sep='\\n')"
      ],
      "metadata": {
        "colab": {
          "base_uri": "https://localhost:8080/"
        },
        "id": "TXJc8rQJIncP",
        "outputId": "1140094f-d4de-452e-c096-a85cad946b03"
      },
      "execution_count": null,
      "outputs": [
        {
          "output_type": "stream",
          "name": "stdout",
          "text": [
            "tensor(70)\n",
            "tensor([ True, False, False, False])\n"
          ]
        }
      ]
    },
    {
      "cell_type": "code",
      "source": [
        "x=x.reshape(1,4)\n",
        "y=y.reshape(4,1)\n",
        "print(x,y,x@y,y@x,sep='\\n')"
      ],
      "metadata": {
        "colab": {
          "base_uri": "https://localhost:8080/"
        },
        "id": "vjm3IfPqJQyZ",
        "outputId": "7b8bce3f-eb0f-420f-9283-7871368fb2c7"
      },
      "execution_count": null,
      "outputs": [
        {
          "output_type": "stream",
          "name": "stdout",
          "text": [
            "tensor([[1, 2, 3, 4]])\n",
            "tensor([[5],\n",
            "        [6],\n",
            "        [7],\n",
            "        [8]])\n",
            "tensor([[70]])\n",
            "tensor([[ 5, 10, 15, 20],\n",
            "        [ 6, 12, 18, 24],\n",
            "        [ 7, 14, 21, 28],\n",
            "        [ 8, 16, 24, 32]])\n"
          ]
        }
      ]
    },
    {
      "cell_type": "markdown",
      "source": [
        "# Reductions"
      ],
      "metadata": {
        "id": "V_H98BnGOCJp"
      }
    },
    {
      "cell_type": "code",
      "source": [
        "x =  torch.ones(size=(3,))\n",
        "y =  torch.ones(size=(3,3))\n",
        "z =  torch.ones(size=(3,3,3))\n",
        "\n",
        "print(x.norm(),y.min(),z.sum(),sep='\\n')"
      ],
      "metadata": {
        "colab": {
          "base_uri": "https://localhost:8080/"
        },
        "id": "yw-knIH5w6dR",
        "outputId": "d852b07d-f29f-4611-838b-c27c2a4efc17"
      },
      "execution_count": null,
      "outputs": [
        {
          "output_type": "stream",
          "name": "stdout",
          "text": [
            "tensor(1.7321)\n",
            "tensor(1.)\n",
            "tensor(27.)\n"
          ]
        }
      ]
    },
    {
      "cell_type": "code",
      "source": [
        "x =  torch.arange(24).reshape(2,3,4)\n",
        "print(x, x.size())\n",
        "\n",
        "y = x.sum()\n",
        "print(y, y.size())\n",
        "\n",
        "z = x.sum(axis=0)\n",
        "print(z, z.size())\n",
        "\n",
        "w = x.sum(axis=1)\n",
        "print(w, w.size())"
      ],
      "metadata": {
        "colab": {
          "base_uri": "https://localhost:8080/"
        },
        "id": "ImrJpPzcBA4q",
        "outputId": "3e8b1871-38ae-42dc-a663-90655359d63e"
      },
      "execution_count": null,
      "outputs": [
        {
          "output_type": "stream",
          "name": "stdout",
          "text": [
            "tensor([[[ 0,  1,  2,  3],\n",
            "         [ 4,  5,  6,  7],\n",
            "         [ 8,  9, 10, 11]],\n",
            "\n",
            "        [[12, 13, 14, 15],\n",
            "         [16, 17, 18, 19],\n",
            "         [20, 21, 22, 23]]]) torch.Size([2, 3, 4])\n",
            "tensor(276) torch.Size([])\n",
            "tensor([[12, 14, 16, 18],\n",
            "        [20, 22, 24, 26],\n",
            "        [28, 30, 32, 34]]) torch.Size([3, 4])\n",
            "tensor([[12, 15, 18, 21],\n",
            "        [48, 51, 54, 57]]) torch.Size([2, 4])\n"
          ]
        }
      ]
    }
  ]
}