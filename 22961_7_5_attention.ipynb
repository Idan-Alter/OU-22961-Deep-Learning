{
  "nbformat": 4,
  "nbformat_minor": 0,
  "metadata": {
    "colab": {
      "provenance": [],
      "collapsed_sections": [],
      "authorship_tag": "ABX9TyPcIuupJUn19HI6eLo2JBe/",
      "include_colab_link": true
    },
    "kernelspec": {
      "name": "python3",
      "display_name": "Python 3"
    },
    "language_info": {
      "name": "python"
    }
  },
  "cells": [
    {
      "cell_type": "markdown",
      "metadata": {
        "id": "view-in-github",
        "colab_type": "text"
      },
      "source": [
        "<a href=\"https://colab.research.google.com/github/Idan-Alter/OU-22961-Deep-Learning/blob/main/22961_7_5_attention.ipynb\" target=\"_parent\"><img src=\"https://colab.research.google.com/assets/colab-badge.svg\" alt=\"Open In Colab\"/></a>"
      ]
    },
    {
      "cell_type": "code",
      "execution_count": null,
      "metadata": {
        "id": "Q-rkogg_jh6N"
      },
      "outputs": [],
      "source": [
        "pip install datasets"
      ]
    },
    {
      "cell_type": "code",
      "source": [
        "import torch\n",
        "from torch import nn\n",
        "import torch.nn.functional as F\n",
        "import datasets as ds\n",
        "import matplotlib.pyplot as plt"
      ],
      "metadata": {
        "id": "0SsirZB5kviZ"
      },
      "execution_count": null,
      "outputs": []
    },
    {
      "cell_type": "code",
      "source": [
        "src = \"en\"\n",
        "tgt = \"fr\"\n",
        "dataset = ds.load_dataset(\"tatoeba\", lang1=src, lang2=tgt)\n",
        "\n",
        "pairs_list = dataset[\"train\"][\"translation\"]\n",
        "total      = len(pairs_list)\n",
        "src_sents_unfiltered = [x[src].split() for x in pairs_list]\n",
        "tgt_sents_unfiltered = [x[tgt].split() for x in pairs_list]\n",
        "\n",
        "MAX_length = 5\n",
        "filter = lambda idx: len(src_sents_unfiltered[idx]) <= MAX_length and \\\n",
        "                     len(tgt_sents_unfiltered[idx]) <= MAX_length\n",
        "mask = map(filter, range(total))\n",
        "src_sents = [x for idx, x in enumerate(src_sents_unfiltered) if filter(idx)]\n",
        "tgt_sents = [x for idx, x in enumerate(tgt_sents_unfiltered) if filter(idx)]\n",
        "\n",
        "torch.manual_seed(0)\n",
        "shuffle_idxs = torch.randperm(len(src_sents))\n",
        "def shuffle(my_list):\n",
        "  extract_one   = lambda x: my_list[shuffle_idxs[x]]\n",
        "  shuffled_list = list(map(extract_one, range(len(my_list))))\n",
        "  return shuffled_list\n",
        "src_sents = shuffle(src_sents)\n",
        "tgt_sents = shuffle(tgt_sents)\n",
        "\n",
        "for idx in range(len(src_sents)):\n",
        "  src_sents[idx].append(\"<END>\")\n",
        "  tgt_sents[idx] = [\"<START>\"]+tgt_sents[idx]+[\"<END>\"]\n",
        "\n",
        "from torchtext.vocab import build_vocab_from_iterator\n",
        "src_vocab = build_vocab_from_iterator(src_sents, specials=[\"<UNK>\", \"<END>\"])\n",
        "src_vocab.set_default_index(0)\n",
        "print(len(src_vocab))\n",
        "tgt_vocab = build_vocab_from_iterator(tgt_sents, specials=[\"<UNK>\", \"<END>\", \"<START>\"])\n",
        "tgt_vocab.set_default_index(0)\n",
        "print(len(tgt_vocab))\n",
        "\n",
        "src_tokens = list(map(lambda x: torch.tensor(src_vocab(x)), src_sents))\n",
        "tgt_tokens = list(map(lambda x: torch.tensor(tgt_vocab(x)), tgt_sents))\n"
      ],
      "metadata": {
        "id": "2di34Icnkjpn"
      },
      "execution_count": null,
      "outputs": []
    },
    {
      "cell_type": "code",
      "source": [
        "START_Token = torch.tensor(tgt_vocab([\"<START>\"])[0])\n",
        "END_Token   = torch.tensor(tgt_vocab([\"<END>\"])[0])\n",
        "print(START_Token,END_Token)"
      ],
      "metadata": {
        "colab": {
          "base_uri": "https://localhost:8080/"
        },
        "id": "BP1GKXIijki-",
        "outputId": "7e86e4e8-b037-4542-e1da-ef24fa5ab02e"
      },
      "execution_count": null,
      "outputs": [
        {
          "output_type": "stream",
          "name": "stdout",
          "text": [
            "tensor(2) tensor(1)\n"
          ]
        }
      ]
    },
    {
      "cell_type": "code",
      "source": [
        "A = [src_vocab.get_itos()[x.item()] for x in src_tokens[1]] \n",
        "B = [tgt_vocab.get_itos()[x.item()] for x in tgt_tokens[1]] \n",
        "print(A, B)"
      ],
      "metadata": {
        "colab": {
          "base_uri": "https://localhost:8080/"
        },
        "id": "SUFgYkv6tYv8",
        "outputId": "36f5d579-a0a6-4d1c-8908-0a8a8966a0b8"
      },
      "execution_count": null,
      "outputs": [
        {
          "output_type": "stream",
          "name": "stdout",
          "text": [
            "['It', 'was', 'too', 'hard.', '<END>'] ['<START>', 'Il', 'était', 'trop', 'dur.', '<END>']\n"
          ]
        }
      ]
    },
    {
      "cell_type": "markdown",
      "source": [
        "#Full History Encoder"
      ],
      "metadata": {
        "id": "gnqaNV-9joXU"
      }
    },
    {
      "cell_type": "code",
      "source": [
        "class Encoder(nn.Module):\n",
        "    def __init__(self, embed_dim, hidden_dim, RNNlayers):\n",
        "        super().__init__()\n",
        "        self.src_embedding  = nn.Embedding(len(src_vocab),\n",
        "                                           embed_dim)  \n",
        "        self.rnn_stack      = nn.LSTM(embed_dim,                   \n",
        "                                 hidden_dim,\n",
        "                                 RNNlayers)  \n",
        "\n",
        "    def forward(self, src_tokens):\n",
        "      all_embeddings         = self.src_embedding(src_tokens)\n",
        "      all_embeddings         = all_embeddings.unsqueeze(1)\n",
        "      annotations, _= self.rnn_stack(all_embeddings)     #\n",
        "      return annotations.squeeze()                       #"
      ],
      "metadata": {
        "id": "cuP2INO39sPN"
      },
      "execution_count": null,
      "outputs": []
    },
    {
      "cell_type": "markdown",
      "source": [
        "#Attention"
      ],
      "metadata": {
        "id": "WToiryVGgPiX"
      }
    },
    {
      "cell_type": "code",
      "source": [
        "from pprint import pprint\n",
        "values = [\"woman\", \"man\", \"bicycle\", \"queen\", \"house\"]\n",
        "keys  = values\n",
        "my_dict = dict(zip(keys,values))\n",
        "pprint(my_dict)"
      ],
      "metadata": {
        "colab": {
          "base_uri": "https://localhost:8080/"
        },
        "id": "p8K9rw8pWm2q",
        "outputId": "6d63375e-56ad-4c1a-c2f7-14446800bcf0"
      },
      "execution_count": null,
      "outputs": [
        {
          "output_type": "stream",
          "name": "stdout",
          "text": [
            "{'bicycle': 'bicycle',\n",
            " 'house': 'house',\n",
            " 'man': 'man',\n",
            " 'queen': 'queen',\n",
            " 'woman': 'woman'}\n"
          ]
        }
      ]
    },
    {
      "cell_type": "code",
      "source": [
        "print(my_dict.get(\"woman\"), my_dict.get(\"girl\"))"
      ],
      "metadata": {
        "colab": {
          "base_uri": "https://localhost:8080/"
        },
        "id": "8BcjTTgMZRtW",
        "outputId": "a16dccd6-79c5-4f66-b4ce-98ac8eefc75d"
      },
      "execution_count": null,
      "outputs": [
        {
          "output_type": "stream",
          "name": "stdout",
          "text": [
            "woman None\n"
          ]
        }
      ]
    },
    {
      "cell_type": "code",
      "source": [
        "from torchtext.vocab import GloVe\n",
        "glove_embedder = GloVe(name='6B',dim=50)\n",
        "keys = glove_embedder.get_vecs_by_tokens(values)\n",
        "print(keys.size(), keys.dtype)"
      ],
      "metadata": {
        "colab": {
          "base_uri": "https://localhost:8080/"
        },
        "id": "TSDNl4T2y1Rl",
        "outputId": "abbfe89f-ceb2-4104-8a27-3fda2b0d1c69"
      },
      "execution_count": null,
      "outputs": [
        {
          "output_type": "stream",
          "name": "stdout",
          "text": [
            "torch.Size([5, 50]) torch.float32\n"
          ]
        }
      ]
    },
    {
      "cell_type": "code",
      "source": [
        "def soft_search(query, keys, values):\n",
        "  dict_size      = len(values) \n",
        "  cos_similarity = torch.zeros(dict_size)\n",
        "  q_norm         = query.norm()\n",
        "  for idx in range(dict_size):\n",
        "    dot                 = (query*keys[idx]).sum()\n",
        "    k_norm              = keys[idx].norm()\n",
        "    cos_similarity[idx] = dot/(q_norm*k_norm)\n",
        "  best_match_idx = cos_similarity.argmax()\n",
        "  return values[best_match_idx], cos_similarity"
      ],
      "metadata": {
        "id": "Q9BT8THJvGQj"
      },
      "execution_count": null,
      "outputs": []
    },
    {
      "cell_type": "code",
      "source": [
        "queries = [\"king\", \"castle\", \"car\", \"girl\", \"animal\"]\n",
        "sim_matrix = torch.zeros(len(queries),len(values))\n",
        "for idx,q in enumerate(queries):\n",
        "  q_embedded = glove_embedder.get_vecs_by_tokens(q)\n",
        "  search_result, cos_similarity = soft_search(q_embedded, keys, values)\n",
        "  sim_matrix[idx,:] = cos_similarity\n",
        "  print(\"\", q, search_result, cos_similarity, sep=\"\\n\")"
      ],
      "metadata": {
        "colab": {
          "base_uri": "https://localhost:8080/"
        },
        "id": "sRUhTIauzEmX",
        "outputId": "11469c05-9866-4eed-e635-13b35506396c"
      },
      "execution_count": null,
      "outputs": [
        {
          "output_type": "stream",
          "name": "stdout",
          "text": [
            "\n",
            "king\n",
            "queen\n",
            "tensor([0.4113, 0.5309, 0.0535, 0.7839, 0.5228])\n",
            "\n",
            "castle\n",
            "queen\n",
            "tensor([0.1891, 0.2858, 0.0292, 0.5805, 0.5555])\n",
            "\n",
            "car\n",
            "bicycle\n",
            "tensor([0.5011, 0.5797, 0.7560, 0.2883, 0.4729])\n",
            "\n",
            "girl\n",
            "woman\n",
            "tensor([0.9065, 0.7908, 0.3204, 0.5878, 0.4126])\n",
            "\n",
            "animal\n",
            "man\n",
            "tensor([0.5051, 0.5233, 0.3188, 0.2353, 0.3400])\n"
          ]
        }
      ]
    },
    {
      "cell_type": "code",
      "source": [
        "def plot_attention(matrix,queries,values):\n",
        "  plt.figure(dpi=150)\n",
        "  plt.imshow(matrix,cmap=\"Greys\")\n",
        "  plt.colorbar()\n",
        "  plt.xticks(ticks=range(len(values)), labels=values, size=10);\n",
        "  plt.xlabel(\"Values\",size=15)\n",
        "  plt.yticks(ticks=range(len(queries)), labels=queries, size=10);\n",
        "  plt.ylabel(\"Queries\",size=15);\n",
        "plot_attention(sim_matrix, queries, values)\n",
        "plt.title(\"Cosine Similarity\");"
      ],
      "metadata": {
        "colab": {
          "base_uri": "https://localhost:8080/",
          "height": 603
        },
        "id": "S3pGtzUJouKD",
        "outputId": "6fe5d7ed-c5f9-41bb-fdd8-d93c646dd000"
      },
      "execution_count": null,
      "outputs": [
        {
          "output_type": "display_data",
          "data": {
            "text/plain": [
              "<Figure size 900x600 with 2 Axes>"
            ],
            "image/png": "[encoded data removed]"
          },
          "metadata": {
            "needs_background": "light"
          }
        }
      ]
    },
    {
      "cell_type": "markdown",
      "source": [
        "#Dot Product Attention"
      ],
      "metadata": {
        "id": "0g9vIjhawmJY"
      }
    },
    {
      "cell_type": "code",
      "source": [
        "def dot_attention(q, K, V):\n",
        "  dict_size  = K.size(0) \n",
        "  similarity = torch.zeros(dict_size)\n",
        "  for idx in range(dict_size):\n",
        "    similarity[idx] = (q * K[idx,:]).sum()\n",
        "  attn_weights = F.softmax(similarity, dim=0)\n",
        "  weighted_V   = torch.zeros_like(V)\n",
        "  for idx in range(dict_size):\n",
        "    weighted_V[idx,:] = attn_weights[idx] * V[idx,:]\n",
        "  output = weighted_V.sum(dim=0)\n",
        "  return output, attn_weights"
      ],
      "metadata": {
        "id": "0SVd4WrY8xh3"
      },
      "execution_count": null,
      "outputs": []
    },
    {
      "cell_type": "code",
      "source": [
        "src_words  = [\"woman\", \"man\", \"bicycle\", \"queen\", \"house\"]\n",
        "values     = glove_embedder.get_vecs_by_tokens(src_words)\n",
        "keys       = values\n",
        "query      = glove_embedder.get_vecs_by_tokens(\"king\")\n",
        "search_result, attn_weights = dot_attention(query, keys, values)\n",
        "print(search_result.size(), search_result.dtype)\n",
        "print(attn_weights)"
      ],
      "metadata": {
        "colab": {
          "base_uri": "https://localhost:8080/"
        },
        "id": "R14JCOlUsyTy",
        "outputId": "ab76fcfc-55af-4b0c-d67a-fe182a679134"
      },
      "execution_count": null,
      "outputs": [
        {
          "output_type": "stream",
          "name": "stdout",
          "text": [
            "torch.Size([50]) torch.float32\n",
            "tensor([7.0899e-05, 9.9381e-04, 1.3337e-09, 9.9831e-01, 6.2366e-04])\n"
          ]
        }
      ]
    },
    {
      "cell_type": "code",
      "source": [
        "print(src_words)\n",
        "attn_matrix = torch.zeros(len(queries), len(src_words))\n",
        "for idx, q in enumerate(queries):\n",
        "  q_embedded = glove_embedder.get_vecs_by_tokens(q)\n",
        "  output, attn_weights = dot_attention(q_embedded, keys, keys)\n",
        "  attn_matrix[idx,:]   = attn_weights\n",
        "  print(\"\", q, attn_weights, sep=\"\\n\")\n",
        "plot_attention(attn_matrix, queries, src_words)\n",
        "plt.title(\"Dot Product Attention Weights\");"
      ],
      "metadata": {
        "colab": {
          "base_uri": "https://localhost:8080/",
          "height": 895
        },
        "id": "xr2zCPvC1FQz",
        "outputId": "af0b9f20-1f0d-4c50-c4ab-923a06c18825"
      },
      "execution_count": null,
      "outputs": [
        {
          "output_type": "stream",
          "name": "stdout",
          "text": [
            "['woman', 'man', 'bicycle', 'queen', 'house']\n",
            "\n",
            "king\n",
            "tensor([7.0899e-05, 9.9381e-04, 1.3337e-09, 9.9831e-01, 6.2366e-04])\n",
            "\n",
            "castle\n",
            "tensor([1.3843e-05, 1.6120e-04, 9.1942e-08, 6.9318e-01, 3.0664e-01])\n",
            "\n",
            "car\n",
            "tensor([3.1750e-03, 1.3041e-02, 9.8336e-01, 1.8839e-06, 4.1913e-04])\n",
            "\n",
            "girl\n",
            "tensor([9.9414e-01, 5.8476e-03, 3.3290e-09, 1.1873e-05, 6.3629e-08])\n",
            "\n",
            "animal\n",
            "tensor([5.8669e-01, 4.0910e-01, 1.2610e-03, 1.8631e-04, 2.7535e-03])\n"
          ]
        },
        {
          "output_type": "display_data",
          "data": {
            "text/plain": [
              "<Figure size 900x600 with 2 Axes>"
            ],
            "image/png": "[encoded data removed]"
          },
          "metadata": {
            "needs_background": "light"
          }
        }
      ]
    },
    {
      "cell_type": "code",
      "source": [
        "def dot_attention_vectorized(q, k, v):\n",
        "  similarity   = (q.reshape(1,-1) @ k.T)\n",
        "  attn_weights = F.softmax(similarity, dim=1)\n",
        "  weighted_v   = attn_weights.reshape(-1,1) * v\n",
        "  output       = weighted_v.sum(dim=0)\n",
        "  return output, attn_weights"
      ],
      "metadata": {
        "id": "l0uv_fPr2zeL"
      },
      "execution_count": null,
      "outputs": []
    },
    {
      "cell_type": "code",
      "source": [
        "q = \"truck\"\n",
        "q_embedded = glove_embedder.get_vecs_by_tokens(q)\n",
        "output, attn_weights   = dot_attention_vectorized(q_embedded, keys, keys)\n",
        "output2, attn_weights2 = dot_attention(q_embedded, keys, keys)\n",
        "print((output - output2).norm() / output.norm())\n",
        "print((attn_weights - attn_weights2).norm() / attn_weights.norm()) #should be ~0"
      ],
      "metadata": {
        "colab": {
          "base_uri": "https://localhost:8080/"
        },
        "id": "9Jqss3674mf8",
        "outputId": "5ffb5a0b-7815-4f48-bd92-95a35d9aaded"
      },
      "execution_count": null,
      "outputs": [
        {
          "output_type": "stream",
          "name": "stdout",
          "text": [
            "tensor(1.6622e-09)\n",
            "tensor(2.2921e-09)\n"
          ]
        }
      ]
    },
    {
      "cell_type": "code",
      "source": [
        "dot_attention = dot_attention_vectorized"
      ],
      "metadata": {
        "id": "71AOBr0_nGkx"
      },
      "execution_count": null,
      "outputs": []
    },
    {
      "cell_type": "markdown",
      "source": [
        "#Attention Decoder"
      ],
      "metadata": {
        "id": "YcIEkV0EjNxo"
      }
    },
    {
      "cell_type": "code",
      "source": [
        "class ContextRNNCell(nn.Module):\n",
        "    def __init__(self, embed_dim, hidden_dim):\n",
        "        super().__init__()\n",
        "        self.hidden_linear = nn.Linear(in_features = hidden_dim,\n",
        "                                      out_features = hidden_dim)\n",
        "        self.input_linear  = nn.Linear(in_features = embed_dim,\n",
        "                                      out_features = hidden_dim)\n",
        "        self.ctxt_linear   = nn.Linear(in_features = hidden_dim,\n",
        "                                      out_features = hidden_dim)\n",
        "        self.activation    = nn.Tanh()\n",
        "    def forward(self, one_embedded_token, hidden_state, context):\n",
        "        Z1        = self.input_linear(one_embedded_token)\n",
        "        Z2        = self.hidden_linear(hidden_state)\n",
        "        Z3        = self.ctxt_linear(context)\n",
        "        Y         = Z1 + Z2 + Z3\n",
        "        new_state = self.activation(Y)\n",
        "        return new_state"
      ],
      "metadata": {
        "id": "vCkjzg1M4iLz"
      },
      "execution_count": null,
      "outputs": []
    },
    {
      "cell_type": "code",
      "source": [
        "#Compare to DecoderRNNCell from 7_4\n",
        "class AttnDecoderRNNCell(nn.Module):\n",
        "    def __init__(self, embed_dim, hidden_dim):\n",
        "        super().__init__()\n",
        "        self.hidden_state  = torch.zeros(hidden_dim)\n",
        "        self.RNNcell       = ContextRNNCell(embed_dim,        #\n",
        "                                            hidden_dim)\n",
        "        self.output_linear = nn.Linear(in_features=hidden_dim,\n",
        "                                  out_features=len(tgt_vocab))\n",
        "        self.logsoftmax    = nn.LogSoftmax(dim=0)\n",
        "        \n",
        "    def forward(self, one_embedded_token, attn_context):\n",
        "        new_state           = self.RNNcell(one_embedded_token,\n",
        "                                           self.hidden_state,\n",
        "                                           attn_context)      #\n",
        "        tgt_token_scores   = self.output_linear(new_state)\n",
        "        tgt_token_logprobs = self.logsoftmax(tgt_token_scores)\n",
        "        self.hidden_state  = new_state \n",
        "        return tgt_token_logprobs"
      ],
      "metadata": {
        "id": "rBXl32g6DAaZ"
      },
      "execution_count": null,
      "outputs": []
    },
    {
      "cell_type": "code",
      "source": [
        "class AttnDecoder(nn.Module):\n",
        "    def __init__(self, embed_dim, hidden_dim):\n",
        "        super().__init__()\n",
        "        self.hidden_dim     = hidden_dim\n",
        "        self.tgt_embedding  = nn.Embedding(len(tgt_vocab),\n",
        "                                           embed_dim)  \n",
        "        self.RNNcell        = AttnDecoderRNNCell(embed_dim,\n",
        "                                                 hidden_dim)  \n",
        "        self.attn_layer     = dot_attention\n",
        "    def forward(self, annotations, tgt_tokens):\n",
        "      self.RNNcell.hidden_state = torch.zeros(self.hidden_dim)\n",
        "      keys   = annotations\n",
        "      values = annotations \n",
        "      translated_tokens = [START_Token]\n",
        "      sentence_loss = 0\n",
        "      for idx in range(len(tgt_tokens)-1):\n",
        "        previous_token  = translated_tokens[idx]\n",
        "        embedded_token  = self.tgt_embedding(previous_token)\n",
        "        query           = self.RNNcell.hidden_state\n",
        "        attn_context,_  = self.attn_layer(query, keys, values)  #\n",
        "        logprobs        = self.RNNcell(embedded_token,\n",
        "                                       attn_context)\n",
        "        predicted_token = logprobs.argmax()\n",
        "        translated_tokens.append(predicted_token.detach())\n",
        "        \n",
        "        correct_token   = tgt_tokens[idx+1]\n",
        "        token_loss      = -logprobs[correct_token]\n",
        "        sentence_loss  += token_loss\n",
        "\n",
        "        if predicted_token == END_Token:\n",
        "          break\n",
        "      return translated_tokens, sentence_loss"
      ],
      "metadata": {
        "id": "YbEzW5vm-Tr8"
      },
      "execution_count": null,
      "outputs": []
    },
    {
      "cell_type": "code",
      "source": [
        "class Translator(nn.Module):\n",
        "      def __init__(self, embed_dim, hidden_dim, encoder_layers):\n",
        "        super().__init__()\n",
        "        self.encoder = Encoder(embed_dim,\n",
        "                               hidden_dim,\n",
        "                               encoder_layers)\n",
        "        self.decoder = AttnDecoder(embed_dim, hidden_dim)\n",
        "      def forward(self, src_tokens, tgt_tokens):\n",
        "        annotations = self.encoder(src_tokens)\n",
        "        return self.decoder(annotations, tgt_tokens)"
      ],
      "metadata": {
        "id": "r-mWWFJ_o-dL"
      },
      "execution_count": null,
      "outputs": []
    },
    {
      "cell_type": "markdown",
      "source": [
        "#Training"
      ],
      "metadata": {
        "id": "ZYUyC4Yxsc8x"
      }
    },
    {
      "cell_type": "code",
      "source": [
        "def iterate_one_pair(src_tokens, tgt_tokens):\n",
        "    model.train()  \n",
        "    optimizer.zero_grad()\n",
        "    output, loss = model(src_tokens, tgt_tokens)\n",
        "    loss.backward()\n",
        "    optimizer.step()\n",
        "    return loss.detach()"
      ],
      "metadata": {
        "id": "Yt76b77Worze"
      },
      "execution_count": null,
      "outputs": []
    },
    {
      "cell_type": "code",
      "source": [
        "model     = Translator(50,50,2)\n",
        "optimizer = torch.optim.AdamW(model.parameters())"
      ],
      "metadata": {
        "id": "9S28peMPJMDQ"
      },
      "execution_count": null,
      "outputs": []
    },
    {
      "cell_type": "code",
      "source": [
        "#overfit a small batch to check if learning _can_ occur\n",
        "num_samples, epochs = 10, 200\n",
        "for epoch in range(epochs):\n",
        "  batch_loss_agg = torch.tensor([0.])\n",
        "  for idx in range(num_samples):\n",
        "    batch_loss_agg += iterate_one_pair(src_tokens[idx], tgt_tokens[idx])\n",
        "  epoch_loss = batch_loss_agg / num_samples\n",
        "  if epoch % 20 == 0:\n",
        "    print(\"Epoch\", epoch, \" loss:\", epoch_loss.item())"
      ],
      "metadata": {
        "id": "EjEYevo7oe6j",
        "colab": {
          "base_uri": "https://localhost:8080/"
        },
        "outputId": "546c1bd2-9f97-439a-c847-3dc21838ba9f"
      },
      "execution_count": null,
      "outputs": [
        {
          "output_type": "stream",
          "name": "stdout",
          "text": [
            "Epoch 0  loss: 51.21791458129883\n",
            "Epoch 20  loss: 9.8264799118042\n",
            "Epoch 40  loss: 8.278763771057129\n",
            "Epoch 60  loss: 6.569948673248291\n",
            "Epoch 80  loss: 4.590009689331055\n",
            "Epoch 100  loss: 1.8273242712020874\n",
            "Epoch 120  loss: 1.0401173830032349\n",
            "Epoch 140  loss: 0.672622799873352\n",
            "Epoch 160  loss: 0.47169360518455505\n",
            "Epoch 180  loss: 0.34629207849502563\n"
          ]
        }
      ]
    },
    {
      "cell_type": "code",
      "source": [
        "with torch.no_grad():\n",
        "  for idx in range(num_samples):\n",
        "    a, b = model(src_tokens[idx], tgt_tokens[idx])\n",
        "    predicted_itos = [tgt_vocab.get_itos()[x.item()] for x in a] \n",
        "    ground_truth   = [tgt_vocab.get_itos()[x.item()] for x in tgt_tokens[idx]] \n",
        "    print(predicted_itos, ground_truth)"
      ],
      "metadata": {
        "id": "11bVM43vrxUA",
        "colab": {
          "base_uri": "https://localhost:8080/"
        },
        "outputId": "cc287cc4-6b92-4fac-f32b-92ecb9e95c4f"
      },
      "execution_count": null,
      "outputs": [
        {
          "output_type": "stream",
          "name": "stdout",
          "text": [
            "['<START>', 'Je', 'pense', 'que', 'ça', 'aide.', '<END>'] ['<START>', 'Je', 'pense', 'que', 'ça', 'aide.', '<END>']\n",
            "['<START>', 'Il', 'était', 'trop', 'dur.', '<END>'] ['<START>', 'Il', 'était', 'trop', 'dur.', '<END>']\n",
            "['<START>', 'Écrivez', 'votre', 'nom', 'en', 'majuscules.', '<END>'] ['<START>', 'Écrivez', 'votre', 'nom', 'en', 'majuscules.', '<END>']\n",
            "['<START>', 'Où', 'séjournes-tu', '?', '<END>'] ['<START>', 'Où', 'séjournes-tu', '?', '<END>']\n",
            "['<START>', 'Elle', 'entrouvrit', 'la', 'porte.', '<END>'] ['<START>', 'Elle', 'entrouvrit', 'la', 'porte.', '<END>']\n",
            "['<START>', 'Je', 'ne', 'suis', 'pas', 'intimidée.', '<END>'] ['<START>', 'Je', 'ne', 'suis', 'pas', 'intimidée.', '<END>']\n",
            "['<START>', \"C'est\", 'gentil.', '<END>'] ['<START>', \"C'est\", 'gentil.', '<END>']\n",
            "['<START>', 'Personne', 'ne', 'le', 'saura.', '<END>'] ['<START>', 'Personne', 'ne', 'le', 'saura.', '<END>']\n",
            "['<START>', 'Ne', 'va', 'pas', 'là.', '<END>'] ['<START>', 'Ne', 'va', 'pas', 'là.', '<END>']\n",
            "['<START>', 'La', 'maison', 'est', 'inoccupée.', '<END>'] ['<START>', 'La', 'maison', 'est', 'inoccupée.', '<END>']\n"
          ]
        }
      ]
    },
    {
      "cell_type": "code",
      "source": [
        "with torch.no_grad():\n",
        "  for idx in range(num_samples, num_samples+5):\n",
        "    a, b = model(src_tokens[idx], tgt_tokens[idx])\n",
        "    predicted_itos = [tgt_vocab.get_itos()[x.item()] for x in a] \n",
        "    ground_truth   = [tgt_vocab.get_itos()[x.item()] for x in tgt_tokens[idx]] \n",
        "    print(predicted_itos, ground_truth)"
      ],
      "metadata": {
        "id": "epVkjJ_5wxZK",
        "colab": {
          "base_uri": "https://localhost:8080/"
        },
        "outputId": "b54faf7a-b009-4c43-e6d1-a0facbf01774"
      },
      "execution_count": null,
      "outputs": [
        {
          "output_type": "stream",
          "name": "stdout",
          "text": [
            "['<START>', 'Où', 'séjournes-tu', '?', '<END>'] ['<START>', 'Nous', 'avons', 'toutes', 'nos', 'secrets.', '<END>']\n",
            "['<START>', 'Je', 'ne', 'suis', 'pas'] ['<START>', \"J'aime\", 'cette', 'chambre.', '<END>']\n",
            "['<START>', 'Écrivez', 'votre', 'nom', 'en', 'majuscules.', '<END>'] ['<START>', 'Nous', 'ne', 'pouvons', 'pas', \"l'aider.\", '<END>']\n",
            "['<START>', 'Où', 'séjournes-tu', '?', '<END>'] ['<START>', 'Ils', 'sont', 'nos', 'invités.', '<END>']\n",
            "['<START>', 'Où', 'séjournes-tu', '?', '<END>'] ['<START>', 'Voulez-vous', 'coucher', 'avec', 'moi', '?', '<END>']\n"
          ]
        }
      ]
    }
  ]
}