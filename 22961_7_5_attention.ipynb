{
  "nbformat": 4,
  "nbformat_minor": 0,
  "metadata": {
    "colab": {
      "provenance": [],
      "authorship_tag": "ABX9TyOc+FLHCNlpbGlFJoqwehns",
      "include_colab_link": true
    },
    "kernelspec": {
      "name": "python3",
      "display_name": "Python 3"
    },
    "language_info": {
      "name": "python"
    },
    "widgets": {
      "application/vnd.jupyter.widget-state+json": {
        "4eb93f083b994900885e9b4a18eb0462": {
          "model_module": "@jupyter-widgets/controls",
          "model_name": "HBoxModel",
          "model_module_version": "1.5.0",
          "state": {
            "_dom_classes": [],
            "_model_module": "@jupyter-widgets/controls",
            "_model_module_version": "1.5.0",
            "_model_name": "HBoxModel",
            "_view_count": null,
            "_view_module": "@jupyter-widgets/controls",
            "_view_module_version": "1.5.0",
            "_view_name": "HBoxView",
            "box_style": "",
            "children": [
              "IPY_MODEL_8eba8efe4892480981a5bf7259b4583c",
              "IPY_MODEL_d6ead616f8204e5c8bab3a62b357ce43",
              "IPY_MODEL_93083d6537af4824b36c471a8005ee6c"
            ],
            "layout": "IPY_MODEL_9b1624aca9394fda9b1864d3d5b098aa"
          }
        },
        "8eba8efe4892480981a5bf7259b4583c": {
          "model_module": "@jupyter-widgets/controls",
          "model_name": "HTMLModel",
          "model_module_version": "1.5.0",
          "state": {
            "_dom_classes": [],
            "_model_module": "@jupyter-widgets/controls",
            "_model_module_version": "1.5.0",
            "_model_name": "HTMLModel",
            "_view_count": null,
            "_view_module": "@jupyter-widgets/controls",
            "_view_module_version": "1.5.0",
            "_view_name": "HTMLView",
            "description": "",
            "description_tooltip": null,
            "layout": "IPY_MODEL_b4632cb81eff4816afc5df0321e3dedc",
            "placeholder": "​",
            "style": "IPY_MODEL_101c4f6721af49c0bd30871f59d1e160",
            "value": "Downloading builder script: 100%"
          }
        },
        "d6ead616f8204e5c8bab3a62b357ce43": {
          "model_module": "@jupyter-widgets/controls",
          "model_name": "FloatProgressModel",
          "model_module_version": "1.5.0",
          "state": {
            "_dom_classes": [],
            "_model_module": "@jupyter-widgets/controls",
            "_model_module_version": "1.5.0",
            "_model_name": "FloatProgressModel",
            "_view_count": null,
            "_view_module": "@jupyter-widgets/controls",
            "_view_module_version": "1.5.0",
            "_view_name": "ProgressView",
            "bar_style": "success",
            "description": "",
            "description_tooltip": null,
            "layout": "IPY_MODEL_3c9f1f980bca4689b1b6cfc12a1253f3",
            "max": 4407,
            "min": 0,
            "orientation": "horizontal",
            "style": "IPY_MODEL_6992ff9e5f444e60957e29f350b9dbb4",
            "value": 4407
          }
        },
        "93083d6537af4824b36c471a8005ee6c": {
          "model_module": "@jupyter-widgets/controls",
          "model_name": "HTMLModel",
          "model_module_version": "1.5.0",
          "state": {
            "_dom_classes": [],
            "_model_module": "@jupyter-widgets/controls",
            "_model_module_version": "1.5.0",
            "_model_name": "HTMLModel",
            "_view_count": null,
            "_view_module": "@jupyter-widgets/controls",
            "_view_module_version": "1.5.0",
            "_view_name": "HTMLView",
            "description": "",
            "description_tooltip": null,
            "layout": "IPY_MODEL_659bcb60019d441490b91289c27c6158",
            "placeholder": "​",
            "style": "IPY_MODEL_bf2516c757b6432ebdf8578538634503",
            "value": " 4.41k/4.41k [00:00&lt;00:00, 146kB/s]"
          }
        },
        "9b1624aca9394fda9b1864d3d5b098aa": {
          "model_module": "@jupyter-widgets/base",
          "model_name": "LayoutModel",
          "model_module_version": "1.2.0",
          "state": {
            "_model_module": "@jupyter-widgets/base",
            "_model_module_version": "1.2.0",
            "_model_name": "LayoutModel",
            "_view_count": null,
            "_view_module": "@jupyter-widgets/base",
            "_view_module_version": "1.2.0",
            "_view_name": "LayoutView",
            "align_content": null,
            "align_items": null,
            "align_self": null,
            "border": null,
            "bottom": null,
            "display": null,
            "flex": null,
            "flex_flow": null,
            "grid_area": null,
            "grid_auto_columns": null,
            "grid_auto_flow": null,
            "grid_auto_rows": null,
            "grid_column": null,
            "grid_gap": null,
            "grid_row": null,
            "grid_template_areas": null,
            "grid_template_columns": null,
            "grid_template_rows": null,
            "height": null,
            "justify_content": null,
            "justify_items": null,
            "left": null,
            "margin": null,
            "max_height": null,
            "max_width": null,
            "min_height": null,
            "min_width": null,
            "object_fit": null,
            "object_position": null,
            "order": null,
            "overflow": null,
            "overflow_x": null,
            "overflow_y": null,
            "padding": null,
            "right": null,
            "top": null,
            "visibility": null,
            "width": null
          }
        },
        "b4632cb81eff4816afc5df0321e3dedc": {
          "model_module": "@jupyter-widgets/base",
          "model_name": "LayoutModel",
          "model_module_version": "1.2.0",
          "state": {
            "_model_module": "@jupyter-widgets/base",
            "_model_module_version": "1.2.0",
            "_model_name": "LayoutModel",
            "_view_count": null,
            "_view_module": "@jupyter-widgets/base",
            "_view_module_version": "1.2.0",
            "_view_name": "LayoutView",
            "align_content": null,
            "align_items": null,
            "align_self": null,
            "border": null,
            "bottom": null,
            "display": null,
            "flex": null,
            "flex_flow": null,
            "grid_area": null,
            "grid_auto_columns": null,
            "grid_auto_flow": null,
            "grid_auto_rows": null,
            "grid_column": null,
            "grid_gap": null,
            "grid_row": null,
            "grid_template_areas": null,
            "grid_template_columns": null,
            "grid_template_rows": null,
            "height": null,
            "justify_content": null,
            "justify_items": null,
            "left": null,
            "margin": null,
            "max_height": null,
            "max_width": null,
            "min_height": null,
            "min_width": null,
            "object_fit": null,
            "object_position": null,
            "order": null,
            "overflow": null,
            "overflow_x": null,
            "overflow_y": null,
            "padding": null,
            "right": null,
            "top": null,
            "visibility": null,
            "width": null
          }
        },
        "101c4f6721af49c0bd30871f59d1e160": {
          "model_module": "@jupyter-widgets/controls",
          "model_name": "DescriptionStyleModel",
          "model_module_version": "1.5.0",
          "state": {
            "_model_module": "@jupyter-widgets/controls",
            "_model_module_version": "1.5.0",
            "_model_name": "DescriptionStyleModel",
            "_view_count": null,
            "_view_module": "@jupyter-widgets/base",
            "_view_module_version": "1.2.0",
            "_view_name": "StyleView",
            "description_width": ""
          }
        },
        "3c9f1f980bca4689b1b6cfc12a1253f3": {
          "model_module": "@jupyter-widgets/base",
          "model_name": "LayoutModel",
          "model_module_version": "1.2.0",
          "state": {
            "_model_module": "@jupyter-widgets/base",
            "_model_module_version": "1.2.0",
            "_model_name": "LayoutModel",
            "_view_count": null,
            "_view_module": "@jupyter-widgets/base",
            "_view_module_version": "1.2.0",
            "_view_name": "LayoutView",
            "align_content": null,
            "align_items": null,
            "align_self": null,
            "border": null,
            "bottom": null,
            "display": null,
            "flex": null,
            "flex_flow": null,
            "grid_area": null,
            "grid_auto_columns": null,
            "grid_auto_flow": null,
            "grid_auto_rows": null,
            "grid_column": null,
            "grid_gap": null,
            "grid_row": null,
            "grid_template_areas": null,
            "grid_template_columns": null,
            "grid_template_rows": null,
            "height": null,
            "justify_content": null,
            "justify_items": null,
            "left": null,
            "margin": null,
            "max_height": null,
            "max_width": null,
            "min_height": null,
            "min_width": null,
            "object_fit": null,
            "object_position": null,
            "order": null,
            "overflow": null,
            "overflow_x": null,
            "overflow_y": null,
            "padding": null,
            "right": null,
            "top": null,
            "visibility": null,
            "width": null
          }
        },
        "6992ff9e5f444e60957e29f350b9dbb4": {
          "model_module": "@jupyter-widgets/controls",
          "model_name": "ProgressStyleModel",
          "model_module_version": "1.5.0",
          "state": {
            "_model_module": "@jupyter-widgets/controls",
            "_model_module_version": "1.5.0",
            "_model_name": "ProgressStyleModel",
            "_view_count": null,
            "_view_module": "@jupyter-widgets/base",
            "_view_module_version": "1.2.0",
            "_view_name": "StyleView",
            "bar_color": null,
            "description_width": ""
          }
        },
        "659bcb60019d441490b91289c27c6158": {
          "model_module": "@jupyter-widgets/base",
          "model_name": "LayoutModel",
          "model_module_version": "1.2.0",
          "state": {
            "_model_module": "@jupyter-widgets/base",
            "_model_module_version": "1.2.0",
            "_model_name": "LayoutModel",
            "_view_count": null,
            "_view_module": "@jupyter-widgets/base",
            "_view_module_version": "1.2.0",
            "_view_name": "LayoutView",
            "align_content": null,
            "align_items": null,
            "align_self": null,
            "border": null,
            "bottom": null,
            "display": null,
            "flex": null,
            "flex_flow": null,
            "grid_area": null,
            "grid_auto_columns": null,
            "grid_auto_flow": null,
            "grid_auto_rows": null,
            "grid_column": null,
            "grid_gap": null,
            "grid_row": null,
            "grid_template_areas": null,
            "grid_template_columns": null,
            "grid_template_rows": null,
            "height": null,
            "justify_content": null,
            "justify_items": null,
            "left": null,
            "margin": null,
            "max_height": null,
            "max_width": null,
            "min_height": null,
            "min_width": null,
            "object_fit": null,
            "object_position": null,
            "order": null,
            "overflow": null,
            "overflow_x": null,
            "overflow_y": null,
            "padding": null,
            "right": null,
            "top": null,
            "visibility": null,
            "width": null
          }
        },
        "bf2516c757b6432ebdf8578538634503": {
          "model_module": "@jupyter-widgets/controls",
          "model_name": "DescriptionStyleModel",
          "model_module_version": "1.5.0",
          "state": {
            "_model_module": "@jupyter-widgets/controls",
            "_model_module_version": "1.5.0",
            "_model_name": "DescriptionStyleModel",
            "_view_count": null,
            "_view_module": "@jupyter-widgets/base",
            "_view_module_version": "1.2.0",
            "_view_name": "StyleView",
            "description_width": ""
          }
        },
        "3d4e430962e744a4b35dd767d28dc359": {
          "model_module": "@jupyter-widgets/controls",
          "model_name": "HBoxModel",
          "model_module_version": "1.5.0",
          "state": {
            "_dom_classes": [],
            "_model_module": "@jupyter-widgets/controls",
            "_model_module_version": "1.5.0",
            "_model_name": "HBoxModel",
            "_view_count": null,
            "_view_module": "@jupyter-widgets/controls",
            "_view_module_version": "1.5.0",
            "_view_name": "HBoxView",
            "box_style": "",
            "children": [
              "IPY_MODEL_1098845820cf4dbfb8e4de4b3d1abfc6",
              "IPY_MODEL_6eefca30fd7544ad8e3c9548d93f44c2",
              "IPY_MODEL_da35f48d922348b481e7e47acccb6640"
            ],
            "layout": "IPY_MODEL_ac87318a58e84508b54277c0d1e1c379"
          }
        },
        "1098845820cf4dbfb8e4de4b3d1abfc6": {
          "model_module": "@jupyter-widgets/controls",
          "model_name": "HTMLModel",
          "model_module_version": "1.5.0",
          "state": {
            "_dom_classes": [],
            "_model_module": "@jupyter-widgets/controls",
            "_model_module_version": "1.5.0",
            "_model_name": "HTMLModel",
            "_view_count": null,
            "_view_module": "@jupyter-widgets/controls",
            "_view_module_version": "1.5.0",
            "_view_name": "HTMLView",
            "description": "",
            "description_tooltip": null,
            "layout": "IPY_MODEL_2df1c927740a4699acdc453c1fe9abed",
            "placeholder": "​",
            "style": "IPY_MODEL_721d5be852584b8592536577392ce3a5",
            "value": "Downloading readme: 100%"
          }
        },
        "6eefca30fd7544ad8e3c9548d93f44c2": {
          "model_module": "@jupyter-widgets/controls",
          "model_name": "FloatProgressModel",
          "model_module_version": "1.5.0",
          "state": {
            "_dom_classes": [],
            "_model_module": "@jupyter-widgets/controls",
            "_model_module_version": "1.5.0",
            "_model_name": "FloatProgressModel",
            "_view_count": null,
            "_view_module": "@jupyter-widgets/controls",
            "_view_module_version": "1.5.0",
            "_view_name": "ProgressView",
            "bar_style": "success",
            "description": "",
            "description_tooltip": null,
            "layout": "IPY_MODEL_761cae8cb09143ef979c3e70aa85bb64",
            "max": 8928,
            "min": 0,
            "orientation": "horizontal",
            "style": "IPY_MODEL_75972dc02abb42d6ae1d8f43113ee835",
            "value": 8928
          }
        },
        "da35f48d922348b481e7e47acccb6640": {
          "model_module": "@jupyter-widgets/controls",
          "model_name": "HTMLModel",
          "model_module_version": "1.5.0",
          "state": {
            "_dom_classes": [],
            "_model_module": "@jupyter-widgets/controls",
            "_model_module_version": "1.5.0",
            "_model_name": "HTMLModel",
            "_view_count": null,
            "_view_module": "@jupyter-widgets/controls",
            "_view_module_version": "1.5.0",
            "_view_name": "HTMLView",
            "description": "",
            "description_tooltip": null,
            "layout": "IPY_MODEL_e3cf7bb3203c492db4330245f6239ad8",
            "placeholder": "​",
            "style": "IPY_MODEL_4d34fc7153634a35ae7aca147492734d",
            "value": " 8.93k/8.93k [00:00&lt;00:00, 357kB/s]"
          }
        },
        "ac87318a58e84508b54277c0d1e1c379": {
          "model_module": "@jupyter-widgets/base",
          "model_name": "LayoutModel",
          "model_module_version": "1.2.0",
          "state": {
            "_model_module": "@jupyter-widgets/base",
            "_model_module_version": "1.2.0",
            "_model_name": "LayoutModel",
            "_view_count": null,
            "_view_module": "@jupyter-widgets/base",
            "_view_module_version": "1.2.0",
            "_view_name": "LayoutView",
            "align_content": null,
            "align_items": null,
            "align_self": null,
            "border": null,
            "bottom": null,
            "display": null,
            "flex": null,
            "flex_flow": null,
            "grid_area": null,
            "grid_auto_columns": null,
            "grid_auto_flow": null,
            "grid_auto_rows": null,
            "grid_column": null,
            "grid_gap": null,
            "grid_row": null,
            "grid_template_areas": null,
            "grid_template_columns": null,
            "grid_template_rows": null,
            "height": null,
            "justify_content": null,
            "justify_items": null,
            "left": null,
            "margin": null,
            "max_height": null,
            "max_width": null,
            "min_height": null,
            "min_width": null,
            "object_fit": null,
            "object_position": null,
            "order": null,
            "overflow": null,
            "overflow_x": null,
            "overflow_y": null,
            "padding": null,
            "right": null,
            "top": null,
            "visibility": null,
            "width": null
          }
        },
        "2df1c927740a4699acdc453c1fe9abed": {
          "model_module": "@jupyter-widgets/base",
          "model_name": "LayoutModel",
          "model_module_version": "1.2.0",
          "state": {
            "_model_module": "@jupyter-widgets/base",
            "_model_module_version": "1.2.0",
            "_model_name": "LayoutModel",
            "_view_count": null,
            "_view_module": "@jupyter-widgets/base",
            "_view_module_version": "1.2.0",
            "_view_name": "LayoutView",
            "align_content": null,
            "align_items": null,
            "align_self": null,
            "border": null,
            "bottom": null,
            "display": null,
            "flex": null,
            "flex_flow": null,
            "grid_area": null,
            "grid_auto_columns": null,
            "grid_auto_flow": null,
            "grid_auto_rows": null,
            "grid_column": null,
            "grid_gap": null,
            "grid_row": null,
            "grid_template_areas": null,
            "grid_template_columns": null,
            "grid_template_rows": null,
            "height": null,
            "justify_content": null,
            "justify_items": null,
            "left": null,
            "margin": null,
            "max_height": null,
            "max_width": null,
            "min_height": null,
            "min_width": null,
            "object_fit": null,
            "object_position": null,
            "order": null,
            "overflow": null,
            "overflow_x": null,
            "overflow_y": null,
            "padding": null,
            "right": null,
            "top": null,
            "visibility": null,
            "width": null
          }
        },
        "721d5be852584b8592536577392ce3a5": {
          "model_module": "@jupyter-widgets/controls",
          "model_name": "DescriptionStyleModel",
          "model_module_version": "1.5.0",
          "state": {
            "_model_module": "@jupyter-widgets/controls",
            "_model_module_version": "1.5.0",
            "_model_name": "DescriptionStyleModel",
            "_view_count": null,
            "_view_module": "@jupyter-widgets/base",
            "_view_module_version": "1.2.0",
            "_view_name": "StyleView",
            "description_width": ""
          }
        },
        "761cae8cb09143ef979c3e70aa85bb64": {
          "model_module": "@jupyter-widgets/base",
          "model_name": "LayoutModel",
          "model_module_version": "1.2.0",
          "state": {
            "_model_module": "@jupyter-widgets/base",
            "_model_module_version": "1.2.0",
            "_model_name": "LayoutModel",
            "_view_count": null,
            "_view_module": "@jupyter-widgets/base",
            "_view_module_version": "1.2.0",
            "_view_name": "LayoutView",
            "align_content": null,
            "align_items": null,
            "align_self": null,
            "border": null,
            "bottom": null,
            "display": null,
            "flex": null,
            "flex_flow": null,
            "grid_area": null,
            "grid_auto_columns": null,
            "grid_auto_flow": null,
            "grid_auto_rows": null,
            "grid_column": null,
            "grid_gap": null,
            "grid_row": null,
            "grid_template_areas": null,
            "grid_template_columns": null,
            "grid_template_rows": null,
            "height": null,
            "justify_content": null,
            "justify_items": null,
            "left": null,
            "margin": null,
            "max_height": null,
            "max_width": null,
            "min_height": null,
            "min_width": null,
            "object_fit": null,
            "object_position": null,
            "order": null,
            "overflow": null,
            "overflow_x": null,
            "overflow_y": null,
            "padding": null,
            "right": null,
            "top": null,
            "visibility": null,
            "width": null
          }
        },
        "75972dc02abb42d6ae1d8f43113ee835": {
          "model_module": "@jupyter-widgets/controls",
          "model_name": "ProgressStyleModel",
          "model_module_version": "1.5.0",
          "state": {
            "_model_module": "@jupyter-widgets/controls",
            "_model_module_version": "1.5.0",
            "_model_name": "ProgressStyleModel",
            "_view_count": null,
            "_view_module": "@jupyter-widgets/base",
            "_view_module_version": "1.2.0",
            "_view_name": "StyleView",
            "bar_color": null,
            "description_width": ""
          }
        },
        "e3cf7bb3203c492db4330245f6239ad8": {
          "model_module": "@jupyter-widgets/base",
          "model_name": "LayoutModel",
          "model_module_version": "1.2.0",
          "state": {
            "_model_module": "@jupyter-widgets/base",
            "_model_module_version": "1.2.0",
            "_model_name": "LayoutModel",
            "_view_count": null,
            "_view_module": "@jupyter-widgets/base",
            "_view_module_version": "1.2.0",
            "_view_name": "LayoutView",
            "align_content": null,
            "align_items": null,
            "align_self": null,
            "border": null,
            "bottom": null,
            "display": null,
            "flex": null,
            "flex_flow": null,
            "grid_area": null,
            "grid_auto_columns": null,
            "grid_auto_flow": null,
            "grid_auto_rows": null,
            "grid_column": null,
            "grid_gap": null,
            "grid_row": null,
            "grid_template_areas": null,
            "grid_template_columns": null,
            "grid_template_rows": null,
            "height": null,
            "justify_content": null,
            "justify_items": null,
            "left": null,
            "margin": null,
            "max_height": null,
            "max_width": null,
            "min_height": null,
            "min_width": null,
            "object_fit": null,
            "object_position": null,
            "order": null,
            "overflow": null,
            "overflow_x": null,
            "overflow_y": null,
            "padding": null,
            "right": null,
            "top": null,
            "visibility": null,
            "width": null
          }
        },
        "4d34fc7153634a35ae7aca147492734d": {
          "model_module": "@jupyter-widgets/controls",
          "model_name": "DescriptionStyleModel",
          "model_module_version": "1.5.0",
          "state": {
            "_model_module": "@jupyter-widgets/controls",
            "_model_module_version": "1.5.0",
            "_model_name": "DescriptionStyleModel",
            "_view_count": null,
            "_view_module": "@jupyter-widgets/base",
            "_view_module_version": "1.2.0",
            "_view_name": "StyleView",
            "description_width": ""
          }
        },
        "ea9598bd881c4306ab2961fee1800ff8": {
          "model_module": "@jupyter-widgets/controls",
          "model_name": "HBoxModel",
          "model_module_version": "1.5.0",
          "state": {
            "_dom_classes": [],
            "_model_module": "@jupyter-widgets/controls",
            "_model_module_version": "1.5.0",
            "_model_name": "HBoxModel",
            "_view_count": null,
            "_view_module": "@jupyter-widgets/controls",
            "_view_module_version": "1.5.0",
            "_view_name": "HBoxView",
            "box_style": "",
            "children": [
              "IPY_MODEL_39f316989b7c4bf8a42c69da02bbb587",
              "IPY_MODEL_d1a1d631df7e40bfb5828e3bccd4c265",
              "IPY_MODEL_6d70346204914f57bbf5c5d261ff98a3"
            ],
            "layout": "IPY_MODEL_825c3c5ff2e64d308b4746a645ad9439"
          }
        },
        "39f316989b7c4bf8a42c69da02bbb587": {
          "model_module": "@jupyter-widgets/controls",
          "model_name": "HTMLModel",
          "model_module_version": "1.5.0",
          "state": {
            "_dom_classes": [],
            "_model_module": "@jupyter-widgets/controls",
            "_model_module_version": "1.5.0",
            "_model_name": "HTMLModel",
            "_view_count": null,
            "_view_module": "@jupyter-widgets/controls",
            "_view_module_version": "1.5.0",
            "_view_name": "HTMLView",
            "description": "",
            "description_tooltip": null,
            "layout": "IPY_MODEL_2b4859c611eb4794837e5029c84f4e04",
            "placeholder": "​",
            "style": "IPY_MODEL_7ce74bca489749f9b04a3e4e76843a8c",
            "value": "Downloading data: 100%"
          }
        },
        "d1a1d631df7e40bfb5828e3bccd4c265": {
          "model_module": "@jupyter-widgets/controls",
          "model_name": "FloatProgressModel",
          "model_module_version": "1.5.0",
          "state": {
            "_dom_classes": [],
            "_model_module": "@jupyter-widgets/controls",
            "_model_module_version": "1.5.0",
            "_model_name": "FloatProgressModel",
            "_view_count": null,
            "_view_module": "@jupyter-widgets/controls",
            "_view_module_version": "1.5.0",
            "_view_name": "ProgressView",
            "bar_style": "success",
            "description": "",
            "description_tooltip": null,
            "layout": "IPY_MODEL_56b78b821fc943f39d955d82d3a91061",
            "max": 7832731,
            "min": 0,
            "orientation": "horizontal",
            "style": "IPY_MODEL_9fda494258e042eeb489230f2ca72f16",
            "value": 7832731
          }
        },
        "6d70346204914f57bbf5c5d261ff98a3": {
          "model_module": "@jupyter-widgets/controls",
          "model_name": "HTMLModel",
          "model_module_version": "1.5.0",
          "state": {
            "_dom_classes": [],
            "_model_module": "@jupyter-widgets/controls",
            "_model_module_version": "1.5.0",
            "_model_name": "HTMLModel",
            "_view_count": null,
            "_view_module": "@jupyter-widgets/controls",
            "_view_module_version": "1.5.0",
            "_view_name": "HTMLView",
            "description": "",
            "description_tooltip": null,
            "layout": "IPY_MODEL_183f3ad03a334963bbce377ee98cf8f6",
            "placeholder": "​",
            "style": "IPY_MODEL_e7191019eadb4074bc9590c32aac41f2",
            "value": " 7.83M/7.83M [00:02&lt;00:00, 8.59MB/s]"
          }
        },
        "825c3c5ff2e64d308b4746a645ad9439": {
          "model_module": "@jupyter-widgets/base",
          "model_name": "LayoutModel",
          "model_module_version": "1.2.0",
          "state": {
            "_model_module": "@jupyter-widgets/base",
            "_model_module_version": "1.2.0",
            "_model_name": "LayoutModel",
            "_view_count": null,
            "_view_module": "@jupyter-widgets/base",
            "_view_module_version": "1.2.0",
            "_view_name": "LayoutView",
            "align_content": null,
            "align_items": null,
            "align_self": null,
            "border": null,
            "bottom": null,
            "display": null,
            "flex": null,
            "flex_flow": null,
            "grid_area": null,
            "grid_auto_columns": null,
            "grid_auto_flow": null,
            "grid_auto_rows": null,
            "grid_column": null,
            "grid_gap": null,
            "grid_row": null,
            "grid_template_areas": null,
            "grid_template_columns": null,
            "grid_template_rows": null,
            "height": null,
            "justify_content": null,
            "justify_items": null,
            "left": null,
            "margin": null,
            "max_height": null,
            "max_width": null,
            "min_height": null,
            "min_width": null,
            "object_fit": null,
            "object_position": null,
            "order": null,
            "overflow": null,
            "overflow_x": null,
            "overflow_y": null,
            "padding": null,
            "right": null,
            "top": null,
            "visibility": null,
            "width": null
          }
        },
        "2b4859c611eb4794837e5029c84f4e04": {
          "model_module": "@jupyter-widgets/base",
          "model_name": "LayoutModel",
          "model_module_version": "1.2.0",
          "state": {
            "_model_module": "@jupyter-widgets/base",
            "_model_module_version": "1.2.0",
            "_model_name": "LayoutModel",
            "_view_count": null,
            "_view_module": "@jupyter-widgets/base",
            "_view_module_version": "1.2.0",
            "_view_name": "LayoutView",
            "align_content": null,
            "align_items": null,
            "align_self": null,
            "border": null,
            "bottom": null,
            "display": null,
            "flex": null,
            "flex_flow": null,
            "grid_area": null,
            "grid_auto_columns": null,
            "grid_auto_flow": null,
            "grid_auto_rows": null,
            "grid_column": null,
            "grid_gap": null,
            "grid_row": null,
            "grid_template_areas": null,
            "grid_template_columns": null,
            "grid_template_rows": null,
            "height": null,
            "justify_content": null,
            "justify_items": null,
            "left": null,
            "margin": null,
            "max_height": null,
            "max_width": null,
            "min_height": null,
            "min_width": null,
            "object_fit": null,
            "object_position": null,
            "order": null,
            "overflow": null,
            "overflow_x": null,
            "overflow_y": null,
            "padding": null,
            "right": null,
            "top": null,
            "visibility": null,
            "width": null
          }
        },
        "7ce74bca489749f9b04a3e4e76843a8c": {
          "model_module": "@jupyter-widgets/controls",
          "model_name": "DescriptionStyleModel",
          "model_module_version": "1.5.0",
          "state": {
            "_model_module": "@jupyter-widgets/controls",
            "_model_module_version": "1.5.0",
            "_model_name": "DescriptionStyleModel",
            "_view_count": null,
            "_view_module": "@jupyter-widgets/base",
            "_view_module_version": "1.2.0",
            "_view_name": "StyleView",
            "description_width": ""
          }
        },
        "56b78b821fc943f39d955d82d3a91061": {
          "model_module": "@jupyter-widgets/base",
          "model_name": "LayoutModel",
          "model_module_version": "1.2.0",
          "state": {
            "_model_module": "@jupyter-widgets/base",
            "_model_module_version": "1.2.0",
            "_model_name": "LayoutModel",
            "_view_count": null,
            "_view_module": "@jupyter-widgets/base",
            "_view_module_version": "1.2.0",
            "_view_name": "LayoutView",
            "align_content": null,
            "align_items": null,
            "align_self": null,
            "border": null,
            "bottom": null,
            "display": null,
            "flex": null,
            "flex_flow": null,
            "grid_area": null,
            "grid_auto_columns": null,
            "grid_auto_flow": null,
            "grid_auto_rows": null,
            "grid_column": null,
            "grid_gap": null,
            "grid_row": null,
            "grid_template_areas": null,
            "grid_template_columns": null,
            "grid_template_rows": null,
            "height": null,
            "justify_content": null,
            "justify_items": null,
            "left": null,
            "margin": null,
            "max_height": null,
            "max_width": null,
            "min_height": null,
            "min_width": null,
            "object_fit": null,
            "object_position": null,
            "order": null,
            "overflow": null,
            "overflow_x": null,
            "overflow_y": null,
            "padding": null,
            "right": null,
            "top": null,
            "visibility": null,
            "width": null
          }
        },
        "9fda494258e042eeb489230f2ca72f16": {
          "model_module": "@jupyter-widgets/controls",
          "model_name": "ProgressStyleModel",
          "model_module_version": "1.5.0",
          "state": {
            "_model_module": "@jupyter-widgets/controls",
            "_model_module_version": "1.5.0",
            "_model_name": "ProgressStyleModel",
            "_view_count": null,
            "_view_module": "@jupyter-widgets/base",
            "_view_module_version": "1.2.0",
            "_view_name": "StyleView",
            "bar_color": null,
            "description_width": ""
          }
        },
        "183f3ad03a334963bbce377ee98cf8f6": {
          "model_module": "@jupyter-widgets/base",
          "model_name": "LayoutModel",
          "model_module_version": "1.2.0",
          "state": {
            "_model_module": "@jupyter-widgets/base",
            "_model_module_version": "1.2.0",
            "_model_name": "LayoutModel",
            "_view_count": null,
            "_view_module": "@jupyter-widgets/base",
            "_view_module_version": "1.2.0",
            "_view_name": "LayoutView",
            "align_content": null,
            "align_items": null,
            "align_self": null,
            "border": null,
            "bottom": null,
            "display": null,
            "flex": null,
            "flex_flow": null,
            "grid_area": null,
            "grid_auto_columns": null,
            "grid_auto_flow": null,
            "grid_auto_rows": null,
            "grid_column": null,
            "grid_gap": null,
            "grid_row": null,
            "grid_template_areas": null,
            "grid_template_columns": null,
            "grid_template_rows": null,
            "height": null,
            "justify_content": null,
            "justify_items": null,
            "left": null,
            "margin": null,
            "max_height": null,
            "max_width": null,
            "min_height": null,
            "min_width": null,
            "object_fit": null,
            "object_position": null,
            "order": null,
            "overflow": null,
            "overflow_x": null,
            "overflow_y": null,
            "padding": null,
            "right": null,
            "top": null,
            "visibility": null,
            "width": null
          }
        },
        "e7191019eadb4074bc9590c32aac41f2": {
          "model_module": "@jupyter-widgets/controls",
          "model_name": "DescriptionStyleModel",
          "model_module_version": "1.5.0",
          "state": {
            "_model_module": "@jupyter-widgets/controls",
            "_model_module_version": "1.5.0",
            "_model_name": "DescriptionStyleModel",
            "_view_count": null,
            "_view_module": "@jupyter-widgets/base",
            "_view_module_version": "1.2.0",
            "_view_name": "StyleView",
            "description_width": ""
          }
        },
        "264cb1eb4d5c4ae39ed744674126e6af": {
          "model_module": "@jupyter-widgets/controls",
          "model_name": "HBoxModel",
          "model_module_version": "1.5.0",
          "state": {
            "_dom_classes": [],
            "_model_module": "@jupyter-widgets/controls",
            "_model_module_version": "1.5.0",
            "_model_name": "HBoxModel",
            "_view_count": null,
            "_view_module": "@jupyter-widgets/controls",
            "_view_module_version": "1.5.0",
            "_view_name": "HBoxView",
            "box_style": "",
            "children": [
              "IPY_MODEL_1495c516a9ef4e83b586f2a7eafc3247",
              "IPY_MODEL_c060a0f1ba24419b86d7d9de808e9ef9",
              "IPY_MODEL_c9fa0f63a57d4829b11c2385d5b34a1c"
            ],
            "layout": "IPY_MODEL_cfd37c25a33c48f6922f204650e9c066"
          }
        },
        "1495c516a9ef4e83b586f2a7eafc3247": {
          "model_module": "@jupyter-widgets/controls",
          "model_name": "HTMLModel",
          "model_module_version": "1.5.0",
          "state": {
            "_dom_classes": [],
            "_model_module": "@jupyter-widgets/controls",
            "_model_module_version": "1.5.0",
            "_model_name": "HTMLModel",
            "_view_count": null,
            "_view_module": "@jupyter-widgets/controls",
            "_view_module_version": "1.5.0",
            "_view_name": "HTMLView",
            "description": "",
            "description_tooltip": null,
            "layout": "IPY_MODEL_c5eb6cfdfad345da9e6749d874c3e617",
            "placeholder": "​",
            "style": "IPY_MODEL_8970f910d5eb4b4eb639d7a33f3f5da1",
            "value": "Generating train split: "
          }
        },
        "c060a0f1ba24419b86d7d9de808e9ef9": {
          "model_module": "@jupyter-widgets/controls",
          "model_name": "FloatProgressModel",
          "model_module_version": "1.5.0",
          "state": {
            "_dom_classes": [],
            "_model_module": "@jupyter-widgets/controls",
            "_model_module_version": "1.5.0",
            "_model_name": "FloatProgressModel",
            "_view_count": null,
            "_view_module": "@jupyter-widgets/controls",
            "_view_module_version": "1.5.0",
            "_view_name": "ProgressView",
            "bar_style": "success",
            "description": "",
            "description_tooltip": null,
            "layout": "IPY_MODEL_a11361660ffa485a930f8b23080ba8d8",
            "max": 1,
            "min": 0,
            "orientation": "horizontal",
            "style": "IPY_MODEL_27669ac64bf44bb59275ef42207cf42d",
            "value": 1
          }
        },
        "c9fa0f63a57d4829b11c2385d5b34a1c": {
          "model_module": "@jupyter-widgets/controls",
          "model_name": "HTMLModel",
          "model_module_version": "1.5.0",
          "state": {
            "_dom_classes": [],
            "_model_module": "@jupyter-widgets/controls",
            "_model_module_version": "1.5.0",
            "_model_name": "HTMLModel",
            "_view_count": null,
            "_view_module": "@jupyter-widgets/controls",
            "_view_module_version": "1.5.0",
            "_view_name": "HTMLView",
            "description": "",
            "description_tooltip": null,
            "layout": "IPY_MODEL_2fc8bfb09be342aaa89edd1c0b8c8c5e",
            "placeholder": "​",
            "style": "IPY_MODEL_504b0953b1fa484f80f2e88aedaf4d16",
            "value": " 264905/0 [00:27&lt;00:00, 28466.52 examples/s]"
          }
        },
        "cfd37c25a33c48f6922f204650e9c066": {
          "model_module": "@jupyter-widgets/base",
          "model_name": "LayoutModel",
          "model_module_version": "1.2.0",
          "state": {
            "_model_module": "@jupyter-widgets/base",
            "_model_module_version": "1.2.0",
            "_model_name": "LayoutModel",
            "_view_count": null,
            "_view_module": "@jupyter-widgets/base",
            "_view_module_version": "1.2.0",
            "_view_name": "LayoutView",
            "align_content": null,
            "align_items": null,
            "align_self": null,
            "border": null,
            "bottom": null,
            "display": null,
            "flex": null,
            "flex_flow": null,
            "grid_area": null,
            "grid_auto_columns": null,
            "grid_auto_flow": null,
            "grid_auto_rows": null,
            "grid_column": null,
            "grid_gap": null,
            "grid_row": null,
            "grid_template_areas": null,
            "grid_template_columns": null,
            "grid_template_rows": null,
            "height": null,
            "justify_content": null,
            "justify_items": null,
            "left": null,
            "margin": null,
            "max_height": null,
            "max_width": null,
            "min_height": null,
            "min_width": null,
            "object_fit": null,
            "object_position": null,
            "order": null,
            "overflow": null,
            "overflow_x": null,
            "overflow_y": null,
            "padding": null,
            "right": null,
            "top": null,
            "visibility": null,
            "width": null
          }
        },
        "c5eb6cfdfad345da9e6749d874c3e617": {
          "model_module": "@jupyter-widgets/base",
          "model_name": "LayoutModel",
          "model_module_version": "1.2.0",
          "state": {
            "_model_module": "@jupyter-widgets/base",
            "_model_module_version": "1.2.0",
            "_model_name": "LayoutModel",
            "_view_count": null,
            "_view_module": "@jupyter-widgets/base",
            "_view_module_version": "1.2.0",
            "_view_name": "LayoutView",
            "align_content": null,
            "align_items": null,
            "align_self": null,
            "border": null,
            "bottom": null,
            "display": null,
            "flex": null,
            "flex_flow": null,
            "grid_area": null,
            "grid_auto_columns": null,
            "grid_auto_flow": null,
            "grid_auto_rows": null,
            "grid_column": null,
            "grid_gap": null,
            "grid_row": null,
            "grid_template_areas": null,
            "grid_template_columns": null,
            "grid_template_rows": null,
            "height": null,
            "justify_content": null,
            "justify_items": null,
            "left": null,
            "margin": null,
            "max_height": null,
            "max_width": null,
            "min_height": null,
            "min_width": null,
            "object_fit": null,
            "object_position": null,
            "order": null,
            "overflow": null,
            "overflow_x": null,
            "overflow_y": null,
            "padding": null,
            "right": null,
            "top": null,
            "visibility": null,
            "width": null
          }
        },
        "8970f910d5eb4b4eb639d7a33f3f5da1": {
          "model_module": "@jupyter-widgets/controls",
          "model_name": "DescriptionStyleModel",
          "model_module_version": "1.5.0",
          "state": {
            "_model_module": "@jupyter-widgets/controls",
            "_model_module_version": "1.5.0",
            "_model_name": "DescriptionStyleModel",
            "_view_count": null,
            "_view_module": "@jupyter-widgets/base",
            "_view_module_version": "1.2.0",
            "_view_name": "StyleView",
            "description_width": ""
          }
        },
        "a11361660ffa485a930f8b23080ba8d8": {
          "model_module": "@jupyter-widgets/base",
          "model_name": "LayoutModel",
          "model_module_version": "1.2.0",
          "state": {
            "_model_module": "@jupyter-widgets/base",
            "_model_module_version": "1.2.0",
            "_model_name": "LayoutModel",
            "_view_count": null,
            "_view_module": "@jupyter-widgets/base",
            "_view_module_version": "1.2.0",
            "_view_name": "LayoutView",
            "align_content": null,
            "align_items": null,
            "align_self": null,
            "border": null,
            "bottom": null,
            "display": null,
            "flex": null,
            "flex_flow": null,
            "grid_area": null,
            "grid_auto_columns": null,
            "grid_auto_flow": null,
            "grid_auto_rows": null,
            "grid_column": null,
            "grid_gap": null,
            "grid_row": null,
            "grid_template_areas": null,
            "grid_template_columns": null,
            "grid_template_rows": null,
            "height": null,
            "justify_content": null,
            "justify_items": null,
            "left": null,
            "margin": null,
            "max_height": null,
            "max_width": null,
            "min_height": null,
            "min_width": null,
            "object_fit": null,
            "object_position": null,
            "order": null,
            "overflow": null,
            "overflow_x": null,
            "overflow_y": null,
            "padding": null,
            "right": null,
            "top": null,
            "visibility": null,
            "width": "20px"
          }
        },
        "27669ac64bf44bb59275ef42207cf42d": {
          "model_module": "@jupyter-widgets/controls",
          "model_name": "ProgressStyleModel",
          "model_module_version": "1.5.0",
          "state": {
            "_model_module": "@jupyter-widgets/controls",
            "_model_module_version": "1.5.0",
            "_model_name": "ProgressStyleModel",
            "_view_count": null,
            "_view_module": "@jupyter-widgets/base",
            "_view_module_version": "1.2.0",
            "_view_name": "StyleView",
            "bar_color": null,
            "description_width": ""
          }
        },
        "2fc8bfb09be342aaa89edd1c0b8c8c5e": {
          "model_module": "@jupyter-widgets/base",
          "model_name": "LayoutModel",
          "model_module_version": "1.2.0",
          "state": {
            "_model_module": "@jupyter-widgets/base",
            "_model_module_version": "1.2.0",
            "_model_name": "LayoutModel",
            "_view_count": null,
            "_view_module": "@jupyter-widgets/base",
            "_view_module_version": "1.2.0",
            "_view_name": "LayoutView",
            "align_content": null,
            "align_items": null,
            "align_self": null,
            "border": null,
            "bottom": null,
            "display": null,
            "flex": null,
            "flex_flow": null,
            "grid_area": null,
            "grid_auto_columns": null,
            "grid_auto_flow": null,
            "grid_auto_rows": null,
            "grid_column": null,
            "grid_gap": null,
            "grid_row": null,
            "grid_template_areas": null,
            "grid_template_columns": null,
            "grid_template_rows": null,
            "height": null,
            "justify_content": null,
            "justify_items": null,
            "left": null,
            "margin": null,
            "max_height": null,
            "max_width": null,
            "min_height": null,
            "min_width": null,
            "object_fit": null,
            "object_position": null,
            "order": null,
            "overflow": null,
            "overflow_x": null,
            "overflow_y": null,
            "padding": null,
            "right": null,
            "top": null,
            "visibility": null,
            "width": null
          }
        },
        "504b0953b1fa484f80f2e88aedaf4d16": {
          "model_module": "@jupyter-widgets/controls",
          "model_name": "DescriptionStyleModel",
          "model_module_version": "1.5.0",
          "state": {
            "_model_module": "@jupyter-widgets/controls",
            "_model_module_version": "1.5.0",
            "_model_name": "DescriptionStyleModel",
            "_view_count": null,
            "_view_module": "@jupyter-widgets/base",
            "_view_module_version": "1.2.0",
            "_view_name": "StyleView",
            "description_width": ""
          }
        }
      }
    }
  },
  "cells": [
    {
      "cell_type": "markdown",
      "metadata": {
        "id": "view-in-github",
        "colab_type": "text"
      },
      "source": [
        "<a href=\"https://colab.research.google.com/github/Idan-Alter/OU-22961-Deep-Learning/blob/main/22961_7_5_attention.ipynb\" target=\"_parent\"><img src=\"https://colab.research.google.com/assets/colab-badge.svg\" alt=\"Open In Colab\"/></a>"
      ]
    },
    {
      "cell_type": "code",
      "execution_count": 1,
      "metadata": {
        "id": "Q-rkogg_jh6N",
        "colab": {
          "base_uri": "https://localhost:8080/"
        },
        "outputId": "0a171582-7b43-4426-beae-0603ca0fc9c1"
      },
      "outputs": [
        {
          "output_type": "stream",
          "name": "stdout",
          "text": [
            "Collecting datasets\n",
            "  Downloading datasets-2.18.0-py3-none-any.whl (510 kB)\n",
            "\u001b[2K     \u001b[90m━━━━━━━━━━━━━━━━━━━━━━━━━━━━━━━━━━━━━━━━\u001b[0m \u001b[32m510.5/510.5 kB\u001b[0m \u001b[31m7.5 MB/s\u001b[0m eta \u001b[36m0:00:00\u001b[0m\n",
            "\u001b[?25hRequirement already satisfied: filelock in /usr/local/lib/python3.10/dist-packages (from datasets) (3.13.1)\n",
            "Requirement already satisfied: numpy>=1.17 in /usr/local/lib/python3.10/dist-packages (from datasets) (1.25.2)\n",
            "Requirement already satisfied: pyarrow>=12.0.0 in /usr/local/lib/python3.10/dist-packages (from datasets) (14.0.2)\n",
            "Requirement already satisfied: pyarrow-hotfix in /usr/local/lib/python3.10/dist-packages (from datasets) (0.6)\n",
            "Collecting dill<0.3.9,>=0.3.0 (from datasets)\n",
            "  Downloading dill-0.3.8-py3-none-any.whl (116 kB)\n",
            "\u001b[2K     \u001b[90m━━━━━━━━━━━━━━━━━━━━━━━━━━━━━━━━━━━━━━━━\u001b[0m \u001b[32m116.3/116.3 kB\u001b[0m \u001b[31m7.9 MB/s\u001b[0m eta \u001b[36m0:00:00\u001b[0m\n",
            "\u001b[?25hRequirement already satisfied: pandas in /usr/local/lib/python3.10/dist-packages (from datasets) (1.5.3)\n",
            "Requirement already satisfied: requests>=2.19.0 in /usr/local/lib/python3.10/dist-packages (from datasets) (2.31.0)\n",
            "Requirement already satisfied: tqdm>=4.62.1 in /usr/local/lib/python3.10/dist-packages (from datasets) (4.66.2)\n",
            "Requirement already satisfied: xxhash in /usr/local/lib/python3.10/dist-packages (from datasets) (3.4.1)\n",
            "Collecting multiprocess (from datasets)\n",
            "  Downloading multiprocess-0.70.16-py310-none-any.whl (134 kB)\n",
            "\u001b[2K     \u001b[90m━━━━━━━━━━━━━━━━━━━━━━━━━━━━━━━━━━━━━━━━\u001b[0m \u001b[32m134.8/134.8 kB\u001b[0m \u001b[31m13.0 MB/s\u001b[0m eta \u001b[36m0:00:00\u001b[0m\n",
            "\u001b[?25hRequirement already satisfied: fsspec[http]<=2024.2.0,>=2023.1.0 in /usr/local/lib/python3.10/dist-packages (from datasets) (2023.6.0)\n",
            "Requirement already satisfied: aiohttp in /usr/local/lib/python3.10/dist-packages (from datasets) (3.9.3)\n",
            "Requirement already satisfied: huggingface-hub>=0.19.4 in /usr/local/lib/python3.10/dist-packages (from datasets) (0.20.3)\n",
            "Requirement already satisfied: packaging in /usr/local/lib/python3.10/dist-packages (from datasets) (23.2)\n",
            "Requirement already satisfied: pyyaml>=5.1 in /usr/local/lib/python3.10/dist-packages (from datasets) (6.0.1)\n",
            "Requirement already satisfied: aiosignal>=1.1.2 in /usr/local/lib/python3.10/dist-packages (from aiohttp->datasets) (1.3.1)\n",
            "Requirement already satisfied: attrs>=17.3.0 in /usr/local/lib/python3.10/dist-packages (from aiohttp->datasets) (23.2.0)\n",
            "Requirement already satisfied: frozenlist>=1.1.1 in /usr/local/lib/python3.10/dist-packages (from aiohttp->datasets) (1.4.1)\n",
            "Requirement already satisfied: multidict<7.0,>=4.5 in /usr/local/lib/python3.10/dist-packages (from aiohttp->datasets) (6.0.5)\n",
            "Requirement already satisfied: yarl<2.0,>=1.0 in /usr/local/lib/python3.10/dist-packages (from aiohttp->datasets) (1.9.4)\n",
            "Requirement already satisfied: async-timeout<5.0,>=4.0 in /usr/local/lib/python3.10/dist-packages (from aiohttp->datasets) (4.0.3)\n",
            "Requirement already satisfied: typing-extensions>=3.7.4.3 in /usr/local/lib/python3.10/dist-packages (from huggingface-hub>=0.19.4->datasets) (4.10.0)\n",
            "Requirement already satisfied: charset-normalizer<4,>=2 in /usr/local/lib/python3.10/dist-packages (from requests>=2.19.0->datasets) (3.3.2)\n",
            "Requirement already satisfied: idna<4,>=2.5 in /usr/local/lib/python3.10/dist-packages (from requests>=2.19.0->datasets) (3.6)\n",
            "Requirement already satisfied: urllib3<3,>=1.21.1 in /usr/local/lib/python3.10/dist-packages (from requests>=2.19.0->datasets) (2.0.7)\n",
            "Requirement already satisfied: certifi>=2017.4.17 in /usr/local/lib/python3.10/dist-packages (from requests>=2.19.0->datasets) (2024.2.2)\n",
            "Requirement already satisfied: python-dateutil>=2.8.1 in /usr/local/lib/python3.10/dist-packages (from pandas->datasets) (2.8.2)\n",
            "Requirement already satisfied: pytz>=2020.1 in /usr/local/lib/python3.10/dist-packages (from pandas->datasets) (2023.4)\n",
            "Requirement already satisfied: six>=1.5 in /usr/local/lib/python3.10/dist-packages (from python-dateutil>=2.8.1->pandas->datasets) (1.16.0)\n",
            "Installing collected packages: dill, multiprocess, datasets\n",
            "Successfully installed datasets-2.18.0 dill-0.3.8 multiprocess-0.70.16\n"
          ]
        }
      ],
      "source": [
        "pip install datasets"
      ]
    },
    {
      "cell_type": "code",
      "source": [
        "import torch\n",
        "from torch import nn\n",
        "import torch.nn.functional as F\n",
        "import datasets as ds\n",
        "import matplotlib.pyplot as plt"
      ],
      "metadata": {
        "id": "0SsirZB5kviZ"
      },
      "execution_count": 2,
      "outputs": []
    },
    {
      "cell_type": "code",
      "source": [
        "src = \"en\"\n",
        "tgt = \"fr\"\n",
        "dataset = ds.load_dataset(\"tatoeba\", lang1=src, lang2=tgt)\n",
        "\n",
        "pairs_list = dataset[\"train\"][\"translation\"]\n",
        "total      = len(pairs_list)\n",
        "src_sents_unfiltered = [x[src].split() for x in pairs_list]\n",
        "tgt_sents_unfiltered = [x[tgt].split() for x in pairs_list]\n",
        "\n",
        "MAX_length = 5\n",
        "filter = lambda idx: len(src_sents_unfiltered[idx]) <= MAX_length and \\\n",
        "                     len(tgt_sents_unfiltered[idx]) <= MAX_length\n",
        "mask = map(filter, range(total))\n",
        "src_sents = [x for idx, x in enumerate(src_sents_unfiltered) if filter(idx)]\n",
        "tgt_sents = [x for idx, x in enumerate(tgt_sents_unfiltered) if filter(idx)]\n",
        "\n",
        "torch.manual_seed(0)\n",
        "shuffle_idxs = torch.randperm(len(src_sents))\n",
        "def shuffle(my_list):\n",
        "  extract_one   = lambda x: my_list[shuffle_idxs[x]]\n",
        "  shuffled_list = list(map(extract_one, range(len(my_list))))\n",
        "  return shuffled_list\n",
        "src_sents = shuffle(src_sents)\n",
        "tgt_sents = shuffle(tgt_sents)\n",
        "\n",
        "for idx in range(len(src_sents)):\n",
        "  src_sents[idx].append(\"<END>\")\n",
        "  tgt_sents[idx] = [\"<START>\"]+tgt_sents[idx]+[\"<END>\"]\n",
        "\n",
        "from torchtext.vocab import build_vocab_from_iterator\n",
        "src_vocab = build_vocab_from_iterator(src_sents, specials=[\"<UNK>\", \"<END>\"])\n",
        "src_vocab.set_default_index(0)\n",
        "print(len(src_vocab))\n",
        "tgt_vocab = build_vocab_from_iterator(tgt_sents, specials=[\"<UNK>\", \"<END>\", \"<START>\"])\n",
        "tgt_vocab.set_default_index(0)\n",
        "print(len(tgt_vocab))\n",
        "\n",
        "src_tokens = list(map(lambda x: torch.tensor(src_vocab(x)), src_sents))\n",
        "tgt_tokens = list(map(lambda x: torch.tensor(tgt_vocab(x)), tgt_sents))\n"
      ],
      "metadata": {
        "id": "2di34Icnkjpn",
        "colab": {
          "base_uri": "https://localhost:8080/",
          "height": 384,
          "referenced_widgets": [
            "4eb93f083b994900885e9b4a18eb0462",
            "8eba8efe4892480981a5bf7259b4583c",
            "d6ead616f8204e5c8bab3a62b357ce43",
            "93083d6537af4824b36c471a8005ee6c",
            "9b1624aca9394fda9b1864d3d5b098aa",
            "b4632cb81eff4816afc5df0321e3dedc",
            "101c4f6721af49c0bd30871f59d1e160",
            "3c9f1f980bca4689b1b6cfc12a1253f3",
            "6992ff9e5f444e60957e29f350b9dbb4",
            "659bcb60019d441490b91289c27c6158",
            "bf2516c757b6432ebdf8578538634503",
            "3d4e430962e744a4b35dd767d28dc359",
            "1098845820cf4dbfb8e4de4b3d1abfc6",
            "6eefca30fd7544ad8e3c9548d93f44c2",
            "da35f48d922348b481e7e47acccb6640",
            "ac87318a58e84508b54277c0d1e1c379",
            "2df1c927740a4699acdc453c1fe9abed",
            "721d5be852584b8592536577392ce3a5",
            "761cae8cb09143ef979c3e70aa85bb64",
            "75972dc02abb42d6ae1d8f43113ee835",
            "e3cf7bb3203c492db4330245f6239ad8",
            "4d34fc7153634a35ae7aca147492734d",
            "ea9598bd881c4306ab2961fee1800ff8",
            "39f316989b7c4bf8a42c69da02bbb587",
            "d1a1d631df7e40bfb5828e3bccd4c265",
            "6d70346204914f57bbf5c5d261ff98a3",
            "825c3c5ff2e64d308b4746a645ad9439",
            "2b4859c611eb4794837e5029c84f4e04",
            "7ce74bca489749f9b04a3e4e76843a8c",
            "56b78b821fc943f39d955d82d3a91061",
            "9fda494258e042eeb489230f2ca72f16",
            "183f3ad03a334963bbce377ee98cf8f6",
            "e7191019eadb4074bc9590c32aac41f2",
            "264cb1eb4d5c4ae39ed744674126e6af",
            "1495c516a9ef4e83b586f2a7eafc3247",
            "c060a0f1ba24419b86d7d9de808e9ef9",
            "c9fa0f63a57d4829b11c2385d5b34a1c",
            "cfd37c25a33c48f6922f204650e9c066",
            "c5eb6cfdfad345da9e6749d874c3e617",
            "8970f910d5eb4b4eb639d7a33f3f5da1",
            "a11361660ffa485a930f8b23080ba8d8",
            "27669ac64bf44bb59275ef42207cf42d",
            "2fc8bfb09be342aaa89edd1c0b8c8c5e",
            "504b0953b1fa484f80f2e88aedaf4d16"
          ]
        },
        "outputId": "eaf8ddf7-f199-4c89-d29a-c034fc93df81"
      },
      "execution_count": 3,
      "outputs": [
        {
          "output_type": "stream",
          "name": "stderr",
          "text": [
            "/usr/local/lib/python3.10/dist-packages/huggingface_hub/utils/_token.py:88: UserWarning: \n",
            "The secret `HF_TOKEN` does not exist in your Colab secrets.\n",
            "To authenticate with the Hugging Face Hub, create a token in your settings tab (https://huggingface.co/settings/tokens), set it as secret in your Google Colab and restart your session.\n",
            "You will be able to reuse this secret in all of your notebooks.\n",
            "Please note that authentication is recommended but still optional to access public models or datasets.\n",
            "  warnings.warn(\n",
            "/usr/local/lib/python3.10/dist-packages/datasets/load.py:1461: FutureWarning: The repository for tatoeba contains custom code which must be executed to correctly load the dataset. You can inspect the repository content at https://hf.co/datasets/tatoeba\n",
            "You can avoid this message in future by passing the argument `trust_remote_code=True`.\n",
            "Passing `trust_remote_code=True` will be mandatory to load this dataset from the next major release of `datasets`.\n",
            "  warnings.warn(\n"
          ]
        },
        {
          "output_type": "display_data",
          "data": {
            "text/plain": [
              "Downloading builder script:   0%|          | 0.00/4.41k [00:00<?, ?B/s]"
            ],
            "application/vnd.jupyter.widget-view+json": {
              "version_major": 2,
              "version_minor": 0,
              "model_id": "4eb93f083b994900885e9b4a18eb0462"
            }
          },
          "metadata": {}
        },
        {
          "output_type": "display_data",
          "data": {
            "text/plain": [
              "Downloading readme:   0%|          | 0.00/8.93k [00:00<?, ?B/s]"
            ],
            "application/vnd.jupyter.widget-view+json": {
              "version_major": 2,
              "version_minor": 0,
              "model_id": "3d4e430962e744a4b35dd767d28dc359"
            }
          },
          "metadata": {}
        },
        {
          "output_type": "display_data",
          "data": {
            "text/plain": [
              "Downloading data:   0%|          | 0.00/7.83M [00:00<?, ?B/s]"
            ],
            "application/vnd.jupyter.widget-view+json": {
              "version_major": 2,
              "version_minor": 0,
              "model_id": "ea9598bd881c4306ab2961fee1800ff8"
            }
          },
          "metadata": {}
        },
        {
          "output_type": "display_data",
          "data": {
            "text/plain": [
              "Generating train split: 0 examples [00:00, ? examples/s]"
            ],
            "application/vnd.jupyter.widget-view+json": {
              "version_major": 2,
              "version_minor": 0,
              "model_id": "264cb1eb4d5c4ae39ed744674126e6af"
            }
          },
          "metadata": {}
        },
        {
          "output_type": "stream",
          "name": "stdout",
          "text": [
            "18698\n",
            "27836\n"
          ]
        }
      ]
    },
    {
      "cell_type": "code",
      "source": [
        "START_Token = torch.tensor(tgt_vocab([\"<START>\"])[0])\n",
        "END_Token   = torch.tensor(tgt_vocab([\"<END>\"])[0])\n",
        "print(START_Token,END_Token)"
      ],
      "metadata": {
        "colab": {
          "base_uri": "https://localhost:8080/"
        },
        "id": "BP1GKXIijki-",
        "outputId": "71da94ab-4c24-45cd-cdd9-06d665ad5afe"
      },
      "execution_count": 4,
      "outputs": [
        {
          "output_type": "stream",
          "name": "stdout",
          "text": [
            "tensor(2) tensor(1)\n"
          ]
        }
      ]
    },
    {
      "cell_type": "code",
      "source": [
        "A = [src_vocab.get_itos()[x.item()] for x in src_tokens[1]]\n",
        "B = [tgt_vocab.get_itos()[x.item()] for x in tgt_tokens[1]]\n",
        "print(A, B)"
      ],
      "metadata": {
        "colab": {
          "base_uri": "https://localhost:8080/"
        },
        "id": "SUFgYkv6tYv8",
        "outputId": "4c9a8f95-3332-4676-fe3f-186148594e93"
      },
      "execution_count": 5,
      "outputs": [
        {
          "output_type": "stream",
          "name": "stdout",
          "text": [
            "['It', 'was', 'too', 'hard.', '<END>'] ['<START>', 'Il', 'était', 'trop', 'dur.', '<END>']\n"
          ]
        }
      ]
    },
    {
      "cell_type": "markdown",
      "source": [
        "#Full History Encoder"
      ],
      "metadata": {
        "id": "gnqaNV-9joXU"
      }
    },
    {
      "cell_type": "code",
      "source": [
        "class Encoder(nn.Module):\n",
        "    def __init__(self, embed_dim, hidden_dim, RNNlayers):\n",
        "        super().__init__()\n",
        "        self.src_embedding  = nn.Embedding(len(src_vocab),\n",
        "                                           embed_dim)\n",
        "        self.rnn_stack      = nn.LSTM(embed_dim,\n",
        "                                 hidden_dim,\n",
        "                                 RNNlayers)\n",
        "\n",
        "    def forward(self, src_tokens):\n",
        "      all_embeddings         = self.src_embedding(src_tokens)\n",
        "      annotations, _         = self.rnn_stack(all_embeddings)     #\n",
        "      return annotations                                          #"
      ],
      "metadata": {
        "id": "cuP2INO39sPN"
      },
      "execution_count": 6,
      "outputs": []
    },
    {
      "cell_type": "markdown",
      "source": [
        "#Attention"
      ],
      "metadata": {
        "id": "WToiryVGgPiX"
      }
    },
    {
      "cell_type": "code",
      "source": [
        "from pprint import pprint\n",
        "values = [\"woman\", \"man\", \"bicycle\", \"queen\", \"house\"]\n",
        "keys  = values\n",
        "my_dict = dict(zip(keys,values))\n",
        "pprint(my_dict)"
      ],
      "metadata": {
        "colab": {
          "base_uri": "https://localhost:8080/"
        },
        "id": "p8K9rw8pWm2q",
        "outputId": "7dcf465f-fc11-41d8-fdd9-640adb2d32bf"
      },
      "execution_count": 7,
      "outputs": [
        {
          "output_type": "stream",
          "name": "stdout",
          "text": [
            "{'bicycle': 'bicycle',\n",
            " 'house': 'house',\n",
            " 'man': 'man',\n",
            " 'queen': 'queen',\n",
            " 'woman': 'woman'}\n"
          ]
        }
      ]
    },
    {
      "cell_type": "code",
      "source": [
        "print(my_dict.get(\"woman\"), my_dict.get(\"girl\"))"
      ],
      "metadata": {
        "colab": {
          "base_uri": "https://localhost:8080/"
        },
        "id": "8BcjTTgMZRtW",
        "outputId": "13307ed7-7dd7-4db0-a7e2-0c5b4331d967"
      },
      "execution_count": 8,
      "outputs": [
        {
          "output_type": "stream",
          "name": "stdout",
          "text": [
            "woman None\n"
          ]
        }
      ]
    },
    {
      "cell_type": "code",
      "source": [
        "from torchtext.vocab import GloVe\n",
        "glove_embedder = GloVe(name='6B',dim=50)\n",
        "keys = glove_embedder.get_vecs_by_tokens(values)\n",
        "print(keys.size(), keys.dtype)"
      ],
      "metadata": {
        "colab": {
          "base_uri": "https://localhost:8080/"
        },
        "id": "TSDNl4T2y1Rl",
        "outputId": "9a617a90-4753-4347-eb5a-91d50def02ab"
      },
      "execution_count": 9,
      "outputs": [
        {
          "output_type": "stream",
          "name": "stderr",
          "text": [
            ".vector_cache/glove.6B.zip: 862MB [02:40, 5.39MB/s]                           \n",
            "100%|█████████▉| 399999/400000 [00:20<00:00, 19289.39it/s]\n"
          ]
        },
        {
          "output_type": "stream",
          "name": "stdout",
          "text": [
            "torch.Size([5, 50]) torch.float32\n"
          ]
        }
      ]
    },
    {
      "cell_type": "code",
      "source": [
        "def soft_search(query, keys, values):\n",
        "  dict_size      = len(values)\n",
        "  cos_similarity = torch.zeros(dict_size)\n",
        "  q_norm         = query.norm()\n",
        "  for idx in range(dict_size):\n",
        "    dot                 = (query*keys[idx]).sum()\n",
        "    k_norm              = keys[idx].norm()\n",
        "    cos_similarity[idx] = dot/(q_norm*k_norm)\n",
        "  best_match_idx = cos_similarity.argmax()\n",
        "  return values[best_match_idx], cos_similarity"
      ],
      "metadata": {
        "id": "Q9BT8THJvGQj"
      },
      "execution_count": 10,
      "outputs": []
    },
    {
      "cell_type": "code",
      "source": [
        "queries = [\"king\", \"castle\", \"car\", \"girl\", \"animal\"]\n",
        "sim_matrix = torch.zeros(len(queries),len(values))\n",
        "for idx,q in enumerate(queries):\n",
        "  q_embedded = glove_embedder.get_vecs_by_tokens(q)\n",
        "  search_result, cos_similarity = soft_search(q_embedded, keys, values)\n",
        "  sim_matrix[idx,:] = cos_similarity\n",
        "  print(\"\", q, search_result, cos_similarity, sep=\"\\n\")"
      ],
      "metadata": {
        "colab": {
          "base_uri": "https://localhost:8080/"
        },
        "id": "sRUhTIauzEmX",
        "outputId": "2c66591a-1bef-4b9d-98be-234038bb8302"
      },
      "execution_count": 11,
      "outputs": [
        {
          "output_type": "stream",
          "name": "stdout",
          "text": [
            "\n",
            "king\n",
            "queen\n",
            "tensor([0.4113, 0.5309, 0.0535, 0.7839, 0.5228])\n",
            "\n",
            "castle\n",
            "queen\n",
            "tensor([0.1891, 0.2858, 0.0292, 0.5805, 0.5555])\n",
            "\n",
            "car\n",
            "bicycle\n",
            "tensor([0.5011, 0.5797, 0.7560, 0.2883, 0.4729])\n",
            "\n",
            "girl\n",
            "woman\n",
            "tensor([0.9065, 0.7908, 0.3204, 0.5878, 0.4126])\n",
            "\n",
            "animal\n",
            "man\n",
            "tensor([0.5051, 0.5233, 0.3188, 0.2353, 0.3400])\n"
          ]
        }
      ]
    },
    {
      "cell_type": "code",
      "source": [
        "def plot_attention(matrix,queries,values):\n",
        "  plt.figure(dpi=150)\n",
        "  plt.imshow(matrix,cmap=\"Greys\")\n",
        "  plt.colorbar()\n",
        "  plt.xticks(ticks=range(len(values)), labels=values, size=10);\n",
        "  plt.xlabel(\"Values\",size=15)\n",
        "  plt.yticks(ticks=range(len(queries)), labels=queries, size=10);\n",
        "  plt.ylabel(\"Queries\",size=15);\n",
        "plot_attention(sim_matrix, queries, values)\n",
        "plt.title(\"Cosine Similarity\");"
      ],
      "metadata": {
        "colab": {
          "base_uri": "https://localhost:8080/",
          "height": 704
        },
        "id": "S3pGtzUJouKD",
        "outputId": "3d23325c-ce98-43f3-c843-bdd22aa20714"
      },
      "execution_count": 12,
      "outputs": [
        {
          "output_type": "display_data",
          "data": {
            "text/plain": [
              "<Figure size 960x720 with 2 Axes>"
            ],
            "image/png": "[encoded data removed]"
          },
          "metadata": {}
        }
      ]
    },
    {
      "cell_type": "markdown",
      "source": [
        "#Dot Product Attention"
      ],
      "metadata": {
        "id": "0g9vIjhawmJY"
      }
    },
    {
      "cell_type": "code",
      "source": [
        "def dot_attention(q, K, V):\n",
        "  dict_size  = K.size(0)\n",
        "  similarity = torch.zeros(dict_size)\n",
        "  for idx in range(dict_size):\n",
        "    similarity[idx] = (q * K[idx,:]).sum()\n",
        "  attn_weights = F.softmax(similarity, dim=0)\n",
        "  weighted_V   = torch.zeros_like(V)\n",
        "  for idx in range(dict_size):\n",
        "    weighted_V[idx,:] = attn_weights[idx] * V[idx,:]\n",
        "  output = weighted_V.sum(dim=0)\n",
        "  return output, attn_weights"
      ],
      "metadata": {
        "id": "0SVd4WrY8xh3"
      },
      "execution_count": 13,
      "outputs": []
    },
    {
      "cell_type": "code",
      "source": [
        "src_words  = [\"woman\", \"man\", \"bicycle\", \"queen\", \"house\"]\n",
        "values     = glove_embedder.get_vecs_by_tokens(src_words)\n",
        "keys       = values\n",
        "query      = glove_embedder.get_vecs_by_tokens(\"king\")\n",
        "search_result, attn_weights = dot_attention(query, keys, values)\n",
        "print(search_result.size(), search_result.dtype)\n",
        "print(attn_weights)"
      ],
      "metadata": {
        "colab": {
          "base_uri": "https://localhost:8080/"
        },
        "id": "R14JCOlUsyTy",
        "outputId": "4475d0ce-c742-4c1c-c19f-b0bd1f8d3d30"
      },
      "execution_count": 14,
      "outputs": [
        {
          "output_type": "stream",
          "name": "stdout",
          "text": [
            "torch.Size([50]) torch.float32\n",
            "tensor([7.0899e-05, 9.9381e-04, 1.3337e-09, 9.9831e-01, 6.2366e-04])\n"
          ]
        }
      ]
    },
    {
      "cell_type": "code",
      "source": [
        "print(src_words)\n",
        "attn_matrix = torch.zeros(len(queries), len(src_words))\n",
        "for idx, q in enumerate(queries):\n",
        "  q_embedded = glove_embedder.get_vecs_by_tokens(q)\n",
        "  output, attn_weights = dot_attention(q_embedded, keys, keys)\n",
        "  attn_matrix[idx,:]   = attn_weights\n",
        "  print(\"\", q, attn_weights, sep=\"\\n\")\n",
        "plot_attention(attn_matrix, queries, src_words)\n",
        "plt.title(\"Dot Product Attention Weights\");"
      ],
      "metadata": {
        "colab": {
          "base_uri": "https://localhost:8080/",
          "height": 996
        },
        "id": "xr2zCPvC1FQz",
        "outputId": "651f6e7e-185a-4605-9363-a9f20da47996"
      },
      "execution_count": 15,
      "outputs": [
        {
          "output_type": "stream",
          "name": "stdout",
          "text": [
            "['woman', 'man', 'bicycle', 'queen', 'house']\n",
            "\n",
            "king\n",
            "tensor([7.0899e-05, 9.9381e-04, 1.3337e-09, 9.9831e-01, 6.2366e-04])\n",
            "\n",
            "castle\n",
            "tensor([1.3843e-05, 1.6120e-04, 9.1942e-08, 6.9318e-01, 3.0664e-01])\n",
            "\n",
            "car\n",
            "tensor([3.1750e-03, 1.3041e-02, 9.8336e-01, 1.8839e-06, 4.1913e-04])\n",
            "\n",
            "girl\n",
            "tensor([9.9414e-01, 5.8476e-03, 3.3290e-09, 1.1873e-05, 6.3629e-08])\n",
            "\n",
            "animal\n",
            "tensor([5.8669e-01, 4.0910e-01, 1.2610e-03, 1.8631e-04, 2.7535e-03])\n"
          ]
        },
        {
          "output_type": "display_data",
          "data": {
            "text/plain": [
              "<Figure size 960x720 with 2 Axes>"
            ],
            "image/png": "[encoded data removed]"
          },
          "metadata": {}
        }
      ]
    },
    {
      "cell_type": "code",
      "source": [
        "def dot_attention_vectorized(q, k, v):\n",
        "  similarity   = (q.reshape(1,-1) @ k.T)\n",
        "  attn_weights = F.softmax(similarity, dim=1)\n",
        "  weighted_v   = attn_weights.reshape(-1,1) * v\n",
        "  output       = weighted_v.sum(dim=0)\n",
        "  return output, attn_weights"
      ],
      "metadata": {
        "id": "l0uv_fPr2zeL"
      },
      "execution_count": 16,
      "outputs": []
    },
    {
      "cell_type": "code",
      "source": [
        "q = \"truck\"\n",
        "q_embedded = glove_embedder.get_vecs_by_tokens(q)\n",
        "output, attn_weights   = dot_attention_vectorized(q_embedded, keys, keys)\n",
        "output2, attn_weights2 = dot_attention(q_embedded, keys, keys)\n",
        "print((output - output2).norm() / output.norm())\n",
        "print((attn_weights - attn_weights2).norm() / attn_weights.norm()) #should be ~0"
      ],
      "metadata": {
        "colab": {
          "base_uri": "https://localhost:8080/"
        },
        "id": "9Jqss3674mf8",
        "outputId": "fdbb476d-f0c2-4892-9f5f-b23d20ed5c52"
      },
      "execution_count": 17,
      "outputs": [
        {
          "output_type": "stream",
          "name": "stdout",
          "text": [
            "tensor(1.6622e-09)\n",
            "tensor(2.2921e-09)\n"
          ]
        }
      ]
    },
    {
      "cell_type": "code",
      "source": [
        "dot_attention = dot_attention_vectorized"
      ],
      "metadata": {
        "id": "71AOBr0_nGkx"
      },
      "execution_count": 18,
      "outputs": []
    },
    {
      "cell_type": "markdown",
      "source": [
        "#Attention Decoder"
      ],
      "metadata": {
        "id": "YcIEkV0EjNxo"
      }
    },
    {
      "cell_type": "code",
      "source": [
        "class ContextRNNCell(nn.Module):\n",
        "    def __init__(self, embed_dim, hidden_dim):\n",
        "        super().__init__()\n",
        "        self.hidden_linear = nn.Linear(in_features = hidden_dim,\n",
        "                                      out_features = hidden_dim)\n",
        "        self.input_linear  = nn.Linear(in_features = embed_dim,\n",
        "                                      out_features = hidden_dim)\n",
        "        self.ctxt_linear   = nn.Linear(in_features = hidden_dim,\n",
        "                                      out_features = hidden_dim)\n",
        "        self.activation    = nn.Tanh()\n",
        "    def forward(self, one_embedded_token, hidden_state, context):\n",
        "        Z1        = self.input_linear(one_embedded_token)\n",
        "        Z2        = self.hidden_linear(hidden_state)\n",
        "        Z3        = self.ctxt_linear(context)\n",
        "        Y         = Z1 + Z2 + Z3\n",
        "        new_state = self.activation(Y)\n",
        "        return new_state"
      ],
      "metadata": {
        "id": "vCkjzg1M4iLz"
      },
      "execution_count": 19,
      "outputs": []
    },
    {
      "cell_type": "code",
      "source": [
        "#Compare to DecoderRNNCell from 7_4\n",
        "class AttnDecoderRNNCell(nn.Module):\n",
        "    def __init__(self, embed_dim, hidden_dim):\n",
        "        super().__init__()\n",
        "        self.hidden_state  = torch.zeros(hidden_dim)\n",
        "        self.RNNcell       = ContextRNNCell(embed_dim,        #\n",
        "                                            hidden_dim)\n",
        "        self.output_linear = nn.Linear(in_features=hidden_dim,\n",
        "                                  out_features=len(tgt_vocab))\n",
        "        self.logsoftmax    = nn.LogSoftmax(dim=0)\n",
        "\n",
        "    def forward(self, one_embedded_token, attn_context):\n",
        "        new_state           = self.RNNcell(one_embedded_token,\n",
        "                                           self.hidden_state,\n",
        "                                           attn_context)      #\n",
        "        tgt_token_scores   = self.output_linear(new_state)\n",
        "        tgt_token_logprobs = self.logsoftmax(tgt_token_scores)\n",
        "        self.hidden_state  = new_state\n",
        "        return tgt_token_logprobs"
      ],
      "metadata": {
        "id": "rBXl32g6DAaZ"
      },
      "execution_count": 20,
      "outputs": []
    },
    {
      "cell_type": "code",
      "source": [
        "class AttnDecoder(nn.Module):\n",
        "    def __init__(self, embed_dim, hidden_dim):\n",
        "        super().__init__()\n",
        "        self.hidden_dim     = hidden_dim\n",
        "        self.tgt_embedding  = nn.Embedding(len(tgt_vocab),\n",
        "                                           embed_dim)\n",
        "        self.RNNcell        = AttnDecoderRNNCell(embed_dim,\n",
        "                                                 hidden_dim)\n",
        "        self.attn_layer     = dot_attention\n",
        "    def forward(self, annotations, tgt_tokens):\n",
        "      self.RNNcell.hidden_state = torch.zeros(self.hidden_dim)\n",
        "      keys   = annotations\n",
        "      values = annotations\n",
        "      translated_tokens = [START_Token]\n",
        "      sentence_loss = 0\n",
        "      for idx in range(len(tgt_tokens)-1):\n",
        "        previous_token  = translated_tokens[idx]\n",
        "        embedded_token  = self.tgt_embedding(previous_token)\n",
        "        query           = self.RNNcell.hidden_state\n",
        "        attn_context,_  = self.attn_layer(query, keys, values)  #\n",
        "        logprobs        = self.RNNcell(embedded_token,\n",
        "                                       attn_context)\n",
        "        predicted_token = logprobs.argmax()\n",
        "        translated_tokens.append(predicted_token.detach())\n",
        "\n",
        "        correct_token   = tgt_tokens[idx+1]\n",
        "        token_loss      = -logprobs[correct_token]\n",
        "        sentence_loss  += token_loss\n",
        "\n",
        "        if predicted_token == END_Token:\n",
        "          break\n",
        "      return translated_tokens, sentence_loss"
      ],
      "metadata": {
        "id": "YbEzW5vm-Tr8"
      },
      "execution_count": 21,
      "outputs": []
    },
    {
      "cell_type": "code",
      "source": [
        "class Translator(nn.Module):\n",
        "      def __init__(self, embed_dim, hidden_dim, encoder_layers):\n",
        "        super().__init__()\n",
        "        self.encoder = Encoder(embed_dim,\n",
        "                               hidden_dim,\n",
        "                               encoder_layers)\n",
        "        self.decoder = AttnDecoder(embed_dim, hidden_dim)\n",
        "      def forward(self, src_tokens, tgt_tokens):\n",
        "        annotations = self.encoder(src_tokens)\n",
        "        return self.decoder(annotations, tgt_tokens)"
      ],
      "metadata": {
        "id": "r-mWWFJ_o-dL"
      },
      "execution_count": 22,
      "outputs": []
    },
    {
      "cell_type": "markdown",
      "source": [
        "#Training"
      ],
      "metadata": {
        "id": "ZYUyC4Yxsc8x"
      }
    },
    {
      "cell_type": "code",
      "source": [
        "def iterate_one_pair(src_tokens, tgt_tokens):\n",
        "    model.train()\n",
        "    optimizer.zero_grad()\n",
        "    output, loss = model(src_tokens, tgt_tokens)\n",
        "    loss.backward()\n",
        "    optimizer.step()\n",
        "    return loss.detach()"
      ],
      "metadata": {
        "id": "Yt76b77Worze"
      },
      "execution_count": 23,
      "outputs": []
    },
    {
      "cell_type": "code",
      "source": [
        "model     = Translator(50,50,2)\n",
        "optimizer = torch.optim.AdamW(model.parameters())"
      ],
      "metadata": {
        "id": "9S28peMPJMDQ"
      },
      "execution_count": 24,
      "outputs": []
    },
    {
      "cell_type": "code",
      "source": [
        "#overfit a small batch to check if learning _can_ occur\n",
        "num_samples, epochs = 10, 200\n",
        "for epoch in range(epochs):\n",
        "  batch_loss_agg = torch.tensor([0.])\n",
        "  for idx in range(num_samples):\n",
        "    batch_loss_agg += iterate_one_pair(src_tokens[idx], tgt_tokens[idx])\n",
        "  epoch_loss = batch_loss_agg / num_samples\n",
        "  if epoch % 20 == 0:\n",
        "    print(\"Epoch\", epoch, \" loss:\", epoch_loss.item())"
      ],
      "metadata": {
        "id": "EjEYevo7oe6j",
        "colab": {
          "base_uri": "https://localhost:8080/"
        },
        "outputId": "3277a4f4-4d2f-406d-b0e1-1de85335cefc"
      },
      "execution_count": 25,
      "outputs": [
        {
          "output_type": "stream",
          "name": "stdout",
          "text": [
            "Epoch 0  loss: 51.21791458129883\n",
            "Epoch 20  loss: 9.826478958129883\n",
            "Epoch 40  loss: 8.278762817382812\n",
            "Epoch 60  loss: 6.5695390701293945\n",
            "Epoch 80  loss: 4.590360164642334\n",
            "Epoch 100  loss: 1.8273303508758545\n",
            "Epoch 120  loss: 1.0404298305511475\n",
            "Epoch 140  loss: 0.6728299856185913\n",
            "Epoch 160  loss: 0.47168415784835815\n",
            "Epoch 180  loss: 0.3442528247833252\n"
          ]
        }
      ]
    },
    {
      "cell_type": "code",
      "source": [
        "with torch.no_grad():\n",
        "  for idx in range(num_samples):\n",
        "    a, b = model(src_tokens[idx], tgt_tokens[idx])\n",
        "    predicted_itos = [tgt_vocab.get_itos()[x.item()] for x in a]\n",
        "    ground_truth   = [tgt_vocab.get_itos()[x.item()] for x in tgt_tokens[idx]]\n",
        "    print(predicted_itos, ground_truth)"
      ],
      "metadata": {
        "id": "11bVM43vrxUA",
        "colab": {
          "base_uri": "https://localhost:8080/"
        },
        "outputId": "09ec7dbe-b7fb-4ba7-9f22-0dc31aec5a6d"
      },
      "execution_count": 26,
      "outputs": [
        {
          "output_type": "stream",
          "name": "stdout",
          "text": [
            "['<START>', 'Je', 'pense', 'que', 'ça', 'aide.', '<END>'] ['<START>', 'Je', 'pense', 'que', 'ça', 'aide.', '<END>']\n",
            "['<START>', 'Il', 'était', 'trop', 'dur.', '<END>'] ['<START>', 'Il', 'était', 'trop', 'dur.', '<END>']\n",
            "['<START>', 'Écrivez', 'votre', 'nom', 'en', 'majuscules.', '<END>'] ['<START>', 'Écrivez', 'votre', 'nom', 'en', 'majuscules.', '<END>']\n",
            "['<START>', 'Où', 'séjournes-tu', '?', '<END>'] ['<START>', 'Où', 'séjournes-tu', '?', '<END>']\n",
            "['<START>', 'Elle', 'entrouvrit', 'la', 'porte.', '<END>'] ['<START>', 'Elle', 'entrouvrit', 'la', 'porte.', '<END>']\n",
            "['<START>', 'Je', 'ne', 'suis', 'pas', 'intimidée.', '<END>'] ['<START>', 'Je', 'ne', 'suis', 'pas', 'intimidée.', '<END>']\n",
            "['<START>', \"C'est\", 'gentil.', '<END>'] ['<START>', \"C'est\", 'gentil.', '<END>']\n",
            "['<START>', 'Personne', 'ne', 'le', 'saura.', '<END>'] ['<START>', 'Personne', 'ne', 'le', 'saura.', '<END>']\n",
            "['<START>', 'Ne', 'va', 'pas', 'là.', '<END>'] ['<START>', 'Ne', 'va', 'pas', 'là.', '<END>']\n",
            "['<START>', 'La', 'maison', 'est', 'inoccupée.', '<END>'] ['<START>', 'La', 'maison', 'est', 'inoccupée.', '<END>']\n"
          ]
        }
      ]
    },
    {
      "cell_type": "code",
      "source": [
        "with torch.no_grad():\n",
        "  for idx in range(num_samples, num_samples+5):\n",
        "    a, b = model(src_tokens[idx], tgt_tokens[idx])\n",
        "    predicted_itos = [tgt_vocab.get_itos()[x.item()] for x in a]\n",
        "    ground_truth   = [tgt_vocab.get_itos()[x.item()] for x in tgt_tokens[idx]]\n",
        "    print(predicted_itos, ground_truth)"
      ],
      "metadata": {
        "id": "epVkjJ_5wxZK",
        "colab": {
          "base_uri": "https://localhost:8080/"
        },
        "outputId": "efc7318d-9074-4705-8a2a-4a7ed3254a8d"
      },
      "execution_count": 27,
      "outputs": [
        {
          "output_type": "stream",
          "name": "stdout",
          "text": [
            "['<START>', 'Où', 'séjournes-tu', '?', '<END>'] ['<START>', 'Nous', 'avons', 'toutes', 'nos', 'secrets.', '<END>']\n",
            "['<START>', 'Je', 'ne', 'suis', 'pas'] ['<START>', \"J'aime\", 'cette', 'chambre.', '<END>']\n",
            "['<START>', 'Personne', 'ne', 'le', 'saura.', '<END>'] ['<START>', 'Nous', 'ne', 'pouvons', 'pas', \"l'aider.\", '<END>']\n",
            "['<START>', 'Où', 'séjournes-tu', '?', '<END>'] ['<START>', 'Ils', 'sont', 'nos', 'invités.', '<END>']\n",
            "['<START>', 'Où', 'séjournes-tu', '?', '<END>'] ['<START>', 'Voulez-vous', 'coucher', 'avec', 'moi', '?', '<END>']\n"
          ]
        }
      ]
    }
  ]
}