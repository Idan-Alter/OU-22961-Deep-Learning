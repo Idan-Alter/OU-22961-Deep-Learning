{
  "cells": [
    {
      "cell_type": "markdown",
      "metadata": {
        "id": "view-in-github",
        "colab_type": "text"
      },
      "source": [
        "<a href=\"https://colab.research.google.com/github/Idan-Alter/OU-22961-Deep-Learning/blob/main/22961_7_2_MNIST_autoencoder_and_denoising_AE.ipynb\" target=\"_parent\"><img src=\"https://colab.research.google.com/assets/colab-badge.svg\" alt=\"Open In Colab\"/></a>"
      ]
    },
    {
      "cell_type": "code",
      "execution_count": null,
      "metadata": {
        "id": "xRvZe-7xL6yT",
        "colab": {
          "base_uri": "https://localhost:8080/",
          "height": 443,
          "referenced_widgets": [
            "e673bce6d19f4bc4aaa20d973226b8b4",
            "36f3f9236276440eb73cc80f0de829f9",
            "d9dd5c8c2e5a4fc8a7dcb4b1d855ae6a",
            "20d4f851aacd479887a184b7f07ebf60",
            "f12190bac7a440fe92ee2edc74577bbe",
            "c5b898faa7c145098909dbe61c90eba5",
            "97437b11bd424ce3b0d5b06f0e403983",
            "8b844b3aeb184b07bf5e58e06fdb81bd",
            "971d8cd872ca4fcd80f7bf4a2831d663",
            "823e45bb810f47fb9d0ae57250da1492",
            "4f11acc373664eba9a9c2d6ba7836bc2",
            "b0898c4c47114cbea8f6d8cb41fcbb86",
            "ac51387d1dbc4ca89303aee7fe667859",
            "179650b7c62c4a6cae5a31429fcc0037",
            "755ccc6e18b5442096ad956d097563aa",
            "79d9462a07cd40d581b9e19d0f83e4ae",
            "52af6f077eff42028f60ee4b25f4d6c4",
            "ecdc0261cac04427b99646aa633a02fe",
            "5e1d608716564e2285e63b8e103f04e9",
            "295fa39591984e92b572fe896c3bc9c2",
            "d27879103a81415689c84bdf97372934",
            "47d3c1fa9a6b485283578ba07477249f",
            "edc74aa0b28f466298a8117eb86a7d2e",
            "db3addb47e90400b90ae44ba6fdbdd4e",
            "80f026c5ab4a45299eeb3962d5d5237a",
            "725d81740af5425f944b4e0a38d00144",
            "97c2ebabf441437d8bbda9f374fbc3d2",
            "2810d693566c4a0ba748a1d72cadd54f",
            "c1e1ca71712745b98b8d432ecac2d091",
            "763f06b17d8c4ffd8926665301f49527",
            "798eeda11f0a434ea4caa0de03a820fc",
            "265042a655ab4a47aeddf3f9f2483524",
            "a7684fbf61434d55ab7733c5b545caba",
            "cbdd3ffa4e654925857b051918e54d42",
            "43b77e3295554754bd8fed9bfb06f777",
            "27d3c4ed9ca2448db390ba98ca262aeb",
            "e95d3479798648afaecce9e9c42980d8",
            "1f0ace09b7854da7a8ed699d148d8c60",
            "1b9f9bc0be9742f086e34af5e53ab569",
            "51880bf616a94838a5210ce122d14bef",
            "568bfcbc48e44a96aee9b16e376e3376",
            "efbe5a1d15b14ddcb069b31f50e8cbeb",
            "81510d70fc3b4d7eaa060b0392ef49b0",
            "8413ea59bf994e69b80525d6daeb21fd"
          ]
        },
        "outputId": "858eb1fa-cff3-4c64-8dd0-e6838510465a"
      },
      "outputs": [
        {
          "output_type": "stream",
          "name": "stdout",
          "text": [
            "Downloading http://fashion-mnist.s3-website.eu-central-1.amazonaws.com/train-images-idx3-ubyte.gz\n",
            "Downloading http://fashion-mnist.s3-website.eu-central-1.amazonaws.com/train-images-idx3-ubyte.gz to /22961/FashionMNIST/raw/train-images-idx3-ubyte.gz\n"
          ]
        },
        {
          "output_type": "display_data",
          "data": {
            "text/plain": [
              "  0%|          | 0/26421880 [00:00<?, ?it/s]"
            ],
            "application/vnd.jupyter.widget-view+json": {
              "version_major": 2,
              "version_minor": 0,
              "model_id": "e673bce6d19f4bc4aaa20d973226b8b4"
            }
          },
          "metadata": {}
        },
        {
          "output_type": "stream",
          "name": "stdout",
          "text": [
            "Extracting /22961/FashionMNIST/raw/train-images-idx3-ubyte.gz to /22961/FashionMNIST/raw\n",
            "\n",
            "Downloading http://fashion-mnist.s3-website.eu-central-1.amazonaws.com/train-labels-idx1-ubyte.gz\n",
            "Downloading http://fashion-mnist.s3-website.eu-central-1.amazonaws.com/train-labels-idx1-ubyte.gz to /22961/FashionMNIST/raw/train-labels-idx1-ubyte.gz\n"
          ]
        },
        {
          "output_type": "display_data",
          "data": {
            "text/plain": [
              "  0%|          | 0/29515 [00:00<?, ?it/s]"
            ],
            "application/vnd.jupyter.widget-view+json": {
              "version_major": 2,
              "version_minor": 0,
              "model_id": "b0898c4c47114cbea8f6d8cb41fcbb86"
            }
          },
          "metadata": {}
        },
        {
          "output_type": "stream",
          "name": "stdout",
          "text": [
            "Extracting /22961/FashionMNIST/raw/train-labels-idx1-ubyte.gz to /22961/FashionMNIST/raw\n",
            "\n",
            "Downloading http://fashion-mnist.s3-website.eu-central-1.amazonaws.com/t10k-images-idx3-ubyte.gz\n",
            "Downloading http://fashion-mnist.s3-website.eu-central-1.amazonaws.com/t10k-images-idx3-ubyte.gz to /22961/FashionMNIST/raw/t10k-images-idx3-ubyte.gz\n"
          ]
        },
        {
          "output_type": "display_data",
          "data": {
            "text/plain": [
              "  0%|          | 0/4422102 [00:00<?, ?it/s]"
            ],
            "application/vnd.jupyter.widget-view+json": {
              "version_major": 2,
              "version_minor": 0,
              "model_id": "edc74aa0b28f466298a8117eb86a7d2e"
            }
          },
          "metadata": {}
        },
        {
          "output_type": "stream",
          "name": "stdout",
          "text": [
            "Extracting /22961/FashionMNIST/raw/t10k-images-idx3-ubyte.gz to /22961/FashionMNIST/raw\n",
            "\n",
            "Downloading http://fashion-mnist.s3-website.eu-central-1.amazonaws.com/t10k-labels-idx1-ubyte.gz\n",
            "Downloading http://fashion-mnist.s3-website.eu-central-1.amazonaws.com/t10k-labels-idx1-ubyte.gz to /22961/FashionMNIST/raw/t10k-labels-idx1-ubyte.gz\n"
          ]
        },
        {
          "output_type": "display_data",
          "data": {
            "text/plain": [
              "  0%|          | 0/5148 [00:00<?, ?it/s]"
            ],
            "application/vnd.jupyter.widget-view+json": {
              "version_major": 2,
              "version_minor": 0,
              "model_id": "cbdd3ffa4e654925857b051918e54d42"
            }
          },
          "metadata": {}
        },
        {
          "output_type": "stream",
          "name": "stdout",
          "text": [
            "Extracting /22961/FashionMNIST/raw/t10k-labels-idx1-ubyte.gz to /22961/FashionMNIST/raw\n",
            "\n"
          ]
        }
      ],
      "source": [
        "import torch\n",
        "import torchvision\n",
        "from torch import nn\n",
        "import matplotlib.pyplot as plt\n",
        "from torch.utils.data import DataLoader\n",
        "from tqdm import tqdm\n",
        "train_data_transformed = torchvision.datasets.FashionMNIST(\n",
        "    root=\"/22961\", train=True, download=True,\n",
        "    transform=torchvision.transforms.ToTensor())\n",
        "train_dataloader = DataLoader(\n",
        "    train_data_transformed, batch_size=1024)\n",
        "\n",
        "img, _ = next(iter(train_dataloader))\n",
        "\n",
        "test_data_transformed = torchvision.datasets.FashionMNIST(\n",
        "    root=\"/22961\", train=False, download=True,\n",
        "    transform=torchvision.transforms.ToTensor())\n",
        "test_dataloader = DataLoader(\n",
        "    test_data_transformed, batch_size=1024)"
      ]
    },
    {
      "cell_type": "code",
      "execution_count": null,
      "metadata": {
        "colab": {
          "base_uri": "https://localhost:8080/"
        },
        "id": "wZtBh8iDvisf",
        "outputId": "9fcdc41b-8c85-41a9-9390-1c6c206c5361"
      },
      "outputs": [
        {
          "output_type": "stream",
          "name": "stdout",
          "text": [
            "cpu\n"
          ]
        }
      ],
      "source": [
        "if torch.cuda.is_available():\n",
        "  device = torch.device('cuda:0')\n",
        "else:\n",
        "  device = torch.device('cpu')\n",
        "print(device)"
      ]
    },
    {
      "cell_type": "code",
      "execution_count": null,
      "metadata": {
        "id": "HtAKLHiMLN5O"
      },
      "outputs": [],
      "source": [
        "class Encoder(nn.Module):\n",
        "    def __init__(self, latent_dim):\n",
        "        super().__init__()\n",
        "        self.linear = nn.Linear(784,latent_dim)\n",
        "        self.relu   = nn.ReLU()\n",
        "    def forward(self, image):\n",
        "      flattned         = image.flatten(start_dim=1)\n",
        "      compressed_image = self.relu(self.linear(flattned))\n",
        "      return compressed_image"
      ]
    },
    {
      "cell_type": "code",
      "source": [
        "class Decoder(nn.Module):\n",
        "    def __init__(self, latent_dim):\n",
        "        super().__init__()\n",
        "        self.linear    = nn.Linear(latent_dim, 784)\n",
        "        self.sigmoid   = nn.Sigmoid()\n",
        "    def forward(self, compressed_image):\n",
        "      decoded             = self.linear(compressed_image)\n",
        "      decoded             = self.sigmoid(decoded)\n",
        "      reconstructed_image = decoded.reshape(-1,1,28,28)\n",
        "      return reconstructed_image"
      ],
      "metadata": {
        "id": "IyGpC8J6VpwR"
      },
      "execution_count": null,
      "outputs": []
    },
    {
      "cell_type": "code",
      "execution_count": null,
      "metadata": {
        "id": "9L7DCph7MGxr"
      },
      "outputs": [],
      "source": [
        "latent_dim  = 10\n",
        "autoencoder = nn.Sequential(Encoder(latent_dim),\n",
        "                            Decoder(latent_dim)).to(device)\n",
        "optimizer   = torch.optim.AdamW(autoencoder.parameters())\n",
        "MSELoss=nn.MSELoss()"
      ]
    },
    {
      "cell_type": "code",
      "execution_count": null,
      "metadata": {
        "id": "HUXoxIRNvPl7"
      },
      "outputs": [],
      "source": [
        "def iterate_batch(imgs):\n",
        "  imgs = imgs.to(device)\n",
        "  optimizer.zero_grad()\n",
        "  reconstructed = autoencoder(imgs)\n",
        "  loss = MSELoss(reconstructed, imgs)\n",
        "  loss.backward()\n",
        "  optimizer.step()\n",
        "  return loss"
      ]
    },
    {
      "cell_type": "code",
      "execution_count": null,
      "metadata": {
        "colab": {
          "base_uri": "https://localhost:8080/"
        },
        "id": "dY_7vf2zwHlU",
        "outputId": "36d2b30a-7256-4aef-cd6b-bd9a5c8577bf"
      },
      "outputs": [
        {
          "output_type": "stream",
          "name": "stderr",
          "text": [
            "100%|██████████| 20/20 [01:59<00:00,  5.99s/it]\n"
          ]
        }
      ],
      "source": [
        "batches=len(train_dataloader)\n",
        "epochs = 20\n",
        "batch_loss = torch.empty(batches, device=device)\n",
        "epoch_loss =torch.empty(epochs, device=device)\n",
        "for epoch_idx in tqdm(range(epochs)):\n",
        "  for batch_idx, (imgs, _) in enumerate(train_dataloader):\n",
        "    batch_loss[batch_idx] = iterate_batch(imgs)\n",
        "  with torch.no_grad():\n",
        "    epoch_loss[epoch_idx] = batch_loss.mean()"
      ]
    },
    {
      "cell_type": "code",
      "source": [
        "epoch_loss[epoch_idx]"
      ],
      "metadata": {
        "colab": {
          "base_uri": "https://localhost:8080/"
        },
        "id": "KyBlWZwB3i9z",
        "outputId": "92b8be93-f5a0-4447-d82d-f7c10d703f84"
      },
      "execution_count": null,
      "outputs": [
        {
          "output_type": "execute_result",
          "data": {
            "text/plain": [
              "tensor(0.0361)"
            ]
          },
          "metadata": {},
          "execution_count": 8
        }
      ]
    },
    {
      "cell_type": "code",
      "execution_count": null,
      "metadata": {
        "colab": {
          "base_uri": "https://localhost:8080/",
          "height": 265
        },
        "id": "qfRcJOpF5rE1",
        "outputId": "3f6f47d4-77e1-4a0d-e8f5-55f90a913cc5"
      },
      "outputs": [
        {
          "output_type": "display_data",
          "data": {
            "text/plain": [
              "<Figure size 432x288 with 1 Axes>"
            ],
            "image/png": "[encoded data removed]"
          },
          "metadata": {
            "needs_background": "light"
          }
        }
      ],
      "source": [
        "plt.plot(epoch_loss[:epoch_idx+1].cpu().detach());"
      ]
    },
    {
      "cell_type": "code",
      "execution_count": null,
      "metadata": {
        "colab": {
          "base_uri": "https://localhost:8080/",
          "height": 265
        },
        "id": "33nqP0IIyJn1",
        "outputId": "78eaadb1-396d-4708-e9df-b730929fa341"
      },
      "outputs": [
        {
          "output_type": "display_data",
          "data": {
            "text/plain": [
              "<Figure size 432x288 with 1 Axes>"
            ],
            "image/png": "[encoded data removed]"
          },
          "metadata": {
            "needs_background": "light"
          }
        }
      ],
      "source": [
        "plt.plot(batch_loss.cpu().detach());"
      ]
    },
    {
      "cell_type": "code",
      "source": [
        "imgs, labels = next(iter(test_dataloader))"
      ],
      "metadata": {
        "id": "JrUEI0YF7Doh"
      },
      "execution_count": null,
      "outputs": []
    },
    {
      "cell_type": "code",
      "execution_count": null,
      "metadata": {
        "colab": {
          "base_uri": "https://localhost:8080/",
          "height": 180
        },
        "id": "dWdBOAPg7E-9",
        "outputId": "4f8a5a58-6d2c-4d00-da8b-41636469eb60"
      },
      "outputs": [
        {
          "output_type": "display_data",
          "data": {
            "text/plain": [
              "<Figure size 1440x288 with 20 Axes>"
            ],
            "image/png": "[encoded data removed]"
          },
          "metadata": {
            "needs_background": "light"
          }
        }
      ],
      "source": [
        "num_images = 10\n",
        "with torch.no_grad():\n",
        "  reconstructed = autoencoder(imgs.to(device)).cpu()\n",
        "  fig,axes = plt.subplots(2, num_images, sharey=True)\n",
        "  fig.set_figheight(4)\n",
        "  fig.set_figwidth(20)\n",
        "  rand_idx = torch.randint(size=(num_images,), high=imgs.size(0))\n",
        "  for idx in range(num_images):\n",
        "    axes[0,idx].imshow(imgs[rand_idx[idx],...].reshape(28,28).detach(), cmap='Greys')\n",
        "    axes[0,idx].axes.get_xaxis().set_visible(False)\n",
        "    axes[0,idx].axes.get_yaxis().set_visible(False)\n",
        "\n",
        "\n",
        "    axes[1,idx].imshow(reconstructed[[rand_idx[idx]],...].reshape(28,28).detach(), cmap='Greys')\n",
        "    axes[1,idx].axes.get_xaxis().set_visible(False)\n",
        "    axes[1,idx].axes.get_yaxis().set_visible(False)\n"
      ]
    },
    {
      "cell_type": "code",
      "source": [
        "num_images=2\n",
        "with torch.no_grad():\n",
        "  reconstructed = autoencoder(imgs.to(device)).cpu()\n",
        "  fig,axes = plt.subplots(num_images,2)\n",
        "  fig.set_figheight(10)\n",
        "  fig.set_figwidth(9)\n",
        "  for idx in range(num_images):\n",
        "    axes[idx,0].imshow(imgs[idx,...].reshape(28,28).detach(), cmap='Greys')\n",
        "    axes[idx,0].axes.get_xaxis().set_visible(False)\n",
        "    axes[idx,0].axes.get_yaxis().set_visible(False)\n",
        "    \n",
        "\n",
        "    axes[idx,1].imshow(reconstructed[idx,...].reshape(28,28).detach(), cmap='Greys')\n",
        "    axes[idx,1].axes.get_xaxis().set_visible(False)\n",
        "    axes[idx,1].axes.get_yaxis().set_visible(False)\n",
        "axes[0,0].set_title(\"Original\");\n",
        "axes[0,1].set_title(\"Reconstructed\");"
      ],
      "metadata": {
        "colab": {
          "base_uri": "https://localhost:8080/",
          "height": 575
        },
        "id": "nBuBkduZ-to8",
        "outputId": "8e8f7a15-d6cb-4ad5-cc87-f2dd80209539"
      },
      "execution_count": null,
      "outputs": [
        {
          "output_type": "display_data",
          "data": {
            "text/plain": [
              "<Figure size 648x720 with 4 Axes>"
            ],
            "image/png": "[encoded data removed]"
          },
          "metadata": {
            "needs_background": "light"
          }
        }
      ]
    },
    {
      "cell_type": "markdown",
      "source": [
        "#Denoising AE"
      ],
      "metadata": {
        "id": "k15uBUmZ__NN"
      }
    },
    {
      "cell_type": "code",
      "source": [
        "latent_dim = int(784 * 1.2)\n",
        "DAE        = nn.Sequential(Encoder(latent_dim),\n",
        "                           Decoder(latent_dim)).to(device)\n",
        "optimizer  = torch.optim.AdamW(DAE.parameters())\n",
        "MSELoss    = nn.MSELoss()\n",
        "corruptor  = nn.Dropout()"
      ],
      "metadata": {
        "id": "aw5jmbuCACBA"
      },
      "execution_count": null,
      "outputs": []
    },
    {
      "cell_type": "code",
      "source": [
        "def iterate_batch_DAE(original_imgs, corrupted_imgs):\n",
        "  original_imgs  = original_imgs.to(device)\n",
        "  corrupted_imgs = corrupted_imgs.to(device)\n",
        "  optimizer.zero_grad()\n",
        "  reconstructed = DAE(corrupted_imgs)\n",
        "  loss          = MSELoss(reconstructed, original_imgs)\n",
        "  loss.backward()\n",
        "  optimizer.step()\n",
        "  return loss"
      ],
      "metadata": {
        "id": "F78ZO3_EBMD2"
      },
      "execution_count": null,
      "outputs": []
    },
    {
      "cell_type": "code",
      "source": [
        "batches = len(train_dataloader)\n",
        "epochs  = 20\n",
        "batch_loss = torch.empty(batches,device=device)\n",
        "epoch_loss = torch.empty(epochs,device=device)\n",
        "for epoch_idx in tqdm(range(epochs)):\n",
        "  for batch_idx, (imgs, _) in enumerate(train_dataloader):\n",
        "    corrupted_imgs = corruptor(imgs)\n",
        "    batch_loss[batch_idx] = iterate_batch_DAE(imgs, corrupted_imgs)\n",
        "  with torch.no_grad():\n",
        "    epoch_loss[epoch_idx] = batch_loss.mean()"
      ],
      "metadata": {
        "colab": {
          "base_uri": "https://localhost:8080/"
        },
        "id": "v7wrs3_HAX8m",
        "outputId": "daed687e-f53a-4e73-90db-01579ae892c2"
      },
      "execution_count": null,
      "outputs": [
        {
          "output_type": "stream",
          "name": "stderr",
          "text": [
            "100%|██████████| 20/20 [04:26<00:00, 13.34s/it]\n"
          ]
        }
      ]
    },
    {
      "cell_type": "code",
      "execution_count": null,
      "metadata": {
        "colab": {
          "base_uri": "https://localhost:8080/",
          "height": 265
        },
        "outputId": "7dc029cb-535e-4338-c31a-5d18a147a7e8",
        "id": "fuHdLNb8CRV7"
      },
      "outputs": [
        {
          "output_type": "display_data",
          "data": {
            "text/plain": [
              "<Figure size 432x288 with 1 Axes>"
            ],
            "image/png": "[encoded data removed]"
          },
          "metadata": {
            "needs_background": "light"
          }
        }
      ],
      "source": [
        "plt.plot(epoch_loss[:epoch_idx+1].cpu().detach());"
      ]
    },
    {
      "cell_type": "code",
      "execution_count": null,
      "metadata": {
        "colab": {
          "base_uri": "https://localhost:8080/",
          "height": 265
        },
        "outputId": "fd8787fa-a8d1-4ce4-f217-2cda6ba2570d",
        "id": "t3eRCcITCRV8"
      },
      "outputs": [
        {
          "output_type": "display_data",
          "data": {
            "text/plain": [
              "<Figure size 432x288 with 1 Axes>"
            ],
            "image/png": "[encoded data removed]"
          },
          "metadata": {
            "needs_background": "light"
          }
        }
      ],
      "source": [
        "plt.plot(batch_loss.cpu().detach());"
      ]
    },
    {
      "cell_type": "code",
      "source": [
        "num_images = 10\n",
        "with torch.no_grad():\n",
        "  corrupted_imgs = corruptor(imgs)\n",
        "  reconstructed  = DAE(corrupted_imgs.to(device)).cpu()\n",
        "fig,axes = plt.subplots(3, num_images, sharey=True)\n",
        "fig.set_figheight(6)\n",
        "fig.set_figwidth(20)\n",
        "rand_idx = torch.randint(size=(num_images,), high=imgs.size(0))\n",
        "for idx in range(num_images):\n",
        "  axes[0,idx].imshow(imgs[rand_idx[idx],...].reshape(28,28).detach(), cmap='Greys')\n",
        "  axes[0,idx].axes.get_xaxis().set_visible(False)\n",
        "  axes[0,idx].axes.get_yaxis().set_visible(False)\n",
        "\n",
        "  axes[1,idx].imshow(corrupted_imgs[rand_idx[idx],...].reshape(28,28).detach(), cmap='Greys')\n",
        "  axes[1,idx].axes.get_xaxis().set_visible(False)\n",
        "  axes[1,idx].axes.get_yaxis().set_visible(False)\n",
        "\n",
        "  axes[2,idx].imshow(reconstructed[[rand_idx[idx]],...].reshape(28,28).detach(), cmap='Greys')\n",
        "  axes[2,idx].axes.get_xaxis().set_visible(False)\n",
        "  axes[2,idx].axes.get_yaxis().set_visible(False)\n"
      ],
      "metadata": {
        "colab": {
          "base_uri": "https://localhost:8080/",
          "height": 258
        },
        "id": "FuFpqtGtTzMh",
        "outputId": "d1893854-3850-4793-8b42-3548d540e2b2"
      },
      "execution_count": null,
      "outputs": [
        {
          "output_type": "display_data",
          "data": {
            "text/plain": [
              "<Figure size 1440x432 with 30 Axes>"
            ],
            "image/png": "[encoded data removed]"
          },
          "metadata": {
            "needs_background": "light"
          }
        }
      ]
    },
    {
      "cell_type": "code",
      "source": [
        "num_images = 2\n",
        "with torch.no_grad():\n",
        "  corrupted_imgs = corruptor(imgs)\n",
        "  reconstructed  = DAE(corrupted_imgs.to(device)).cpu()\n",
        "fig,axes = plt.subplots(num_images,3)\n",
        "fig.set_figheight(8)\n",
        "fig.set_figwidth(11)\n",
        "for idx in range(num_images):\n",
        "  axes[idx,0].imshow(imgs[idx,...].reshape(28,28).detach(), cmap='Greys')\n",
        "  axes[idx,0].axes.get_xaxis().set_visible(False)\n",
        "  axes[idx,0].axes.get_yaxis().set_visible(False)\n",
        "  \n",
        "  axes[idx,1].imshow(corrupted_imgs[idx,...].reshape(28,28).detach(), cmap='Greys')\n",
        "  axes[idx,1].axes.get_xaxis().set_visible(False)\n",
        "  axes[idx,1].axes.get_yaxis().set_visible(False)\n",
        "\n",
        "  axes[idx,2].imshow(reconstructed[idx,...].reshape(28,28).detach(), cmap='Greys')\n",
        "  axes[idx,2].axes.get_xaxis().set_visible(False)\n",
        "  axes[idx,2].axes.get_yaxis().set_visible(False)\n",
        "    \n",
        "axes[0,0].set_title(\"Original\");\n",
        "axes[0,1].set_title(\"Corrupted\");\n",
        "axes[0,2].set_title(\"Reconstructed\");"
      ],
      "metadata": {
        "colab": {
          "base_uri": "https://localhost:8080/",
          "height": 468
        },
        "id": "YrO-4zQkBqfa",
        "outputId": "5d3943c0-515c-44d9-a8ee-a1680b65220a"
      },
      "execution_count": null,
      "outputs": [
        {
          "output_type": "display_data",
          "data": {
            "text/plain": [
              "<Figure size 792x576 with 6 Axes>"
            ],
            "image/png": "[encoded data removed]"
          },
          "metadata": {
            "needs_background": "light"
          }
        }
      ]
    },
    {
      "cell_type": "markdown",
      "source": [
        "#Generating New Samples"
      ],
      "metadata": {
        "id": "vMFLXXr08ez4"
      }
    },
    {
      "cell_type": "code",
      "source": [
        "print(list(DAE.named_children()))\n",
        "encoder = DAE[0]\n",
        "decoder = DAE[1]"
      ],
      "metadata": {
        "id": "pudD7ndve-Ni",
        "colab": {
          "base_uri": "https://localhost:8080/"
        },
        "outputId": "d19ef276-8bf7-413f-d673-7dfbea0b90f6"
      },
      "execution_count": null,
      "outputs": [
        {
          "output_type": "stream",
          "name": "stdout",
          "text": [
            "[('0', Encoder(\n",
            "  (linear): Linear(in_features=784, out_features=940, bias=True)\n",
            "  (relu): ReLU()\n",
            ")), ('1', Decoder(\n",
            "  (linear): Linear(in_features=940, out_features=784, bias=True)\n",
            "  (sigmoid): Sigmoid()\n",
            "))]\n"
          ]
        }
      ]
    },
    {
      "cell_type": "code",
      "source": [
        "num_samples = 2\n",
        "with torch.no_grad():\n",
        "  one_img = imgs[1,...].to(device)\n",
        "  encoded = encoder(one_img)\n",
        "  encoded.size()\n",
        "  perturbation     = torch.randn((num_samples, *encoded.size()))\n",
        "  perturbed_latent = encoded*(1+perturbation)\n",
        "  new_samples      = decoder(perturbed_latent)\n",
        "\n",
        "fig,axes = plt.subplots(1, num_samples+1)\n",
        "fig.set_figheight(8)\n",
        "fig.set_figwidth(num_samples*6)\n",
        "for idx in range(num_samples):\n",
        "  axes[idx+1].imshow(new_samples[idx,...].cpu().reshape(28,28).detach(), cmap='Greys')\n",
        "  axes[idx+1].axes.get_xaxis().set_visible(False)\n",
        "  axes[idx+1].axes.get_yaxis().set_visible(False)\n",
        "  \n",
        "axes[0].imshow(one_img[0,...].cpu().reshape(28,28).detach(), cmap='Greys')\n",
        "axes[0].set_title(\"Original\");\n",
        "axes[0].axes.get_xaxis().set_visible(False)\n",
        "axes[0].axes.get_yaxis().set_visible(False)"
      ],
      "metadata": {
        "id": "PFcx2OM7eZ1d",
        "colab": {
          "base_uri": "https://localhost:8080/",
          "height": 247
        },
        "outputId": "a5dd57da-2dac-4b83-d4cc-700bd4a2fa57"
      },
      "execution_count": null,
      "outputs": [
        {
          "output_type": "display_data",
          "data": {
            "text/plain": [
              "<Figure size 864x576 with 3 Axes>"
            ],
            "image/png": "[encoded data removed]"
          },
          "metadata": {
            "needs_background": "light"
          }
        }
      ]
    }
  ],
  "metadata": {
    "colab": {
      "collapsed_sections": [],
      "provenance": [],
      "authorship_tag": "ABX9TyPm97ENAb4PK0MJzVM9THNi",
      "include_colab_link": true
    },
    "kernelspec": {
      "display_name": "Python 3",
      "name": "python3"
    },
    "language_info": {
      "name": "python"
    },
    "widgets": {
      "application/vnd.jupyter.widget-state+json": {
        "e673bce6d19f4bc4aaa20d973226b8b4": {
          "model_module": "@jupyter-widgets/controls",
          "model_name": "HBoxModel",
          "model_module_version": "1.5.0",
          "state": {
            "_dom_classes": [],
            "_model_module": "@jupyter-widgets/controls",
            "_model_module_version": "1.5.0",
            "_model_name": "HBoxModel",
            "_view_count": null,
            "_view_module": "@jupyter-widgets/controls",
            "_view_module_version": "1.5.0",
            "_view_name": "HBoxView",
            "box_style": "",
            "children": [
              "IPY_MODEL_36f3f9236276440eb73cc80f0de829f9",
              "IPY_MODEL_d9dd5c8c2e5a4fc8a7dcb4b1d855ae6a",
              "IPY_MODEL_20d4f851aacd479887a184b7f07ebf60"
            ],
            "layout": "IPY_MODEL_f12190bac7a440fe92ee2edc74577bbe"
          }
        },
        "36f3f9236276440eb73cc80f0de829f9": {
          "model_module": "@jupyter-widgets/controls",
          "model_name": "HTMLModel",
          "model_module_version": "1.5.0",
          "state": {
            "_dom_classes": [],
            "_model_module": "@jupyter-widgets/controls",
            "_model_module_version": "1.5.0",
            "_model_name": "HTMLModel",
            "_view_count": null,
            "_view_module": "@jupyter-widgets/controls",
            "_view_module_version": "1.5.0",
            "_view_name": "HTMLView",
            "description": "",
            "description_tooltip": null,
            "layout": "IPY_MODEL_c5b898faa7c145098909dbe61c90eba5",
            "placeholder": "​",
            "style": "IPY_MODEL_97437b11bd424ce3b0d5b06f0e403983",
            "value": ""
          }
        },
        "d9dd5c8c2e5a4fc8a7dcb4b1d855ae6a": {
          "model_module": "@jupyter-widgets/controls",
          "model_name": "FloatProgressModel",
          "model_module_version": "1.5.0",
          "state": {
            "_dom_classes": [],
            "_model_module": "@jupyter-widgets/controls",
            "_model_module_version": "1.5.0",
            "_model_name": "FloatProgressModel",
            "_view_count": null,
            "_view_module": "@jupyter-widgets/controls",
            "_view_module_version": "1.5.0",
            "_view_name": "ProgressView",
            "bar_style": "success",
            "description": "",
            "description_tooltip": null,
            "layout": "IPY_MODEL_8b844b3aeb184b07bf5e58e06fdb81bd",
            "max": 26421880,
            "min": 0,
            "orientation": "horizontal",
            "style": "IPY_MODEL_971d8cd872ca4fcd80f7bf4a2831d663",
            "value": 26421880
          }
        },
        "20d4f851aacd479887a184b7f07ebf60": {
          "model_module": "@jupyter-widgets/controls",
          "model_name": "HTMLModel",
          "model_module_version": "1.5.0",
          "state": {
            "_dom_classes": [],
            "_model_module": "@jupyter-widgets/controls",
            "_model_module_version": "1.5.0",
            "_model_name": "HTMLModel",
            "_view_count": null,
            "_view_module": "@jupyter-widgets/controls",
            "_view_module_version": "1.5.0",
            "_view_name": "HTMLView",
            "description": "",
            "description_tooltip": null,
            "layout": "IPY_MODEL_823e45bb810f47fb9d0ae57250da1492",
            "placeholder": "​",
            "style": "IPY_MODEL_4f11acc373664eba9a9c2d6ba7836bc2",
            "value": " 26422272/? [00:01&lt;00:00, 28635136.97it/s]"
          }
        },
        "f12190bac7a440fe92ee2edc74577bbe": {
          "model_module": "@jupyter-widgets/base",
          "model_name": "LayoutModel",
          "model_module_version": "1.2.0",
          "state": {
            "_model_module": "@jupyter-widgets/base",
            "_model_module_version": "1.2.0",
            "_model_name": "LayoutModel",
            "_view_count": null,
            "_view_module": "@jupyter-widgets/base",
            "_view_module_version": "1.2.0",
            "_view_name": "LayoutView",
            "align_content": null,
            "align_items": null,
            "align_self": null,
            "border": null,
            "bottom": null,
            "display": null,
            "flex": null,
            "flex_flow": null,
            "grid_area": null,
            "grid_auto_columns": null,
            "grid_auto_flow": null,
            "grid_auto_rows": null,
            "grid_column": null,
            "grid_gap": null,
            "grid_row": null,
            "grid_template_areas": null,
            "grid_template_columns": null,
            "grid_template_rows": null,
            "height": null,
            "justify_content": null,
            "justify_items": null,
            "left": null,
            "margin": null,
            "max_height": null,
            "max_width": null,
            "min_height": null,
            "min_width": null,
            "object_fit": null,
            "object_position": null,
            "order": null,
            "overflow": null,
            "overflow_x": null,
            "overflow_y": null,
            "padding": null,
            "right": null,
            "top": null,
            "visibility": null,
            "width": null
          }
        },
        "c5b898faa7c145098909dbe61c90eba5": {
          "model_module": "@jupyter-widgets/base",
          "model_name": "LayoutModel",
          "model_module_version": "1.2.0",
          "state": {
            "_model_module": "@jupyter-widgets/base",
            "_model_module_version": "1.2.0",
            "_model_name": "LayoutModel",
            "_view_count": null,
            "_view_module": "@jupyter-widgets/base",
            "_view_module_version": "1.2.0",
            "_view_name": "LayoutView",
            "align_content": null,
            "align_items": null,
            "align_self": null,
            "border": null,
            "bottom": null,
            "display": null,
            "flex": null,
            "flex_flow": null,
            "grid_area": null,
            "grid_auto_columns": null,
            "grid_auto_flow": null,
            "grid_auto_rows": null,
            "grid_column": null,
            "grid_gap": null,
            "grid_row": null,
            "grid_template_areas": null,
            "grid_template_columns": null,
            "grid_template_rows": null,
            "height": null,
            "justify_content": null,
            "justify_items": null,
            "left": null,
            "margin": null,
            "max_height": null,
            "max_width": null,
            "min_height": null,
            "min_width": null,
            "object_fit": null,
            "object_position": null,
            "order": null,
            "overflow": null,
            "overflow_x": null,
            "overflow_y": null,
            "padding": null,
            "right": null,
            "top": null,
            "visibility": null,
            "width": null
          }
        },
        "97437b11bd424ce3b0d5b06f0e403983": {
          "model_module": "@jupyter-widgets/controls",
          "model_name": "DescriptionStyleModel",
          "model_module_version": "1.5.0",
          "state": {
            "_model_module": "@jupyter-widgets/controls",
            "_model_module_version": "1.5.0",
            "_model_name": "DescriptionStyleModel",
            "_view_count": null,
            "_view_module": "@jupyter-widgets/base",
            "_view_module_version": "1.2.0",
            "_view_name": "StyleView",
            "description_width": ""
          }
        },
        "8b844b3aeb184b07bf5e58e06fdb81bd": {
          "model_module": "@jupyter-widgets/base",
          "model_name": "LayoutModel",
          "model_module_version": "1.2.0",
          "state": {
            "_model_module": "@jupyter-widgets/base",
            "_model_module_version": "1.2.0",
            "_model_name": "LayoutModel",
            "_view_count": null,
            "_view_module": "@jupyter-widgets/base",
            "_view_module_version": "1.2.0",
            "_view_name": "LayoutView",
            "align_content": null,
            "align_items": null,
            "align_self": null,
            "border": null,
            "bottom": null,
            "display": null,
            "flex": null,
            "flex_flow": null,
            "grid_area": null,
            "grid_auto_columns": null,
            "grid_auto_flow": null,
            "grid_auto_rows": null,
            "grid_column": null,
            "grid_gap": null,
            "grid_row": null,
            "grid_template_areas": null,
            "grid_template_columns": null,
            "grid_template_rows": null,
            "height": null,
            "justify_content": null,
            "justify_items": null,
            "left": null,
            "margin": null,
            "max_height": null,
            "max_width": null,
            "min_height": null,
            "min_width": null,
            "object_fit": null,
            "object_position": null,
            "order": null,
            "overflow": null,
            "overflow_x": null,
            "overflow_y": null,
            "padding": null,
            "right": null,
            "top": null,
            "visibility": null,
            "width": null
          }
        },
        "971d8cd872ca4fcd80f7bf4a2831d663": {
          "model_module": "@jupyter-widgets/controls",
          "model_name": "ProgressStyleModel",
          "model_module_version": "1.5.0",
          "state": {
            "_model_module": "@jupyter-widgets/controls",
            "_model_module_version": "1.5.0",
            "_model_name": "ProgressStyleModel",
            "_view_count": null,
            "_view_module": "@jupyter-widgets/base",
            "_view_module_version": "1.2.0",
            "_view_name": "StyleView",
            "bar_color": null,
            "description_width": ""
          }
        },
        "823e45bb810f47fb9d0ae57250da1492": {
          "model_module": "@jupyter-widgets/base",
          "model_name": "LayoutModel",
          "model_module_version": "1.2.0",
          "state": {
            "_model_module": "@jupyter-widgets/base",
            "_model_module_version": "1.2.0",
            "_model_name": "LayoutModel",
            "_view_count": null,
            "_view_module": "@jupyter-widgets/base",
            "_view_module_version": "1.2.0",
            "_view_name": "LayoutView",
            "align_content": null,
            "align_items": null,
            "align_self": null,
            "border": null,
            "bottom": null,
            "display": null,
            "flex": null,
            "flex_flow": null,
            "grid_area": null,
            "grid_auto_columns": null,
            "grid_auto_flow": null,
            "grid_auto_rows": null,
            "grid_column": null,
            "grid_gap": null,
            "grid_row": null,
            "grid_template_areas": null,
            "grid_template_columns": null,
            "grid_template_rows": null,
            "height": null,
            "justify_content": null,
            "justify_items": null,
            "left": null,
            "margin": null,
            "max_height": null,
            "max_width": null,
            "min_height": null,
            "min_width": null,
            "object_fit": null,
            "object_position": null,
            "order": null,
            "overflow": null,
            "overflow_x": null,
            "overflow_y": null,
            "padding": null,
            "right": null,
            "top": null,
            "visibility": null,
            "width": null
          }
        },
        "4f11acc373664eba9a9c2d6ba7836bc2": {
          "model_module": "@jupyter-widgets/controls",
          "model_name": "DescriptionStyleModel",
          "model_module_version": "1.5.0",
          "state": {
            "_model_module": "@jupyter-widgets/controls",
            "_model_module_version": "1.5.0",
            "_model_name": "DescriptionStyleModel",
            "_view_count": null,
            "_view_module": "@jupyter-widgets/base",
            "_view_module_version": "1.2.0",
            "_view_name": "StyleView",
            "description_width": ""
          }
        },
        "b0898c4c47114cbea8f6d8cb41fcbb86": {
          "model_module": "@jupyter-widgets/controls",
          "model_name": "HBoxModel",
          "model_module_version": "1.5.0",
          "state": {
            "_dom_classes": [],
            "_model_module": "@jupyter-widgets/controls",
            "_model_module_version": "1.5.0",
            "_model_name": "HBoxModel",
            "_view_count": null,
            "_view_module": "@jupyter-widgets/controls",
            "_view_module_version": "1.5.0",
            "_view_name": "HBoxView",
            "box_style": "",
            "children": [
              "IPY_MODEL_ac51387d1dbc4ca89303aee7fe667859",
              "IPY_MODEL_179650b7c62c4a6cae5a31429fcc0037",
              "IPY_MODEL_755ccc6e18b5442096ad956d097563aa"
            ],
            "layout": "IPY_MODEL_79d9462a07cd40d581b9e19d0f83e4ae"
          }
        },
        "ac51387d1dbc4ca89303aee7fe667859": {
          "model_module": "@jupyter-widgets/controls",
          "model_name": "HTMLModel",
          "model_module_version": "1.5.0",
          "state": {
            "_dom_classes": [],
            "_model_module": "@jupyter-widgets/controls",
            "_model_module_version": "1.5.0",
            "_model_name": "HTMLModel",
            "_view_count": null,
            "_view_module": "@jupyter-widgets/controls",
            "_view_module_version": "1.5.0",
            "_view_name": "HTMLView",
            "description": "",
            "description_tooltip": null,
            "layout": "IPY_MODEL_52af6f077eff42028f60ee4b25f4d6c4",
            "placeholder": "​",
            "style": "IPY_MODEL_ecdc0261cac04427b99646aa633a02fe",
            "value": ""
          }
        },
        "179650b7c62c4a6cae5a31429fcc0037": {
          "model_module": "@jupyter-widgets/controls",
          "model_name": "FloatProgressModel",
          "model_module_version": "1.5.0",
          "state": {
            "_dom_classes": [],
            "_model_module": "@jupyter-widgets/controls",
            "_model_module_version": "1.5.0",
            "_model_name": "FloatProgressModel",
            "_view_count": null,
            "_view_module": "@jupyter-widgets/controls",
            "_view_module_version": "1.5.0",
            "_view_name": "ProgressView",
            "bar_style": "success",
            "description": "",
            "description_tooltip": null,
            "layout": "IPY_MODEL_5e1d608716564e2285e63b8e103f04e9",
            "max": 29515,
            "min": 0,
            "orientation": "horizontal",
            "style": "IPY_MODEL_295fa39591984e92b572fe896c3bc9c2",
            "value": 29515
          }
        },
        "755ccc6e18b5442096ad956d097563aa": {
          "model_module": "@jupyter-widgets/controls",
          "model_name": "HTMLModel",
          "model_module_version": "1.5.0",
          "state": {
            "_dom_classes": [],
            "_model_module": "@jupyter-widgets/controls",
            "_model_module_version": "1.5.0",
            "_model_name": "HTMLModel",
            "_view_count": null,
            "_view_module": "@jupyter-widgets/controls",
            "_view_module_version": "1.5.0",
            "_view_name": "HTMLView",
            "description": "",
            "description_tooltip": null,
            "layout": "IPY_MODEL_d27879103a81415689c84bdf97372934",
            "placeholder": "​",
            "style": "IPY_MODEL_47d3c1fa9a6b485283578ba07477249f",
            "value": " 29696/? [00:00&lt;00:00, 8086.82it/s]"
          }
        },
        "79d9462a07cd40d581b9e19d0f83e4ae": {
          "model_module": "@jupyter-widgets/base",
          "model_name": "LayoutModel",
          "model_module_version": "1.2.0",
          "state": {
            "_model_module": "@jupyter-widgets/base",
            "_model_module_version": "1.2.0",
            "_model_name": "LayoutModel",
            "_view_count": null,
            "_view_module": "@jupyter-widgets/base",
            "_view_module_version": "1.2.0",
            "_view_name": "LayoutView",
            "align_content": null,
            "align_items": null,
            "align_self": null,
            "border": null,
            "bottom": null,
            "display": null,
            "flex": null,
            "flex_flow": null,
            "grid_area": null,
            "grid_auto_columns": null,
            "grid_auto_flow": null,
            "grid_auto_rows": null,
            "grid_column": null,
            "grid_gap": null,
            "grid_row": null,
            "grid_template_areas": null,
            "grid_template_columns": null,
            "grid_template_rows": null,
            "height": null,
            "justify_content": null,
            "justify_items": null,
            "left": null,
            "margin": null,
            "max_height": null,
            "max_width": null,
            "min_height": null,
            "min_width": null,
            "object_fit": null,
            "object_position": null,
            "order": null,
            "overflow": null,
            "overflow_x": null,
            "overflow_y": null,
            "padding": null,
            "right": null,
            "top": null,
            "visibility": null,
            "width": null
          }
        },
        "52af6f077eff42028f60ee4b25f4d6c4": {
          "model_module": "@jupyter-widgets/base",
          "model_name": "LayoutModel",
          "model_module_version": "1.2.0",
          "state": {
            "_model_module": "@jupyter-widgets/base",
            "_model_module_version": "1.2.0",
            "_model_name": "LayoutModel",
            "_view_count": null,
            "_view_module": "@jupyter-widgets/base",
            "_view_module_version": "1.2.0",
            "_view_name": "LayoutView",
            "align_content": null,
            "align_items": null,
            "align_self": null,
            "border": null,
            "bottom": null,
            "display": null,
            "flex": null,
            "flex_flow": null,
            "grid_area": null,
            "grid_auto_columns": null,
            "grid_auto_flow": null,
            "grid_auto_rows": null,
            "grid_column": null,
            "grid_gap": null,
            "grid_row": null,
            "grid_template_areas": null,
            "grid_template_columns": null,
            "grid_template_rows": null,
            "height": null,
            "justify_content": null,
            "justify_items": null,
            "left": null,
            "margin": null,
            "max_height": null,
            "max_width": null,
            "min_height": null,
            "min_width": null,
            "object_fit": null,
            "object_position": null,
            "order": null,
            "overflow": null,
            "overflow_x": null,
            "overflow_y": null,
            "padding": null,
            "right": null,
            "top": null,
            "visibility": null,
            "width": null
          }
        },
        "ecdc0261cac04427b99646aa633a02fe": {
          "model_module": "@jupyter-widgets/controls",
          "model_name": "DescriptionStyleModel",
          "model_module_version": "1.5.0",
          "state": {
            "_model_module": "@jupyter-widgets/controls",
            "_model_module_version": "1.5.0",
            "_model_name": "DescriptionStyleModel",
            "_view_count": null,
            "_view_module": "@jupyter-widgets/base",
            "_view_module_version": "1.2.0",
            "_view_name": "StyleView",
            "description_width": ""
          }
        },
        "5e1d608716564e2285e63b8e103f04e9": {
          "model_module": "@jupyter-widgets/base",
          "model_name": "LayoutModel",
          "model_module_version": "1.2.0",
          "state": {
            "_model_module": "@jupyter-widgets/base",
            "_model_module_version": "1.2.0",
            "_model_name": "LayoutModel",
            "_view_count": null,
            "_view_module": "@jupyter-widgets/base",
            "_view_module_version": "1.2.0",
            "_view_name": "LayoutView",
            "align_content": null,
            "align_items": null,
            "align_self": null,
            "border": null,
            "bottom": null,
            "display": null,
            "flex": null,
            "flex_flow": null,
            "grid_area": null,
            "grid_auto_columns": null,
            "grid_auto_flow": null,
            "grid_auto_rows": null,
            "grid_column": null,
            "grid_gap": null,
            "grid_row": null,
            "grid_template_areas": null,
            "grid_template_columns": null,
            "grid_template_rows": null,
            "height": null,
            "justify_content": null,
            "justify_items": null,
            "left": null,
            "margin": null,
            "max_height": null,
            "max_width": null,
            "min_height": null,
            "min_width": null,
            "object_fit": null,
            "object_position": null,
            "order": null,
            "overflow": null,
            "overflow_x": null,
            "overflow_y": null,
            "padding": null,
            "right": null,
            "top": null,
            "visibility": null,
            "width": null
          }
        },
        "295fa39591984e92b572fe896c3bc9c2": {
          "model_module": "@jupyter-widgets/controls",
          "model_name": "ProgressStyleModel",
          "model_module_version": "1.5.0",
          "state": {
            "_model_module": "@jupyter-widgets/controls",
            "_model_module_version": "1.5.0",
            "_model_name": "ProgressStyleModel",
            "_view_count": null,
            "_view_module": "@jupyter-widgets/base",
            "_view_module_version": "1.2.0",
            "_view_name": "StyleView",
            "bar_color": null,
            "description_width": ""
          }
        },
        "d27879103a81415689c84bdf97372934": {
          "model_module": "@jupyter-widgets/base",
          "model_name": "LayoutModel",
          "model_module_version": "1.2.0",
          "state": {
            "_model_module": "@jupyter-widgets/base",
            "_model_module_version": "1.2.0",
            "_model_name": "LayoutModel",
            "_view_count": null,
            "_view_module": "@jupyter-widgets/base",
            "_view_module_version": "1.2.0",
            "_view_name": "LayoutView",
            "align_content": null,
            "align_items": null,
            "align_self": null,
            "border": null,
            "bottom": null,
            "display": null,
            "flex": null,
            "flex_flow": null,
            "grid_area": null,
            "grid_auto_columns": null,
            "grid_auto_flow": null,
            "grid_auto_rows": null,
            "grid_column": null,
            "grid_gap": null,
            "grid_row": null,
            "grid_template_areas": null,
            "grid_template_columns": null,
            "grid_template_rows": null,
            "height": null,
            "justify_content": null,
            "justify_items": null,
            "left": null,
            "margin": null,
            "max_height": null,
            "max_width": null,
            "min_height": null,
            "min_width": null,
            "object_fit": null,
            "object_position": null,
            "order": null,
            "overflow": null,
            "overflow_x": null,
            "overflow_y": null,
            "padding": null,
            "right": null,
            "top": null,
            "visibility": null,
            "width": null
          }
        },
        "47d3c1fa9a6b485283578ba07477249f": {
          "model_module": "@jupyter-widgets/controls",
          "model_name": "DescriptionStyleModel",
          "model_module_version": "1.5.0",
          "state": {
            "_model_module": "@jupyter-widgets/controls",
            "_model_module_version": "1.5.0",
            "_model_name": "DescriptionStyleModel",
            "_view_count": null,
            "_view_module": "@jupyter-widgets/base",
            "_view_module_version": "1.2.0",
            "_view_name": "StyleView",
            "description_width": ""
          }
        },
        "edc74aa0b28f466298a8117eb86a7d2e": {
          "model_module": "@jupyter-widgets/controls",
          "model_name": "HBoxModel",
          "model_module_version": "1.5.0",
          "state": {
            "_dom_classes": [],
            "_model_module": "@jupyter-widgets/controls",
            "_model_module_version": "1.5.0",
            "_model_name": "HBoxModel",
            "_view_count": null,
            "_view_module": "@jupyter-widgets/controls",
            "_view_module_version": "1.5.0",
            "_view_name": "HBoxView",
            "box_style": "",
            "children": [
              "IPY_MODEL_db3addb47e90400b90ae44ba6fdbdd4e",
              "IPY_MODEL_80f026c5ab4a45299eeb3962d5d5237a",
              "IPY_MODEL_725d81740af5425f944b4e0a38d00144"
            ],
            "layout": "IPY_MODEL_97c2ebabf441437d8bbda9f374fbc3d2"
          }
        },
        "db3addb47e90400b90ae44ba6fdbdd4e": {
          "model_module": "@jupyter-widgets/controls",
          "model_name": "HTMLModel",
          "model_module_version": "1.5.0",
          "state": {
            "_dom_classes": [],
            "_model_module": "@jupyter-widgets/controls",
            "_model_module_version": "1.5.0",
            "_model_name": "HTMLModel",
            "_view_count": null,
            "_view_module": "@jupyter-widgets/controls",
            "_view_module_version": "1.5.0",
            "_view_name": "HTMLView",
            "description": "",
            "description_tooltip": null,
            "layout": "IPY_MODEL_2810d693566c4a0ba748a1d72cadd54f",
            "placeholder": "​",
            "style": "IPY_MODEL_c1e1ca71712745b98b8d432ecac2d091",
            "value": ""
          }
        },
        "80f026c5ab4a45299eeb3962d5d5237a": {
          "model_module": "@jupyter-widgets/controls",
          "model_name": "FloatProgressModel",
          "model_module_version": "1.5.0",
          "state": {
            "_dom_classes": [],
            "_model_module": "@jupyter-widgets/controls",
            "_model_module_version": "1.5.0",
            "_model_name": "FloatProgressModel",
            "_view_count": null,
            "_view_module": "@jupyter-widgets/controls",
            "_view_module_version": "1.5.0",
            "_view_name": "ProgressView",
            "bar_style": "success",
            "description": "",
            "description_tooltip": null,
            "layout": "IPY_MODEL_763f06b17d8c4ffd8926665301f49527",
            "max": 4422102,
            "min": 0,
            "orientation": "horizontal",
            "style": "IPY_MODEL_798eeda11f0a434ea4caa0de03a820fc",
            "value": 4422102
          }
        },
        "725d81740af5425f944b4e0a38d00144": {
          "model_module": "@jupyter-widgets/controls",
          "model_name": "HTMLModel",
          "model_module_version": "1.5.0",
          "state": {
            "_dom_classes": [],
            "_model_module": "@jupyter-widgets/controls",
            "_model_module_version": "1.5.0",
            "_model_name": "HTMLModel",
            "_view_count": null,
            "_view_module": "@jupyter-widgets/controls",
            "_view_module_version": "1.5.0",
            "_view_name": "HTMLView",
            "description": "",
            "description_tooltip": null,
            "layout": "IPY_MODEL_265042a655ab4a47aeddf3f9f2483524",
            "placeholder": "​",
            "style": "IPY_MODEL_a7684fbf61434d55ab7733c5b545caba",
            "value": " 4422656/? [00:00&lt;00:00, 9538650.57it/s]"
          }
        },
        "97c2ebabf441437d8bbda9f374fbc3d2": {
          "model_module": "@jupyter-widgets/base",
          "model_name": "LayoutModel",
          "model_module_version": "1.2.0",
          "state": {
            "_model_module": "@jupyter-widgets/base",
            "_model_module_version": "1.2.0",
            "_model_name": "LayoutModel",
            "_view_count": null,
            "_view_module": "@jupyter-widgets/base",
            "_view_module_version": "1.2.0",
            "_view_name": "LayoutView",
            "align_content": null,
            "align_items": null,
            "align_self": null,
            "border": null,
            "bottom": null,
            "display": null,
            "flex": null,
            "flex_flow": null,
            "grid_area": null,
            "grid_auto_columns": null,
            "grid_auto_flow": null,
            "grid_auto_rows": null,
            "grid_column": null,
            "grid_gap": null,
            "grid_row": null,
            "grid_template_areas": null,
            "grid_template_columns": null,
            "grid_template_rows": null,
            "height": null,
            "justify_content": null,
            "justify_items": null,
            "left": null,
            "margin": null,
            "max_height": null,
            "max_width": null,
            "min_height": null,
            "min_width": null,
            "object_fit": null,
            "object_position": null,
            "order": null,
            "overflow": null,
            "overflow_x": null,
            "overflow_y": null,
            "padding": null,
            "right": null,
            "top": null,
            "visibility": null,
            "width": null
          }
        },
        "2810d693566c4a0ba748a1d72cadd54f": {
          "model_module": "@jupyter-widgets/base",
          "model_name": "LayoutModel",
          "model_module_version": "1.2.0",
          "state": {
            "_model_module": "@jupyter-widgets/base",
            "_model_module_version": "1.2.0",
            "_model_name": "LayoutModel",
            "_view_count": null,
            "_view_module": "@jupyter-widgets/base",
            "_view_module_version": "1.2.0",
            "_view_name": "LayoutView",
            "align_content": null,
            "align_items": null,
            "align_self": null,
            "border": null,
            "bottom": null,
            "display": null,
            "flex": null,
            "flex_flow": null,
            "grid_area": null,
            "grid_auto_columns": null,
            "grid_auto_flow": null,
            "grid_auto_rows": null,
            "grid_column": null,
            "grid_gap": null,
            "grid_row": null,
            "grid_template_areas": null,
            "grid_template_columns": null,
            "grid_template_rows": null,
            "height": null,
            "justify_content": null,
            "justify_items": null,
            "left": null,
            "margin": null,
            "max_height": null,
            "max_width": null,
            "min_height": null,
            "min_width": null,
            "object_fit": null,
            "object_position": null,
            "order": null,
            "overflow": null,
            "overflow_x": null,
            "overflow_y": null,
            "padding": null,
            "right": null,
            "top": null,
            "visibility": null,
            "width": null
          }
        },
        "c1e1ca71712745b98b8d432ecac2d091": {
          "model_module": "@jupyter-widgets/controls",
          "model_name": "DescriptionStyleModel",
          "model_module_version": "1.5.0",
          "state": {
            "_model_module": "@jupyter-widgets/controls",
            "_model_module_version": "1.5.0",
            "_model_name": "DescriptionStyleModel",
            "_view_count": null,
            "_view_module": "@jupyter-widgets/base",
            "_view_module_version": "1.2.0",
            "_view_name": "StyleView",
            "description_width": ""
          }
        },
        "763f06b17d8c4ffd8926665301f49527": {
          "model_module": "@jupyter-widgets/base",
          "model_name": "LayoutModel",
          "model_module_version": "1.2.0",
          "state": {
            "_model_module": "@jupyter-widgets/base",
            "_model_module_version": "1.2.0",
            "_model_name": "LayoutModel",
            "_view_count": null,
            "_view_module": "@jupyter-widgets/base",
            "_view_module_version": "1.2.0",
            "_view_name": "LayoutView",
            "align_content": null,
            "align_items": null,
            "align_self": null,
            "border": null,
            "bottom": null,
            "display": null,
            "flex": null,
            "flex_flow": null,
            "grid_area": null,
            "grid_auto_columns": null,
            "grid_auto_flow": null,
            "grid_auto_rows": null,
            "grid_column": null,
            "grid_gap": null,
            "grid_row": null,
            "grid_template_areas": null,
            "grid_template_columns": null,
            "grid_template_rows": null,
            "height": null,
            "justify_content": null,
            "justify_items": null,
            "left": null,
            "margin": null,
            "max_height": null,
            "max_width": null,
            "min_height": null,
            "min_width": null,
            "object_fit": null,
            "object_position": null,
            "order": null,
            "overflow": null,
            "overflow_x": null,
            "overflow_y": null,
            "padding": null,
            "right": null,
            "top": null,
            "visibility": null,
            "width": null
          }
        },
        "798eeda11f0a434ea4caa0de03a820fc": {
          "model_module": "@jupyter-widgets/controls",
          "model_name": "ProgressStyleModel",
          "model_module_version": "1.5.0",
          "state": {
            "_model_module": "@jupyter-widgets/controls",
            "_model_module_version": "1.5.0",
            "_model_name": "ProgressStyleModel",
            "_view_count": null,
            "_view_module": "@jupyter-widgets/base",
            "_view_module_version": "1.2.0",
            "_view_name": "StyleView",
            "bar_color": null,
            "description_width": ""
          }
        },
        "265042a655ab4a47aeddf3f9f2483524": {
          "model_module": "@jupyter-widgets/base",
          "model_name": "LayoutModel",
          "model_module_version": "1.2.0",
          "state": {
            "_model_module": "@jupyter-widgets/base",
            "_model_module_version": "1.2.0",
            "_model_name": "LayoutModel",
            "_view_count": null,
            "_view_module": "@jupyter-widgets/base",
            "_view_module_version": "1.2.0",
            "_view_name": "LayoutView",
            "align_content": null,
            "align_items": null,
            "align_self": null,
            "border": null,
            "bottom": null,
            "display": null,
            "flex": null,
            "flex_flow": null,
            "grid_area": null,
            "grid_auto_columns": null,
            "grid_auto_flow": null,
            "grid_auto_rows": null,
            "grid_column": null,
            "grid_gap": null,
            "grid_row": null,
            "grid_template_areas": null,
            "grid_template_columns": null,
            "grid_template_rows": null,
            "height": null,
            "justify_content": null,
            "justify_items": null,
            "left": null,
            "margin": null,
            "max_height": null,
            "max_width": null,
            "min_height": null,
            "min_width": null,
            "object_fit": null,
            "object_position": null,
            "order": null,
            "overflow": null,
            "overflow_x": null,
            "overflow_y": null,
            "padding": null,
            "right": null,
            "top": null,
            "visibility": null,
            "width": null
          }
        },
        "a7684fbf61434d55ab7733c5b545caba": {
          "model_module": "@jupyter-widgets/controls",
          "model_name": "DescriptionStyleModel",
          "model_module_version": "1.5.0",
          "state": {
            "_model_module": "@jupyter-widgets/controls",
            "_model_module_version": "1.5.0",
            "_model_name": "DescriptionStyleModel",
            "_view_count": null,
            "_view_module": "@jupyter-widgets/base",
            "_view_module_version": "1.2.0",
            "_view_name": "StyleView",
            "description_width": ""
          }
        },
        "cbdd3ffa4e654925857b051918e54d42": {
          "model_module": "@jupyter-widgets/controls",
          "model_name": "HBoxModel",
          "model_module_version": "1.5.0",
          "state": {
            "_dom_classes": [],
            "_model_module": "@jupyter-widgets/controls",
            "_model_module_version": "1.5.0",
            "_model_name": "HBoxModel",
            "_view_count": null,
            "_view_module": "@jupyter-widgets/controls",
            "_view_module_version": "1.5.0",
            "_view_name": "HBoxView",
            "box_style": "",
            "children": [
              "IPY_MODEL_43b77e3295554754bd8fed9bfb06f777",
              "IPY_MODEL_27d3c4ed9ca2448db390ba98ca262aeb",
              "IPY_MODEL_e95d3479798648afaecce9e9c42980d8"
            ],
            "layout": "IPY_MODEL_1f0ace09b7854da7a8ed699d148d8c60"
          }
        },
        "43b77e3295554754bd8fed9bfb06f777": {
          "model_module": "@jupyter-widgets/controls",
          "model_name": "HTMLModel",
          "model_module_version": "1.5.0",
          "state": {
            "_dom_classes": [],
            "_model_module": "@jupyter-widgets/controls",
            "_model_module_version": "1.5.0",
            "_model_name": "HTMLModel",
            "_view_count": null,
            "_view_module": "@jupyter-widgets/controls",
            "_view_module_version": "1.5.0",
            "_view_name": "HTMLView",
            "description": "",
            "description_tooltip": null,
            "layout": "IPY_MODEL_1b9f9bc0be9742f086e34af5e53ab569",
            "placeholder": "​",
            "style": "IPY_MODEL_51880bf616a94838a5210ce122d14bef",
            "value": ""
          }
        },
        "27d3c4ed9ca2448db390ba98ca262aeb": {
          "model_module": "@jupyter-widgets/controls",
          "model_name": "FloatProgressModel",
          "model_module_version": "1.5.0",
          "state": {
            "_dom_classes": [],
            "_model_module": "@jupyter-widgets/controls",
            "_model_module_version": "1.5.0",
            "_model_name": "FloatProgressModel",
            "_view_count": null,
            "_view_module": "@jupyter-widgets/controls",
            "_view_module_version": "1.5.0",
            "_view_name": "ProgressView",
            "bar_style": "success",
            "description": "",
            "description_tooltip": null,
            "layout": "IPY_MODEL_568bfcbc48e44a96aee9b16e376e3376",
            "max": 5148,
            "min": 0,
            "orientation": "horizontal",
            "style": "IPY_MODEL_efbe5a1d15b14ddcb069b31f50e8cbeb",
            "value": 5148
          }
        },
        "e95d3479798648afaecce9e9c42980d8": {
          "model_module": "@jupyter-widgets/controls",
          "model_name": "HTMLModel",
          "model_module_version": "1.5.0",
          "state": {
            "_dom_classes": [],
            "_model_module": "@jupyter-widgets/controls",
            "_model_module_version": "1.5.0",
            "_model_name": "HTMLModel",
            "_view_count": null,
            "_view_module": "@jupyter-widgets/controls",
            "_view_module_version": "1.5.0",
            "_view_name": "HTMLView",
            "description": "",
            "description_tooltip": null,
            "layout": "IPY_MODEL_81510d70fc3b4d7eaa060b0392ef49b0",
            "placeholder": "​",
            "style": "IPY_MODEL_8413ea59bf994e69b80525d6daeb21fd",
            "value": " 6144/? [00:00&lt;00:00, 6743.47it/s]"
          }
        },
        "1f0ace09b7854da7a8ed699d148d8c60": {
          "model_module": "@jupyter-widgets/base",
          "model_name": "LayoutModel",
          "model_module_version": "1.2.0",
          "state": {
            "_model_module": "@jupyter-widgets/base",
            "_model_module_version": "1.2.0",
            "_model_name": "LayoutModel",
            "_view_count": null,
            "_view_module": "@jupyter-widgets/base",
            "_view_module_version": "1.2.0",
            "_view_name": "LayoutView",
            "align_content": null,
            "align_items": null,
            "align_self": null,
            "border": null,
            "bottom": null,
            "display": null,
            "flex": null,
            "flex_flow": null,
            "grid_area": null,
            "grid_auto_columns": null,
            "grid_auto_flow": null,
            "grid_auto_rows": null,
            "grid_column": null,
            "grid_gap": null,
            "grid_row": null,
            "grid_template_areas": null,
            "grid_template_columns": null,
            "grid_template_rows": null,
            "height": null,
            "justify_content": null,
            "justify_items": null,
            "left": null,
            "margin": null,
            "max_height": null,
            "max_width": null,
            "min_height": null,
            "min_width": null,
            "object_fit": null,
            "object_position": null,
            "order": null,
            "overflow": null,
            "overflow_x": null,
            "overflow_y": null,
            "padding": null,
            "right": null,
            "top": null,
            "visibility": null,
            "width": null
          }
        },
        "1b9f9bc0be9742f086e34af5e53ab569": {
          "model_module": "@jupyter-widgets/base",
          "model_name": "LayoutModel",
          "model_module_version": "1.2.0",
          "state": {
            "_model_module": "@jupyter-widgets/base",
            "_model_module_version": "1.2.0",
            "_model_name": "LayoutModel",
            "_view_count": null,
            "_view_module": "@jupyter-widgets/base",
            "_view_module_version": "1.2.0",
            "_view_name": "LayoutView",
            "align_content": null,
            "align_items": null,
            "align_self": null,
            "border": null,
            "bottom": null,
            "display": null,
            "flex": null,
            "flex_flow": null,
            "grid_area": null,
            "grid_auto_columns": null,
            "grid_auto_flow": null,
            "grid_auto_rows": null,
            "grid_column": null,
            "grid_gap": null,
            "grid_row": null,
            "grid_template_areas": null,
            "grid_template_columns": null,
            "grid_template_rows": null,
            "height": null,
            "justify_content": null,
            "justify_items": null,
            "left": null,
            "margin": null,
            "max_height": null,
            "max_width": null,
            "min_height": null,
            "min_width": null,
            "object_fit": null,
            "object_position": null,
            "order": null,
            "overflow": null,
            "overflow_x": null,
            "overflow_y": null,
            "padding": null,
            "right": null,
            "top": null,
            "visibility": null,
            "width": null
          }
        },
        "51880bf616a94838a5210ce122d14bef": {
          "model_module": "@jupyter-widgets/controls",
          "model_name": "DescriptionStyleModel",
          "model_module_version": "1.5.0",
          "state": {
            "_model_module": "@jupyter-widgets/controls",
            "_model_module_version": "1.5.0",
            "_model_name": "DescriptionStyleModel",
            "_view_count": null,
            "_view_module": "@jupyter-widgets/base",
            "_view_module_version": "1.2.0",
            "_view_name": "StyleView",
            "description_width": ""
          }
        },
        "568bfcbc48e44a96aee9b16e376e3376": {
          "model_module": "@jupyter-widgets/base",
          "model_name": "LayoutModel",
          "model_module_version": "1.2.0",
          "state": {
            "_model_module": "@jupyter-widgets/base",
            "_model_module_version": "1.2.0",
            "_model_name": "LayoutModel",
            "_view_count": null,
            "_view_module": "@jupyter-widgets/base",
            "_view_module_version": "1.2.0",
            "_view_name": "LayoutView",
            "align_content": null,
            "align_items": null,
            "align_self": null,
            "border": null,
            "bottom": null,
            "display": null,
            "flex": null,
            "flex_flow": null,
            "grid_area": null,
            "grid_auto_columns": null,
            "grid_auto_flow": null,
            "grid_auto_rows": null,
            "grid_column": null,
            "grid_gap": null,
            "grid_row": null,
            "grid_template_areas": null,
            "grid_template_columns": null,
            "grid_template_rows": null,
            "height": null,
            "justify_content": null,
            "justify_items": null,
            "left": null,
            "margin": null,
            "max_height": null,
            "max_width": null,
            "min_height": null,
            "min_width": null,
            "object_fit": null,
            "object_position": null,
            "order": null,
            "overflow": null,
            "overflow_x": null,
            "overflow_y": null,
            "padding": null,
            "right": null,
            "top": null,
            "visibility": null,
            "width": null
          }
        },
        "efbe5a1d15b14ddcb069b31f50e8cbeb": {
          "model_module": "@jupyter-widgets/controls",
          "model_name": "ProgressStyleModel",
          "model_module_version": "1.5.0",
          "state": {
            "_model_module": "@jupyter-widgets/controls",
            "_model_module_version": "1.5.0",
            "_model_name": "ProgressStyleModel",
            "_view_count": null,
            "_view_module": "@jupyter-widgets/base",
            "_view_module_version": "1.2.0",
            "_view_name": "StyleView",
            "bar_color": null,
            "description_width": ""
          }
        },
        "81510d70fc3b4d7eaa060b0392ef49b0": {
          "model_module": "@jupyter-widgets/base",
          "model_name": "LayoutModel",
          "model_module_version": "1.2.0",
          "state": {
            "_model_module": "@jupyter-widgets/base",
            "_model_module_version": "1.2.0",
            "_model_name": "LayoutModel",
            "_view_count": null,
            "_view_module": "@jupyter-widgets/base",
            "_view_module_version": "1.2.0",
            "_view_name": "LayoutView",
            "align_content": null,
            "align_items": null,
            "align_self": null,
            "border": null,
            "bottom": null,
            "display": null,
            "flex": null,
            "flex_flow": null,
            "grid_area": null,
            "grid_auto_columns": null,
            "grid_auto_flow": null,
            "grid_auto_rows": null,
            "grid_column": null,
            "grid_gap": null,
            "grid_row": null,
            "grid_template_areas": null,
            "grid_template_columns": null,
            "grid_template_rows": null,
            "height": null,
            "justify_content": null,
            "justify_items": null,
            "left": null,
            "margin": null,
            "max_height": null,
            "max_width": null,
            "min_height": null,
            "min_width": null,
            "object_fit": null,
            "object_position": null,
            "order": null,
            "overflow": null,
            "overflow_x": null,
            "overflow_y": null,
            "padding": null,
            "right": null,
            "top": null,
            "visibility": null,
            "width": null
          }
        },
        "8413ea59bf994e69b80525d6daeb21fd": {
          "model_module": "@jupyter-widgets/controls",
          "model_name": "DescriptionStyleModel",
          "model_module_version": "1.5.0",
          "state": {
            "_model_module": "@jupyter-widgets/controls",
            "_model_module_version": "1.5.0",
            "_model_name": "DescriptionStyleModel",
            "_view_count": null,
            "_view_module": "@jupyter-widgets/base",
            "_view_module_version": "1.2.0",
            "_view_name": "StyleView",
            "description_width": ""
          }
        }
      }
    }
  },
  "nbformat": 4,
  "nbformat_minor": 0
}