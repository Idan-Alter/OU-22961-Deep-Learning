{
  "nbformat": 4,
  "nbformat_minor": 0,
  "metadata": {
    "colab": {
      "provenance": [],
      "collapsed_sections": [],
      "authorship_tag": "ABX9TyOmg51A6X5L8kwJPKpBbCou",
      "include_colab_link": true
    },
    "kernelspec": {
      "name": "python3",
      "display_name": "Python 3"
    },
    "language_info": {
      "name": "python"
    }
  },
  "cells": [
    {
      "cell_type": "markdown",
      "metadata": {
        "id": "view-in-github",
        "colab_type": "text"
      },
      "source": [
        "<a href=\"https://colab.research.google.com/github/Idan-Alter/OU-22961-Deep-Learning/blob/main/22961_4_5_dropout.ipynb\" target=\"_parent\"><img src=\"https://colab.research.google.com/assets/colab-badge.svg\" alt=\"Open In Colab\"/></a>"
      ]
    },
    {
      "cell_type": "code",
      "source": [
        "import torch\n",
        "from torch import nn\n",
        "class Dropout(nn.Module):\n",
        "  def __init__(self, drop_rate=0.5):\n",
        "    super().__init__()\n",
        "    assert(0 < drop_rate < 1)\n",
        "    self.drop_rate = drop_rate\n",
        "  def forward(self, X):\n",
        "    mask = torch.rand(X.shape) > self.drop_rate\n",
        "    return X*mask"
      ],
      "metadata": {
        "id": "7yLe1dL758Pl"
      },
      "execution_count": null,
      "outputs": []
    },
    {
      "cell_type": "code",
      "source": [
        "model = nn.Sequential(nn.Flatten(),\n",
        "          nn.Linear(784,100),nn.ReLU(),\n",
        "          nn.Linear(100,10),nn.ReLU(),\n",
        "          nn.Linear(10,10),\n",
        "          nn.LogSoftmax(dim=1) \n",
        "          )"
      ],
      "metadata": {
        "id": "35au3MbFIL9z"
      },
      "execution_count": null,
      "outputs": []
    },
    {
      "cell_type": "code",
      "source": [
        "model = nn.Sequential(nn.Flatten(),\n",
        "          nn.Linear(784,100),nn.ReLU(),\n",
        "          Dropout(),\n",
        "          nn.Linear(100,10),nn.ReLU(),\n",
        "          Dropout(),\n",
        "          nn.Linear(10,10),\n",
        "          nn.LogSoftmax(dim=1) \n",
        "          )"
      ],
      "metadata": {
        "id": "NpeZBvf9L-tk"
      },
      "execution_count": null,
      "outputs": []
    },
    {
      "cell_type": "code",
      "source": [
        "class Dropout2(nn.Module):\n",
        "  def __init__(self,drop_rate=0.5):\n",
        "    super().__init__()\n",
        "    assert(0 < drop_rate < 1)\n",
        "    self.drop_rate = drop_rate\n",
        "  def forward(self, X):\n",
        "    if self.training:\n",
        "      mask = torch.rand(X.shape) > self.drop_rate\n",
        "      return X*mask\n",
        "    else:\n",
        "      return X"
      ],
      "metadata": {
        "id": "XGDt8j_IPRaJ"
      },
      "execution_count": null,
      "outputs": []
    },
    {
      "cell_type": "code",
      "source": [
        "class DropoutFinal(nn.Module):\n",
        "  def __init__(self,drop_rate=0.5):\n",
        "    super().__init__()\n",
        "    assert(0 < drop_rate < 1)\n",
        "    self.drop_rate = drop_rate\n",
        "  def forward(self, X):\n",
        "    if self.training:\n",
        "      mask = torch.rand(X.shape) > self.drop_rate\n",
        "      return X*mask\n",
        "    else:\n",
        "      return (1-self.drop_rate)*X"
      ],
      "metadata": {
        "id": "mKyMrLsYQHw_"
      },
      "execution_count": null,
      "outputs": []
    }
  ]
}