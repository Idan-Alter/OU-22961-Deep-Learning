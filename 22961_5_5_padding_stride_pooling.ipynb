{
  "nbformat": 4,
  "nbformat_minor": 0,
  "metadata": {
    "colab": {
      "provenance": [],
      "collapsed_sections": [],
      "authorship_tag": "ABX9TyNfRkkqBwQEH0N250FpcMrn",
      "include_colab_link": true
    },
    "kernelspec": {
      "name": "python3",
      "display_name": "Python 3"
    },
    "language_info": {
      "name": "python"
    }
  },
  "cells": [
    {
      "cell_type": "markdown",
      "metadata": {
        "id": "view-in-github",
        "colab_type": "text"
      },
      "source": [
        "<a href=\"https://colab.research.google.com/github/Idan-Alter/OU-22961-Deep-Learning/blob/main/22961_5_5_padding_stride_pooling.ipynb\" target=\"_parent\"><img src=\"https://colab.research.google.com/assets/colab-badge.svg\" alt=\"Open In Colab\"/></a>"
      ]
    },
    {
      "cell_type": "code",
      "execution_count": null,
      "metadata": {
        "id": "8_ot0IKVyWJO"
      },
      "outputs": [],
      "source": [
        "import torch\n",
        "import torchvision\n",
        "from torch import nn \n",
        "import matplotlib.pyplot as plt\n",
        "from torch.utils.data import DataLoader\n",
        "train_data_transformed = torchvision.datasets.FashionMNIST(\n",
        "    root=\"/22961\", train=True, download=True,\n",
        "    transform=torchvision.transforms.ToTensor())\n",
        "\n",
        "train_dataloader = DataLoader(\n",
        "    train_data_transformed, batch_size=1)\n",
        "img, _ = next(iter(train_dataloader))"
      ]
    },
    {
      "cell_type": "markdown",
      "source": [
        "#Padding"
      ],
      "metadata": {
        "id": "ZEDIUjZETIG3"
      }
    },
    {
      "cell_type": "code",
      "source": [
        "pad_layer = nn.ZeroPad2d(1)\n",
        "A = torch.arange(1,10).reshape(3,3)\n",
        "print(A,pad_layer(A), sep='\\n')"
      ],
      "metadata": {
        "colab": {
          "base_uri": "https://localhost:8080/"
        },
        "id": "1PmfNRkf0FEk",
        "outputId": "eaa5b7b4-f6a5-4cb3-f3a3-0dcae6f0b4f4"
      },
      "execution_count": null,
      "outputs": [
        {
          "output_type": "stream",
          "name": "stdout",
          "text": [
            "tensor([[1, 2, 3],\n",
            "        [4, 5, 6],\n",
            "        [7, 8, 9]])\n",
            "tensor([[0, 0, 0, 0, 0],\n",
            "        [0, 1, 2, 3, 0],\n",
            "        [0, 4, 5, 6, 0],\n",
            "        [0, 7, 8, 9, 0],\n",
            "        [0, 0, 0, 0, 0]])\n"
          ]
        }
      ]
    },
    {
      "cell_type": "code",
      "source": [
        "conv_layer = nn.Conv2d(in_channels=1, out_channels=1,\n",
        "                       kernel_size=(3, 5), padding=\"same\")\n",
        "img2 = conv_layer(img)\n",
        "img2.size()"
      ],
      "metadata": {
        "colab": {
          "base_uri": "https://localhost:8080/"
        },
        "id": "XhAGdTD23i5E",
        "outputId": "94c2368d-e94a-4a13-801d-1b5324d24065"
      },
      "execution_count": null,
      "outputs": [
        {
          "output_type": "execute_result",
          "data": {
            "text/plain": [
              "torch.Size([1, 1, 28, 28])"
            ]
          },
          "metadata": {},
          "execution_count": 26
        }
      ]
    },
    {
      "cell_type": "code",
      "source": [
        "fig,axes = plt.subplots(1,2)\n",
        "fig.set_figheight(6)\n",
        "fig.set_figwidth(10)\n",
        "axes[0].imshow(img.squeeze().detach(), cmap='Greys')\n",
        "axes[0].set_title(\"my_conv\")\n",
        "axes[0].axes.get_xaxis().set_visible(False)\n",
        "axes[0].axes.get_yaxis().set_visible(False)\n",
        "\n",
        "\n",
        "axes[1].imshow(img2.detach().squeeze().detach(), cmap='Greys')\n",
        "axes[1].set_title(\"edge_detector\")\n",
        "axes[1].axes.get_xaxis().set_visible(False)\n",
        "axes[1].axes.get_yaxis().set_visible(False)"
      ],
      "metadata": {
        "colab": {
          "base_uri": "https://localhost:8080/",
          "height": 304
        },
        "id": "KVUxXPX9zQid",
        "outputId": "5e66d3d8-e21e-4e8d-b14e-005d4a20deda"
      },
      "execution_count": null,
      "outputs": [
        {
          "output_type": "display_data",
          "data": {
            "text/plain": [
              "<Figure size 720x432 with 2 Axes>"
            ],
            "image/png": "[encoded data removed]"
          },
          "metadata": {
            "needs_background": "light"
          }
        }
      ]
    },
    {
      "cell_type": "markdown",
      "source": [
        "#Bias"
      ],
      "metadata": {
        "id": "klVPW5MvCXho"
      }
    },
    {
      "cell_type": "code",
      "source": [
        "conv_layer = nn.Conv2d(in_channels=1, out_channels=1,\n",
        "                       kernel_size=(2, 3), padding=\"same\")\n",
        "for params in conv_layer.named_parameters():\n",
        "  print(params)"
      ],
      "metadata": {
        "colab": {
          "base_uri": "https://localhost:8080/"
        },
        "id": "PK_mHt3nykha",
        "outputId": "4715a3ac-1be6-47af-d6c0-233f9aff642a"
      },
      "execution_count": null,
      "outputs": [
        {
          "output_type": "stream",
          "name": "stdout",
          "text": [
            "('weight', Parameter containing:\n",
            "tensor([[[[-0.2234, -0.3234,  0.2377],\n",
            "          [-0.1931,  0.2323,  0.1304]]]], requires_grad=True))\n",
            "('bias', Parameter containing:\n",
            "tensor([0.3729], requires_grad=True))\n"
          ]
        }
      ]
    },
    {
      "cell_type": "markdown",
      "source": [
        "#Stride"
      ],
      "metadata": {
        "id": "Ame931yYTKj1"
      }
    },
    {
      "cell_type": "code",
      "source": [
        "downsample = nn.Conv2d(in_channels=1, out_channels=1,\n",
        "                       bias=False, kernel_size=(1, 1),\n",
        "                       stride=(2,3))\n",
        "with torch.no_grad():\n",
        "  downsample.weight[:] = torch.tensor(1.).reshape(1,1,1,1)\n",
        "A = torch.arange(25,dtype=torch.float).reshape(1,1,5,5)\n",
        "print(A, downsample(A), sep='\\n')"
      ],
      "metadata": {
        "colab": {
          "base_uri": "https://localhost:8080/"
        },
        "id": "YuRFQYbr6zLJ",
        "outputId": "af374e54-a698-4b2b-fafd-1dd4a8c80fad"
      },
      "execution_count": null,
      "outputs": [
        {
          "output_type": "stream",
          "name": "stdout",
          "text": [
            "tensor([[[[ 0.,  1.,  2.,  3.,  4.],\n",
            "          [ 5.,  6.,  7.,  8.,  9.],\n",
            "          [10., 11., 12., 13., 14.],\n",
            "          [15., 16., 17., 18., 19.],\n",
            "          [20., 21., 22., 23., 24.]]]])\n",
            "tensor([[[[ 0.,  3.],\n",
            "          [10., 13.],\n",
            "          [20., 23.]]]], grad_fn=<ConvolutionBackward0>)\n"
          ]
        }
      ]
    },
    {
      "cell_type": "code",
      "source": [
        "edge_detector1 = nn.Conv2d(in_channels=1, out_channels=1,\n",
        "                       bias=False, kernel_size=(3, 3),\n",
        "                       stride=(1,1))\n",
        "with torch.no_grad():\n",
        "  edge_detector1.weight[:] = torch.tensor(\n",
        "      [[-1., 0, 1],\n",
        "       [-1, 0, 1],\n",
        "       [-1, 0, 1]]).reshape(1,1,3,3)\n",
        "img2 = edge_detector1(img)\n",
        "print(img2.size())\n",
        "plt.imshow(img2.squeeze().detach(), cmap='Greys');\n",
        "plt.colorbar();"
      ],
      "metadata": {
        "colab": {
          "base_uri": "https://localhost:8080/",
          "height": 282
        },
        "id": "ljmlOQw6C442",
        "outputId": "bb631ee1-e41e-4da2-9263-20c2aeec988a"
      },
      "execution_count": null,
      "outputs": [
        {
          "output_type": "stream",
          "name": "stdout",
          "text": [
            "torch.Size([1, 1, 26, 26])\n"
          ]
        },
        {
          "output_type": "display_data",
          "data": {
            "text/plain": [
              "<Figure size 432x288 with 2 Axes>"
            ],
            "image/png": "[encoded data removed]"
          },
          "metadata": {
            "needs_background": "light"
          }
        }
      ]
    },
    {
      "cell_type": "code",
      "source": [
        "edge_detector2 = nn.Conv2d(in_channels=1, out_channels=1,\n",
        "                       bias=False, kernel_size=(3, 3),\n",
        "                       stride=(3,4))\n",
        "with torch.no_grad():\n",
        "  edge_detector2.weight[:] = torch.tensor(\n",
        "      [[-1., 0, 1],\n",
        "       [-1, 0, 1],\n",
        "       [-1, 0, 1]]).reshape(1,1,3,3)\n",
        "img3 = edge_detector2(img)\n",
        "print(img3.size())\n",
        "plt.imshow(img3.squeeze().detach(), cmap='Greys');\n",
        "plt.colorbar();"
      ],
      "metadata": {
        "colab": {
          "base_uri": "https://localhost:8080/",
          "height": 282
        },
        "id": "1XmJecXDIFT1",
        "outputId": "59e9e48b-366f-4e51-b7fb-a50a4badfc00"
      },
      "execution_count": null,
      "outputs": [
        {
          "output_type": "stream",
          "name": "stdout",
          "text": [
            "torch.Size([1, 1, 9, 7])\n"
          ]
        },
        {
          "output_type": "display_data",
          "data": {
            "text/plain": [
              "<Figure size 432x288 with 2 Axes>"
            ],
            "image/png": "[encoded data removed]"
          },
          "metadata": {
            "needs_background": "light"
          }
        }
      ]
    },
    {
      "cell_type": "code",
      "source": [
        "fig,axes = plt.subplots(1,2)\n",
        "fig.set_figheight(6)\n",
        "fig.set_figwidth(8)\n",
        "\n",
        "axes[0].imshow(img2.squeeze().detach(),cmap='Greys')\n",
        "axes[0].set_title(\"Stride = (1,1)\")\n",
        "\n",
        "\n",
        "axes[1].imshow(img3.squeeze().detach(),cmap='Greys')\n",
        "axes[1].set_title(\"Stride = (3,4)\");"
      ],
      "metadata": {
        "colab": {
          "base_uri": "https://localhost:8080/",
          "height": 325
        },
        "id": "NeC0ynQCKFxX",
        "outputId": "98f5c99c-f198-4074-cae1-b743c71273e3"
      },
      "execution_count": null,
      "outputs": [
        {
          "output_type": "display_data",
          "data": {
            "text/plain": [
              "<Figure size 576x432 with 2 Axes>"
            ],
            "image/png": "[encoded data removed]"
          },
          "metadata": {
            "needs_background": "light"
          }
        }
      ]
    },
    {
      "cell_type": "markdown",
      "source": [
        "#Pooling"
      ],
      "metadata": {
        "id": "E-8e0fHYTRVv"
      }
    },
    {
      "cell_type": "code",
      "source": [
        "pool = nn.MaxPool2d(kernel_size=(2,3))\n",
        "A = torch.arange(40, dtype=torch.float).reshape(1,1,5,8)\n",
        "print(A,pool(A), sep='\\n')"
      ],
      "metadata": {
        "colab": {
          "base_uri": "https://localhost:8080/"
        },
        "id": "kEij0aahX0xL",
        "outputId": "39eef4ba-f91d-404f-8c68-0703ec8e2080"
      },
      "execution_count": null,
      "outputs": [
        {
          "output_type": "stream",
          "name": "stdout",
          "text": [
            "tensor([[[[ 0.,  1.,  2.,  3.,  4.,  5.,  6.,  7.],\n",
            "          [ 8.,  9., 10., 11., 12., 13., 14., 15.],\n",
            "          [16., 17., 18., 19., 20., 21., 22., 23.],\n",
            "          [24., 25., 26., 27., 28., 29., 30., 31.],\n",
            "          [32., 33., 34., 35., 36., 37., 38., 39.]]]])\n",
            "tensor([[[[10., 13.],\n",
            "          [26., 29.]]]])\n"
          ]
        }
      ]
    },
    {
      "cell_type": "code",
      "source": [
        "pool = nn.MaxPool2d(kernel_size=(2,3), ceil_mode=True)\n",
        "print(A, pool(A), sep='\\n')"
      ],
      "metadata": {
        "colab": {
          "base_uri": "https://localhost:8080/"
        },
        "id": "u48BCu0Ra3wO",
        "outputId": "98c51257-ec2d-41de-f0c7-e6a1bf013839"
      },
      "execution_count": null,
      "outputs": [
        {
          "output_type": "stream",
          "name": "stdout",
          "text": [
            "tensor([[[[ 0.,  1.,  2.,  3.,  4.,  5.,  6.,  7.],\n",
            "          [ 8.,  9., 10., 11., 12., 13., 14., 15.],\n",
            "          [16., 17., 18., 19., 20., 21., 22., 23.],\n",
            "          [24., 25., 26., 27., 28., 29., 30., 31.],\n",
            "          [32., 33., 34., 35., 36., 37., 38., 39.]]]])\n",
            "tensor([[[[10., 13., 15.],\n",
            "          [26., 29., 31.],\n",
            "          [34., 37., 39.]]]])\n"
          ]
        }
      ]
    },
    {
      "cell_type": "code",
      "source": [
        "pool = nn.MaxPool2d(kernel_size=(2,3), stride=1, ceil_mode=True)\n",
        "print(A, pool(A), sep='\\n')"
      ],
      "metadata": {
        "colab": {
          "base_uri": "https://localhost:8080/"
        },
        "id": "ucNxlw-zcggC",
        "outputId": "0b85a2a0-9b15-4962-e2be-99dcfce3a233"
      },
      "execution_count": null,
      "outputs": [
        {
          "output_type": "stream",
          "name": "stdout",
          "text": [
            "tensor([[[[ 0.,  1.,  2.,  3.,  4.,  5.,  6.,  7.],\n",
            "          [ 8.,  9., 10., 11., 12., 13., 14., 15.],\n",
            "          [16., 17., 18., 19., 20., 21., 22., 23.],\n",
            "          [24., 25., 26., 27., 28., 29., 30., 31.],\n",
            "          [32., 33., 34., 35., 36., 37., 38., 39.]]]])\n",
            "tensor([[[[10., 11., 12., 13., 14., 15.],\n",
            "          [18., 19., 20., 21., 22., 23.],\n",
            "          [26., 27., 28., 29., 30., 31.],\n",
            "          [34., 35., 36., 37., 38., 39.]]]])\n"
          ]
        }
      ]
    },
    {
      "cell_type": "code",
      "source": [
        "edge_detector2 = nn.Conv2d(in_channels=1, out_channels=2,\n",
        "                       bias=False, kernel_size=(3, 3),\n",
        "                       stride=(1,1))\n",
        "\n",
        "with torch.no_grad():\n",
        "  edge_detector2.weight[:]=torch.tensor(\n",
        "    [[[-1.,-1,-1],\n",
        "      [0,0,0],\n",
        "      [1,1,1]],\n",
        "     \n",
        "     [[-1,0,1],\n",
        "      [-1,0,1],\n",
        "      [-1,0,1]]]).reshape(2,1,3,3)\n",
        "\n",
        "block = nn.Sequential(edge_detector2,\n",
        "                    nn.ReLU(),\n",
        "                    nn.MaxPool2d(kernel_size=(3,3),\n",
        "                                 ceil_mode=True))"
      ],
      "metadata": {
        "id": "HkmRjcYbd3Nq"
      },
      "execution_count": null,
      "outputs": []
    },
    {
      "cell_type": "code",
      "source": [
        "edges_detected = edge_detector2(img)\n",
        "print(edges_detected.size())\n",
        "edges_detected_block = block(img)\n",
        "print(edges_detected_block.size())"
      ],
      "metadata": {
        "colab": {
          "base_uri": "https://localhost:8080/"
        },
        "id": "4ZsO7qF0gCQd",
        "outputId": "a520832e-13d7-40dd-a4e2-0ed8fa4a2035"
      },
      "execution_count": null,
      "outputs": [
        {
          "output_type": "stream",
          "name": "stdout",
          "text": [
            "torch.Size([1, 2, 26, 26])\n",
            "torch.Size([1, 2, 9, 9])\n"
          ]
        }
      ]
    },
    {
      "cell_type": "code",
      "source": [
        "fig,axes = plt.subplots(2,2)\n",
        "fig.set_figheight(6)\n",
        "fig.set_figwidth(6)\n",
        "\n",
        "axes[0,0].imshow(edges_detected[0,0,...].detach(), cmap='Greys')\n",
        "axes[0,0].set_title(\"Channel 0 - Original\")\n",
        "\n",
        "axes[1,0].imshow(edges_detected[0,1,...].detach(), cmap='Greys')\n",
        "axes[1,0].set_title(\"Channel 1 - Original\")\n",
        "\n",
        "axes[0,1].imshow(edges_detected_block[0,0,...].detach(), cmap='Greys')\n",
        "axes[0,1].set_title(\"Channel 0 - Fliter->ReLU->Pool\")\n",
        "\n",
        "axes[1,1].imshow(edges_detected_block[0,1,...].detach(), cmap='Greys')\n",
        "axes[1,1].set_title(\"Channel 1 - Fliter->ReLU->Pool\")\n",
        "\n",
        "for i in range(2):\n",
        "  for j in range(2):\n",
        "    axes[i,j].get_xaxis().set_visible(False)\n",
        "    axes[i,j].get_yaxis().set_visible(False)"
      ],
      "metadata": {
        "colab": {
          "base_uri": "https://localhost:8080/",
          "height": 377
        },
        "id": "TFHXI-UMfnvN",
        "outputId": "383d6c05-21aa-45d9-b355-4c2141bf6060"
      },
      "execution_count": null,
      "outputs": [
        {
          "output_type": "display_data",
          "data": {
            "text/plain": [
              "<Figure size 432x432 with 4 Axes>"
            ],
            "image/png": "[encoded data removed]"
          },
          "metadata": {
            "needs_background": "light"
          }
        }
      ]
    }
  ]
}