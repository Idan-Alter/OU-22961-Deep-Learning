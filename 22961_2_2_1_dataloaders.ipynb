{
  "nbformat": 4,
  "nbformat_minor": 0,
  "metadata": {
    "colab": {
      "provenance": [],
      "collapsed_sections": [],
      "authorship_tag": "ABX9TyPug00vpQF11v21CYBeyXOn",
      "include_colab_link": true
    },
    "kernelspec": {
      "name": "python3",
      "display_name": "Python 3"
    },
    "language_info": {
      "name": "python"
    }
  },
  "cells": [
    {
      "cell_type": "markdown",
      "metadata": {
        "id": "view-in-github",
        "colab_type": "text"
      },
      "source": [
        "<a href=\"https://colab.research.google.com/github/Idan-Alter/OU-22961-Deep-Learning/blob/main/22961_2_2_1_dataloaders.ipynb\" target=\"_parent\"><img src=\"https://colab.research.google.com/assets/colab-badge.svg\" alt=\"Open In Colab\"/></a>"
      ]
    },
    {
      "cell_type": "code",
      "source": [
        "#from google.colab import drive\n",
        "#drive.mount('/content/gdrive')"
      ],
      "metadata": {
        "id": "pzZcR10lT79_"
      },
      "execution_count": null,
      "outputs": []
    },
    {
      "cell_type": "code",
      "execution_count": null,
      "metadata": {
        "id": "erxN7FkQOMPp"
      },
      "outputs": [],
      "source": [
        "import torch\n",
        "import torchvision\n",
        "train_data = torchvision.datasets.FashionMNIST(\n",
        "    root=\"/22961\", train=True, download=True)"
      ]
    },
    {
      "cell_type": "code",
      "source": [
        "type(train_data)"
      ],
      "metadata": {
        "colab": {
          "base_uri": "https://localhost:8080/"
        },
        "id": "6UIQ6aHwdHDV",
        "outputId": "22ef39d7-4747-4077-c0d3-70f50b83250e"
      },
      "execution_count": null,
      "outputs": [
        {
          "output_type": "execute_result",
          "data": {
            "text/plain": [
              "torchvision.datasets.mnist.FashionMNIST"
            ]
          },
          "metadata": {},
          "execution_count": 15
        }
      ]
    },
    {
      "cell_type": "code",
      "source": [
        "A = train_data[0]\n",
        "print(type(A), len(A), A[0],\n",
        "      A[1], train_data.classes[A[1]],\n",
        "      sep='\\n')"
      ],
      "metadata": {
        "colab": {
          "base_uri": "https://localhost:8080/"
        },
        "id": "yblLsGNcbfXA",
        "outputId": "0dff0de9-b07d-44e3-d86f-92c18de2edf7"
      },
      "execution_count": null,
      "outputs": [
        {
          "output_type": "stream",
          "name": "stdout",
          "text": [
            "<class 'tuple'>\n",
            "2\n",
            "<PIL.Image.Image image mode=L size=28x28 at 0x7F5EFCE53F10>\n",
            "9\n",
            "Ankle boot\n"
          ]
        }
      ]
    },
    {
      "cell_type": "code",
      "source": [
        "print(len(train_data))\n",
        "train_data.classes"
      ],
      "metadata": {
        "colab": {
          "base_uri": "https://localhost:8080/"
        },
        "id": "dnd27vFRWY8o",
        "outputId": "9be4b4d3-8857-4737-ecbe-9b08b5bde56f"
      },
      "execution_count": null,
      "outputs": [
        {
          "output_type": "stream",
          "name": "stdout",
          "text": [
            "60000\n"
          ]
        },
        {
          "output_type": "execute_result",
          "data": {
            "text/plain": [
              "['T-shirt/top',\n",
              " 'Trouser',\n",
              " 'Pullover',\n",
              " 'Dress',\n",
              " 'Coat',\n",
              " 'Sandal',\n",
              " 'Shirt',\n",
              " 'Sneaker',\n",
              " 'Bag',\n",
              " 'Ankle boot']"
            ]
          },
          "metadata": {},
          "execution_count": 17
        }
      ]
    },
    {
      "cell_type": "code",
      "source": [
        "convert = torchvision.transforms.PILToTensor()\n",
        "img     = convert(A[0])\n",
        "print(type(img), img.size(), sep='\\n')"
      ],
      "metadata": {
        "colab": {
          "base_uri": "https://localhost:8080/"
        },
        "id": "hEGPZxyNgpNP",
        "outputId": "a646122c-4700-45a7-e913-8cc1ad463161"
      },
      "execution_count": null,
      "outputs": [
        {
          "output_type": "stream",
          "name": "stdout",
          "text": [
            "<class 'torch.Tensor'>\n",
            "torch.Size([1, 28, 28])\n"
          ]
        }
      ]
    },
    {
      "cell_type": "code",
      "source": [
        "import matplotlib.pyplot as plt\n",
        "plt.imshow(torch.squeeze(img), cmap='Greys');"
      ],
      "metadata": {
        "colab": {
          "base_uri": "https://localhost:8080/",
          "height": 265
        },
        "id": "oh2VGLRgib6E",
        "outputId": "683d8b26-d144-4599-e99f-e9c38ba263e1"
      },
      "execution_count": null,
      "outputs": [
        {
          "output_type": "display_data",
          "data": {
            "text/plain": [
              "<Figure size 432x288 with 1 Axes>"
            ],
            "image/png": "[encoded data removed]"
          },
          "metadata": {
            "needs_background": "light"
          }
        }
      ]
    },
    {
      "cell_type": "markdown",
      "source": [
        "# Dataloader"
      ],
      "metadata": {
        "id": "UcBhYZRqoeY8"
      }
    },
    {
      "cell_type": "code",
      "source": [
        "from torch.utils.data import DataLoader\n",
        "train_data_transformed = torchvision.datasets.FashionMNIST(\n",
        "    root=\"/22961\", train=True, download=False,\n",
        "    transform=torchvision.transforms.PILToTensor())\n",
        "\n",
        "train_dataloader = DataLoader(\n",
        "    train_data_transformed, batch_size=1000)"
      ],
      "metadata": {
        "id": "jEJsEWf6kf8I"
      },
      "execution_count": null,
      "outputs": []
    },
    {
      "cell_type": "code",
      "source": [
        "iterator     = iter(train_dataloader)\n",
        "imgs, labels = next(iterator)\n",
        "class_names  = train_data_transformed.classes\n",
        "fig          = plt.figure()\n",
        "for i in range(4):\n",
        "  ax = fig.add_subplot(2, 2, i+1)\n",
        "  plt.imshow(torch.squeeze(imgs[i]), cmap='Greys')\n",
        "  ax.set_title(class_names[labels[i]])\n",
        "  ax.axes.get_xaxis().set_visible(False)\n",
        "  ax.axes.get_yaxis().set_visible(False)"
      ],
      "metadata": {
        "colab": {
          "base_uri": "https://localhost:8080/",
          "height": 268
        },
        "id": "iJ8zmytru8rl",
        "outputId": "27144c0f-d577-4956-d845-4dbcaabb7f6b"
      },
      "execution_count": null,
      "outputs": [
        {
          "output_type": "display_data",
          "data": {
            "text/plain": [
              "<Figure size 432x288 with 4 Axes>"
            ],
            "image/png": "[encoded data removed]"
          },
          "metadata": {
            "needs_background": "light"
          }
        }
      ]
    },
    {
      "cell_type": "code",
      "source": [
        "for imgs, labels in train_dataloader:\n",
        "  pass\n",
        "enumerator = enumerate(train_dataloader)\n",
        "for batch_idx, (imgs, labels) in enumerator:\n",
        "  pass"
      ],
      "metadata": {
        "id": "lghfdv8w5pnb"
      },
      "execution_count": null,
      "outputs": []
    },
    {
      "cell_type": "markdown",
      "source": [
        "# Flatten\n",
        "\n",
        "\n"
      ],
      "metadata": {
        "id": "6c095gJdxwLX"
      }
    },
    {
      "cell_type": "code",
      "source": [
        "A = torch.arange(2*5).reshape(2,5)\n",
        "print(A, A.size())\n",
        "A = A.flatten()\n",
        "print(A, A.size())"
      ],
      "metadata": {
        "colab": {
          "base_uri": "https://localhost:8080/"
        },
        "id": "QUbP9IClx5GE",
        "outputId": "38496807-0bf9-4380-f888-bf392075c637"
      },
      "execution_count": null,
      "outputs": [
        {
          "output_type": "stream",
          "name": "stdout",
          "text": [
            "tensor([[0, 1, 2, 3, 4],\n",
            "        [5, 6, 7, 8, 9]]) torch.Size([2, 5])\n",
            "tensor([0, 1, 2, 3, 4, 5, 6, 7, 8, 9]) torch.Size([10])\n"
          ]
        }
      ]
    },
    {
      "cell_type": "markdown",
      "source": [
        "#One-Hot Encoding"
      ],
      "metadata": {
        "id": "lpLceRqE6Zwb"
      }
    },
    {
      "cell_type": "code",
      "source": [
        "imgs, labels = next(iterator)\n",
        "print(labels)\n",
        "torch.nn.functional.one_hot(labels,num_classes=10)"
      ],
      "metadata": {
        "colab": {
          "base_uri": "https://localhost:8080/"
        },
        "id": "HaKOLhNtK4rl",
        "outputId": "4eb96c67-3c91-4efc-b4e5-58cb633c3a74"
      },
      "execution_count": null,
      "outputs": [
        {
          "output_type": "stream",
          "name": "stdout",
          "text": [
            "tensor([7, 5, 4, 9])\n"
          ]
        },
        {
          "output_type": "execute_result",
          "data": {
            "text/plain": [
              "tensor([[0, 0, 0, 0, 0, 0, 0, 1, 0, 0],\n",
              "        [0, 0, 0, 0, 0, 1, 0, 0, 0, 0],\n",
              "        [0, 0, 0, 0, 1, 0, 0, 0, 0, 0],\n",
              "        [0, 0, 0, 0, 0, 0, 0, 0, 0, 1]])"
            ]
          },
          "metadata": {},
          "execution_count": 23
        }
      ]
    }
  ]
}