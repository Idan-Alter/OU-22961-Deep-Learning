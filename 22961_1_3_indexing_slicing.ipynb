{
  "nbformat": 4,
  "nbformat_minor": 0,
  "metadata": {
    "colab": {
      "provenance": [],
      "authorship_tag": "ABX9TyN56kODuxsu5xAW8ZaFZKeq",
      "include_colab_link": true
    },
    "kernelspec": {
      "name": "python3",
      "display_name": "Python 3"
    },
    "language_info": {
      "name": "python"
    }
  },
  "cells": [
    {
      "cell_type": "markdown",
      "metadata": {
        "id": "view-in-github",
        "colab_type": "text"
      },
      "source": [
        "<a href=\"https://colab.research.google.com/github/Idan-Alter/OU-22961-Deep-Learning/blob/main/22961_1_3_indexing_slicing.ipynb\" target=\"_parent\"><img src=\"https://colab.research.google.com/assets/colab-badge.svg\" alt=\"Open In Colab\"/></a>"
      ]
    },
    {
      "cell_type": "code",
      "execution_count": null,
      "metadata": {
        "id": "46RIAcWX39XT"
      },
      "outputs": [],
      "source": [
        "import torch\n",
        "import numpy as np"
      ]
    },
    {
      "cell_type": "code",
      "source": [
        "x = torch.arange(10)\n",
        "print(x)"
      ],
      "metadata": {
        "colab": {
          "base_uri": "https://localhost:8080/"
        },
        "id": "rwvBSQ5AX4uB",
        "outputId": "86a80cb3-5c85-49c8-b4d5-b600e18a6884"
      },
      "execution_count": null,
      "outputs": [
        {
          "output_type": "stream",
          "name": "stdout",
          "text": [
            "tensor([0, 1, 2, 3, 4, 5, 6, 7, 8, 9])\n"
          ]
        }
      ]
    },
    {
      "cell_type": "code",
      "source": [
        "x = torch.arange(10).reshape(2,5)\n",
        "print(x)"
      ],
      "metadata": {
        "colab": {
          "base_uri": "https://localhost:8080/"
        },
        "id": "-wcBCjlYX4ka",
        "outputId": "088716ff-feab-4c0e-c4e8-eaa371cc55c9"
      },
      "execution_count": null,
      "outputs": [
        {
          "output_type": "stream",
          "name": "stdout",
          "text": [
            "tensor([[0, 1, 2, 3, 4],\n",
            "        [5, 6, 7, 8, 9]])\n"
          ]
        }
      ]
    },
    {
      "cell_type": "code",
      "source": [
        "print(x[1,2], x[0,-1], sep='\\n')"
      ],
      "metadata": {
        "id": "GniSCsaCZg3L",
        "colab": {
          "base_uri": "https://localhost:8080/"
        },
        "outputId": "09beb520-5185-41fe-d78e-63135f428802"
      },
      "execution_count": null,
      "outputs": [
        {
          "output_type": "stream",
          "name": "stdout",
          "text": [
            "tensor(7)\n",
            "tensor(4)\n"
          ]
        }
      ]
    },
    {
      "cell_type": "code",
      "source": [
        "y = torch.zeros(size=(2,3,4))\n",
        "y[1,0,0] = -2\n",
        "y[-1,-1,-1] =  1 \n",
        "print(y)"
      ],
      "metadata": {
        "colab": {
          "base_uri": "https://localhost:8080/"
        },
        "id": "aPdTGAiWowRi",
        "outputId": "941ed5aa-72ff-4de5-8bad-291f41295a98"
      },
      "execution_count": null,
      "outputs": [
        {
          "output_type": "stream",
          "name": "stdout",
          "text": [
            "tensor([[[ 0.,  0.,  0.,  0.],\n",
            "         [ 0.,  0.,  0.,  0.],\n",
            "         [ 0.,  0.,  0.,  0.]],\n",
            "\n",
            "        [[-2.,  0.,  0.,  0.],\n",
            "         [ 0.,  0.,  0.,  0.],\n",
            "         [ 0.,  0.,  0.,  1.]]])\n"
          ]
        }
      ]
    },
    {
      "cell_type": "code",
      "source": [
        "y[1, 1:2, 0:4:2]=100 \n",
        "print(y)"
      ],
      "metadata": {
        "colab": {
          "base_uri": "https://localhost:8080/"
        },
        "id": "WROzNWyLpn2M",
        "outputId": "8cd3691d-e266-410b-a7e9-902e3ac4a04d"
      },
      "execution_count": null,
      "outputs": [
        {
          "output_type": "stream",
          "name": "stdout",
          "text": [
            "tensor([[[  0.,   0.,   0.,   0.],\n",
            "         [  0.,   0.,   0.,   0.],\n",
            "         [  0.,   0.,   0.,   0.]],\n",
            "\n",
            "        [[ -2.,   0.,   0.,   0.],\n",
            "         [100.,   0., 100.,   0.],\n",
            "         [  0.,   0.,   0.,   1.]]])\n"
          ]
        }
      ]
    },
    {
      "cell_type": "code",
      "source": [
        "print(y[y>0])"
      ],
      "metadata": {
        "colab": {
          "base_uri": "https://localhost:8080/"
        },
        "id": "f6Wm-StP7nM8",
        "outputId": "8d3ebf7f-15c6-4f20-c943-8f8bd74ca7fe"
      },
      "execution_count": null,
      "outputs": [
        {
          "output_type": "stream",
          "name": "stdout",
          "text": [
            "tensor([100., 100.,   1.])\n"
          ]
        }
      ]
    },
    {
      "cell_type": "code",
      "source": [
        "z = y>0\n",
        "print(z, y[z], sep='\\n')"
      ],
      "metadata": {
        "colab": {
          "base_uri": "https://localhost:8080/"
        },
        "id": "9FKtz01A9PT3",
        "outputId": "8801b1d3-2eec-453c-8ffc-11223d1482b6"
      },
      "execution_count": null,
      "outputs": [
        {
          "output_type": "stream",
          "name": "stdout",
          "text": [
            "tensor([[[False, False, False, False],\n",
            "         [False, False, False, False],\n",
            "         [False, False, False, False]],\n",
            "\n",
            "        [[False, False, False, False],\n",
            "         [ True, False,  True, False],\n",
            "         [False, False, False,  True]]])\n",
            "tensor([100., 100.,   1.])\n"
          ]
        }
      ]
    },
    {
      "cell_type": "code",
      "source": [
        "print(y[[False,True]])"
      ],
      "metadata": {
        "colab": {
          "base_uri": "https://localhost:8080/"
        },
        "id": "umW0W9kp-k_w",
        "outputId": "765fd765-320c-4e0f-86de-85d6848df4f3"
      },
      "execution_count": null,
      "outputs": [
        {
          "output_type": "stream",
          "name": "stdout",
          "text": [
            "tensor([[[ -2.,   0.,   0.,   0.],\n",
            "         [100.,   0., 100.,   0.],\n",
            "         [  0.,   0.,   0.,   1.]]])\n"
          ]
        }
      ]
    },
    {
      "cell_type": "code",
      "source": [
        "y[1,:,:]"
      ],
      "metadata": {
        "colab": {
          "base_uri": "https://localhost:8080/"
        },
        "id": "lWjMkBsr_U_Q",
        "outputId": "760e4869-8701-4d06-808c-d84a832a436a"
      },
      "execution_count": null,
      "outputs": [
        {
          "output_type": "execute_result",
          "data": {
            "text/plain": [
              "tensor([[ -2.,   0.,   0.,   0.],\n",
              "        [100.,   0., 100.,   0.],\n",
              "        [  0.,   0.,   0.,   1.]])"
            ]
          },
          "metadata": {},
          "execution_count": 10
        }
      ]
    }
  ]
}