{
  "nbformat": 4,
  "nbformat_minor": 0,
  "metadata": {
    "colab": {
      "provenance": [],
      "authorship_tag": "ABX9TyONy2sSSk6xi6jnavu6sQab",
      "include_colab_link": true
    },
    "kernelspec": {
      "name": "python3",
      "display_name": "Python 3"
    },
    "language_info": {
      "name": "python"
    }
  },
  "cells": [
    {
      "cell_type": "markdown",
      "metadata": {
        "id": "view-in-github",
        "colab_type": "text"
      },
      "source": [
        "<a href=\"https://colab.research.google.com/github/Idan-Alter/OU-22961-Deep-Learning/blob/main/22961_1_4_economizing_memory.ipynb\" target=\"_parent\"><img src=\"https://colab.research.google.com/assets/colab-badge.svg\" alt=\"Open In Colab\"/></a>"
      ]
    },
    {
      "cell_type": "code",
      "source": [
        "import torch"
      ],
      "metadata": {
        "id": "jzq1E58xMUBp"
      },
      "execution_count": null,
      "outputs": []
    },
    {
      "cell_type": "markdown",
      "source": [
        "# View or Copy"
      ],
      "metadata": {
        "id": "5bm9fId0TOvm"
      }
    },
    {
      "cell_type": "code",
      "execution_count": null,
      "metadata": {
        "colab": {
          "base_uri": "https://localhost:8080/"
        },
        "id": "XuCuVoiHJ13d",
        "outputId": "ca7f9a04-f924-4aa4-d6a9-354db660abc2"
      },
      "outputs": [
        {
          "output_type": "stream",
          "name": "stdout",
          "text": [
            "tensor([[[ 0,  1,  2,  3,  4],\n",
            "         [ 5,  6,  7,  8,  9],\n",
            "         [10, 11, 12, 13, 14],\n",
            "         [15, 16, 17, 18, 19]],\n",
            "\n",
            "        [[20, 21, 22, 23, 24],\n",
            "         [25, 26, 27, 28, 29],\n",
            "         [30, 31, 32, 33, 34],\n",
            "         [35, 36, 37, 38, 39]]])\n",
            "tensor([[[ 2,  3,  4],\n",
            "         [12, 13, 14]],\n",
            "\n",
            "        [[22, 23, 24],\n",
            "         [32, 33, 34]]])\n"
          ]
        }
      ],
      "source": [
        "x = torch.arange(2*4*5).reshape(shape=(2,4,5))\n",
        "y = x[:, 0::2, 2:5]\n",
        "print(x, y, sep='\\n')"
      ]
    },
    {
      "cell_type": "code",
      "source": [
        "y[-1] = 100\n",
        "print(y, x, sep='\\n')"
      ],
      "metadata": {
        "colab": {
          "base_uri": "https://localhost:8080/"
        },
        "id": "y6Yi7bHRMT6j",
        "outputId": "17c2069e-065f-4b0c-9a9c-7136bde365c7"
      },
      "execution_count": null,
      "outputs": [
        {
          "output_type": "stream",
          "name": "stdout",
          "text": [
            "tensor([[[  2,   3,   4],\n",
            "         [ 12,  13,  14]],\n",
            "\n",
            "        [[100, 100, 100],\n",
            "         [100, 100, 100]]])\n",
            "tensor([[[  0,   1,   2,   3,   4],\n",
            "         [  5,   6,   7,   8,   9],\n",
            "         [ 10,  11,  12,  13,  14],\n",
            "         [ 15,  16,  17,  18,  19]],\n",
            "\n",
            "        [[ 20,  21, 100, 100, 100],\n",
            "         [ 25,  26,  27,  28,  29],\n",
            "         [ 30,  31, 100, 100, 100],\n",
            "         [ 35,  36,  37,  38,  39]]])\n"
          ]
        }
      ]
    },
    {
      "cell_type": "code",
      "source": [
        "z    = x[:,0::2,2:5].clone()\n",
        "z[0] = 100\n",
        "print(z, x, sep='\\n')"
      ],
      "metadata": {
        "id": "Wk7NGLWkPml8",
        "colab": {
          "base_uri": "https://localhost:8080/"
        },
        "outputId": "9d065e42-1187-4d9b-8f71-92b6ab916f62"
      },
      "execution_count": null,
      "outputs": [
        {
          "output_type": "stream",
          "name": "stdout",
          "text": [
            "tensor([[[100, 100, 100],\n",
            "         [100, 100, 100]],\n",
            "\n",
            "        [[100, 100, 100],\n",
            "         [100, 100, 100]]])\n",
            "tensor([[[  0,   1,   2,   3,   4],\n",
            "         [  5,   6,   7,   8,   9],\n",
            "         [ 10,  11,  12,  13,  14],\n",
            "         [ 15,  16,  17,  18,  19]],\n",
            "\n",
            "        [[ 20,  21, 100, 100, 100],\n",
            "         [ 25,  26,  27,  28,  29],\n",
            "         [ 30,  31, 100, 100, 100],\n",
            "         [ 35,  36,  37,  38,  39]]])\n"
          ]
        }
      ]
    },
    {
      "cell_type": "code",
      "source": [
        "x     = torch.arange(5)\n",
        "index = (x>=2) & (x<4)\n",
        "y     = x[index]\n",
        "y[-1] = 0\n",
        "print(x, index, y, sep='\\n')"
      ],
      "metadata": {
        "colab": {
          "base_uri": "https://localhost:8080/"
        },
        "id": "uzGIR_gcRDuU",
        "outputId": "fe27f385-12fc-496b-a28c-bd902ee4e80c"
      },
      "execution_count": null,
      "outputs": [
        {
          "output_type": "stream",
          "name": "stdout",
          "text": [
            "tensor([0, 1, 2, 3, 4])\n",
            "tensor([False, False,  True,  True, False])\n",
            "tensor([2, 0])\n"
          ]
        }
      ]
    },
    {
      "cell_type": "markdown",
      "source": [
        "# In Place Ops"
      ],
      "metadata": {
        "id": "0uCnoXeAWsMz"
      }
    },
    {
      "cell_type": "code",
      "source": [
        "x = torch.ones(5)\n",
        "address = id(x)\n",
        "x = torch.exp(x)\n",
        "print(address == id(x))"
      ],
      "metadata": {
        "colab": {
          "base_uri": "https://localhost:8080/"
        },
        "id": "cbQ5AepfWr5i",
        "outputId": "4a1c72a3-e87e-4e9c-b616-e6e04c9d4b44"
      },
      "execution_count": null,
      "outputs": [
        {
          "output_type": "stream",
          "name": "stdout",
          "text": [
            "False\n"
          ]
        }
      ]
    },
    {
      "cell_type": "code",
      "source": [
        "address = id(x)\n",
        "x[:]    = torch.exp(x)\n",
        "print(address == id(x))"
      ],
      "metadata": {
        "colab": {
          "base_uri": "https://localhost:8080/"
        },
        "id": "JEfMFb78ZCjc",
        "outputId": "8228eb21-51f5-4017-cdf8-847ab827725c"
      },
      "execution_count": null,
      "outputs": [
        {
          "output_type": "stream",
          "name": "stdout",
          "text": [
            "True\n"
          ]
        }
      ]
    },
    {
      "cell_type": "code",
      "source": [
        "x = torch.ones(5)\n",
        "print(x)\n",
        "torch.exp_(x)\n",
        "print(x)"
      ],
      "metadata": {
        "colab": {
          "base_uri": "https://localhost:8080/"
        },
        "id": "IQbMBs3UZuAR",
        "outputId": "9adf3033-367a-4566-8cf5-fabb1a15449a"
      },
      "execution_count": null,
      "outputs": [
        {
          "output_type": "stream",
          "name": "stdout",
          "text": [
            "tensor([1., 1., 1., 1., 1.])\n",
            "tensor([2.7183, 2.7183, 2.7183, 2.7183, 2.7183])\n"
          ]
        }
      ]
    }
  ]
}