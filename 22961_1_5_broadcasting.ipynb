{
  "nbformat": 4,
  "nbformat_minor": 0,
  "metadata": {
    "colab": {
      "provenance": [],
      "collapsed_sections": [],
      "authorship_tag": "ABX9TyNqdYlViExJakIme+cgTOwH",
      "include_colab_link": true
    },
    "kernelspec": {
      "name": "python3",
      "display_name": "Python 3"
    },
    "language_info": {
      "name": "python"
    }
  },
  "cells": [
    {
      "cell_type": "markdown",
      "metadata": {
        "id": "view-in-github",
        "colab_type": "text"
      },
      "source": [
        "<a href=\"https://colab.research.google.com/github/Idan-Alter/OU-22961-Deep-Learning/blob/main/22961_1_5_broadcasting.ipynb\" target=\"_parent\"><img src=\"https://colab.research.google.com/assets/colab-badge.svg\" alt=\"Open In Colab\"/></a>"
      ]
    },
    {
      "cell_type": "code",
      "execution_count": null,
      "metadata": {
        "id": "506EuVlJanq8"
      },
      "outputs": [],
      "source": [
        "import torch"
      ]
    },
    {
      "cell_type": "code",
      "source": [
        "x = torch.tensor([1, 2, 3, 4])\n",
        "print(x==1)"
      ],
      "metadata": {
        "colab": {
          "base_uri": "https://localhost:8080/"
        },
        "id": "T5e6YrNva2IH",
        "outputId": "16572214-f82d-4e44-9617-f1aa52b4f588"
      },
      "execution_count": null,
      "outputs": [
        {
          "output_type": "stream",
          "name": "stdout",
          "text": [
            "tensor([ True, False, False, False])\n"
          ]
        }
      ]
    },
    {
      "cell_type": "code",
      "source": [
        "y = torch.tensor([1]*x.numel())\n",
        "print(x, y, x==y, sep='\\n')"
      ],
      "metadata": {
        "colab": {
          "base_uri": "https://localhost:8080/"
        },
        "id": "gH1Lwti0cot3",
        "outputId": "60e5d41a-16ec-4b7c-cdcf-eb55ef6b3f4f"
      },
      "execution_count": null,
      "outputs": [
        {
          "output_type": "stream",
          "name": "stdout",
          "text": [
            "tensor([1, 2, 3, 4])\n",
            "tensor([1, 1, 1, 1])\n",
            "tensor([ True, False, False, False])\n"
          ]
        }
      ]
    },
    {
      "cell_type": "code",
      "source": [
        "A = torch.arange(9).reshape(3,3)\n",
        "B = torch.arange(3)\n",
        "print(A, B, A+B, sep='\\n')"
      ],
      "metadata": {
        "colab": {
          "base_uri": "https://localhost:8080/"
        },
        "id": "CCD7z0FLc5Tv",
        "outputId": "8214922b-448a-4053-bbe4-fdabd32b0ebf"
      },
      "execution_count": null,
      "outputs": [
        {
          "output_type": "stream",
          "name": "stdout",
          "text": [
            "tensor([[0, 1, 2],\n",
            "        [3, 4, 5],\n",
            "        [6, 7, 8]])\n",
            "tensor([0, 1, 2])\n",
            "tensor([[ 0,  2,  4],\n",
            "        [ 3,  5,  7],\n",
            "        [ 6,  8, 10]])\n"
          ]
        }
      ]
    },
    {
      "cell_type": "code",
      "source": [
        "B.expand_as(A)"
      ],
      "metadata": {
        "colab": {
          "base_uri": "https://localhost:8080/"
        },
        "id": "rXH8WwNQhqAr",
        "outputId": "6b4bdfbe-c6cc-4fd6-8634-21263e7ea39b"
      },
      "execution_count": null,
      "outputs": [
        {
          "output_type": "execute_result",
          "data": {
            "text/plain": [
              "tensor([[0, 1, 2],\n",
              "        [0, 1, 2],\n",
              "        [0, 1, 2]])"
            ]
          },
          "metadata": {},
          "execution_count": 5
        }
      ]
    },
    {
      "cell_type": "code",
      "source": [
        "B.storage()"
      ],
      "metadata": {
        "id": "SpMf-QwukVgm",
        "outputId": "222e559d-e535-494e-a683-dc1ab614c38f",
        "colab": {
          "base_uri": "https://localhost:8080/"
        }
      },
      "execution_count": null,
      "outputs": [
        {
          "output_type": "execute_result",
          "data": {
            "text/plain": [
              " 0\n",
              " 1\n",
              " 2\n",
              "[torch.LongStorage of size 3]"
            ]
          },
          "metadata": {},
          "execution_count": 6
        }
      ]
    },
    {
      "cell_type": "code",
      "source": [
        "C = B.expand_as(A).clone()"
      ],
      "metadata": {
        "id": "o0sMFcT2kYMc"
      },
      "execution_count": null,
      "outputs": []
    },
    {
      "cell_type": "code",
      "source": [
        "B.reshape(3,1).expand_as(A)"
      ],
      "metadata": {
        "colab": {
          "base_uri": "https://localhost:8080/"
        },
        "id": "FKpgiM_plJD5",
        "outputId": "8378700b-fbfe-4e26-b92d-187bc48d8127"
      },
      "execution_count": null,
      "outputs": [
        {
          "output_type": "execute_result",
          "data": {
            "text/plain": [
              "tensor([[0, 0, 0],\n",
              "        [1, 1, 1],\n",
              "        [2, 2, 2]])"
            ]
          },
          "metadata": {},
          "execution_count": 8
        }
      ]
    },
    {
      "cell_type": "code",
      "source": [
        "B.reshape(1,3).expand_as(A)"
      ],
      "metadata": {
        "colab": {
          "base_uri": "https://localhost:8080/"
        },
        "id": "i18TQAGDlRHv",
        "outputId": "6c4a74dd-1f27-4918-f3a5-3272122e02a8"
      },
      "execution_count": null,
      "outputs": [
        {
          "output_type": "execute_result",
          "data": {
            "text/plain": [
              "tensor([[0, 1, 2],\n",
              "        [0, 1, 2],\n",
              "        [0, 1, 2]])"
            ]
          },
          "metadata": {},
          "execution_count": 9
        }
      ]
    },
    {
      "cell_type": "code",
      "source": [
        "A = torch.arange(3).reshape(3,1)\n",
        "B = torch.arange(4).reshape(1,4)\n",
        "print(A, B, A+B, sep='\\n')"
      ],
      "metadata": {
        "colab": {
          "base_uri": "https://localhost:8080/"
        },
        "id": "uon60p4NmNFH",
        "outputId": "3e957a32-d993-4441-8ad2-14955e82754a"
      },
      "execution_count": null,
      "outputs": [
        {
          "output_type": "stream",
          "name": "stdout",
          "text": [
            "tensor([[0],\n",
            "        [1],\n",
            "        [2]])\n",
            "tensor([[0, 1, 2, 3]])\n",
            "tensor([[0, 1, 2, 3],\n",
            "        [1, 2, 3, 4],\n",
            "        [2, 3, 4, 5]])\n"
          ]
        }
      ]
    },
    {
      "cell_type": "code",
      "source": [
        "A = torch.arange(6).reshape(3,2)\n",
        "B = torch.arange(5).reshape(1,5)\n",
        "print(A, B, sep='\\n')\n",
        "A+B"
      ],
      "metadata": {
        "colab": {
          "base_uri": "https://localhost:8080/",
          "height": 281
        },
        "id": "3BE3JqjGmW8m",
        "outputId": "bbd3a05d-e5c7-4243-bd91-250326fe82a2"
      },
      "execution_count": null,
      "outputs": [
        {
          "output_type": "stream",
          "name": "stdout",
          "text": [
            "tensor([[0, 1],\n",
            "        [2, 3],\n",
            "        [4, 5]])\n",
            "tensor([[0, 1, 2, 3, 4]])\n"
          ]
        },
        {
          "output_type": "error",
          "ename": "RuntimeError",
          "evalue": "ignored",
          "traceback": [
            "\u001b[0;31m---------------------------------------------------------------------------\u001b[0m",
            "\u001b[0;31mRuntimeError\u001b[0m                              Traceback (most recent call last)",
            "\u001b[0;32m<ipython-input-11-a233c67ba4b8>\u001b[0m in \u001b[0;36m<module>\u001b[0;34m()\u001b[0m\n\u001b[1;32m      2\u001b[0m \u001b[0mB\u001b[0m\u001b[0;34m=\u001b[0m\u001b[0mtorch\u001b[0m\u001b[0;34m.\u001b[0m\u001b[0marange\u001b[0m\u001b[0;34m(\u001b[0m\u001b[0;36m5\u001b[0m\u001b[0;34m)\u001b[0m\u001b[0;34m.\u001b[0m\u001b[0mreshape\u001b[0m\u001b[0;34m(\u001b[0m\u001b[0;36m1\u001b[0m\u001b[0;34m,\u001b[0m\u001b[0;36m5\u001b[0m\u001b[0;34m)\u001b[0m\u001b[0;34m\u001b[0m\u001b[0;34m\u001b[0m\u001b[0m\n\u001b[1;32m      3\u001b[0m \u001b[0mprint\u001b[0m\u001b[0;34m(\u001b[0m\u001b[0mA\u001b[0m\u001b[0;34m,\u001b[0m\u001b[0mB\u001b[0m\u001b[0;34m,\u001b[0m\u001b[0msep\u001b[0m\u001b[0;34m=\u001b[0m\u001b[0;34m'\\n'\u001b[0m\u001b[0;34m)\u001b[0m\u001b[0;34m\u001b[0m\u001b[0;34m\u001b[0m\u001b[0m\n\u001b[0;32m----> 4\u001b[0;31m \u001b[0mA\u001b[0m\u001b[0;34m+\u001b[0m\u001b[0mB\u001b[0m\u001b[0;34m\u001b[0m\u001b[0;34m\u001b[0m\u001b[0m\n\u001b[0m",
            "\u001b[0;31mRuntimeError\u001b[0m: The size of tensor a (2) must match the size of tensor b (5) at non-singleton dimension 1"
          ]
        }
      ]
    },
    {
      "cell_type": "code",
      "source": [
        "A = torch.arange(24).reshape(2,3,4)\n",
        "B = torch.tensor([0,1,2,3])\n",
        "C = B.expand_as(A)\n",
        "D = A+B\n",
        "print(A.size(), B.size(), C, D, sep='\\n')\n"
      ],
      "metadata": {
        "id": "lvO80Qm_wvc9",
        "colab": {
          "base_uri": "https://localhost:8080/"
        },
        "outputId": "3bb4d82e-d17d-42d6-b433-38ed526317bb"
      },
      "execution_count": null,
      "outputs": [
        {
          "output_type": "stream",
          "name": "stdout",
          "text": [
            "torch.Size([2, 3, 4])\n",
            "torch.Size([4])\n",
            "tensor([[[0, 1, 2, 3],\n",
            "         [0, 1, 2, 3],\n",
            "         [0, 1, 2, 3]],\n",
            "\n",
            "        [[0, 1, 2, 3],\n",
            "         [0, 1, 2, 3],\n",
            "         [0, 1, 2, 3]]])\n",
            "tensor([[[ 0,  2,  4,  6],\n",
            "         [ 4,  6,  8, 10],\n",
            "         [ 8, 10, 12, 14]],\n",
            "\n",
            "        [[12, 14, 16, 18],\n",
            "         [16, 18, 20, 22],\n",
            "         [20, 22, 24, 26]]])\n"
          ]
        }
      ]
    },
    {
      "cell_type": "code",
      "source": [
        "for i in range(C.size()[0]):\n",
        "  for j in range(C.size()[1]):\n",
        "    for k in range(C.size()[2]):\n",
        "        assert(C[i,j,k]==B[k])"
      ],
      "metadata": {
        "id": "yzkjmHg2otxV"
      },
      "execution_count": null,
      "outputs": []
    }
  ]
}