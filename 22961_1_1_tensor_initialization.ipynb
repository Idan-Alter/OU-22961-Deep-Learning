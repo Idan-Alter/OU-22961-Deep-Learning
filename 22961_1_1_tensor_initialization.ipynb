{
  "nbformat": 4,
  "nbformat_minor": 0,
  "metadata": {
    "colab": {
      "provenance": [],
      "authorship_tag": "ABX9TyM5Z0b28CPovisNLSf8zrOq",
      "include_colab_link": true
    },
    "kernelspec": {
      "name": "python3",
      "display_name": "Python 3"
    },
    "language_info": {
      "name": "python"
    }
  },
  "cells": [
    {
      "cell_type": "markdown",
      "metadata": {
        "id": "view-in-github",
        "colab_type": "text"
      },
      "source": [
        "<a href=\"https://colab.research.google.com/github/Idan-Alter/OU-22961-Deep-Learning/blob/main/22961_1_1_tensor_initialization.ipynb\" target=\"_parent\"><img src=\"https://colab.research.google.com/assets/colab-badge.svg\" alt=\"Open In Colab\"/></a>"
      ]
    },
    {
      "cell_type": "code",
      "metadata": {
        "id": "sgwlSlc_wI0-"
      },
      "source": [
        "import torch\n",
        "import numpy as np"
      ],
      "execution_count": null,
      "outputs": []
    },
    {
      "cell_type": "code",
      "source": [
        "x = torch.tensor([[1,2], [3,4]])\n",
        "print(x,\n",
        "      x.shape,\n",
        "      x.dtype,\n",
        "      sep='\\n')"
      ],
      "metadata": {
        "colab": {
          "base_uri": "https://localhost:8080/"
        },
        "id": "gxsqSf7fwQVf",
        "outputId": "7bce739e-3d35-43d0-c0f8-a94bb47d04a2"
      },
      "execution_count": null,
      "outputs": [
        {
          "output_type": "stream",
          "name": "stdout",
          "text": [
            "tensor([[1, 2],\n",
            "        [3, 4]])\n",
            "torch.Size([2, 2])\n",
            "torch.int64\n"
          ]
        }
      ]
    },
    {
      "cell_type": "code",
      "source": [
        "x = torch.tensor([1.0, 2, 3, 4])\n",
        "print(x,\n",
        "      x.shape,\n",
        "      x.dtype,\n",
        "      sep='\\n')"
      ],
      "metadata": {
        "colab": {
          "base_uri": "https://localhost:8080/"
        },
        "id": "dAvwkmTk32ht",
        "outputId": "9f014cea-ea96-4fdd-b56d-0bc8d3d74c0f"
      },
      "execution_count": null,
      "outputs": [
        {
          "output_type": "stream",
          "name": "stdout",
          "text": [
            "tensor([1., 2., 3., 4.])\n",
            "torch.Size([4])\n",
            "torch.float32\n"
          ]
        }
      ]
    },
    {
      "cell_type": "code",
      "metadata": {
        "colab": {
          "base_uri": "https://localhost:8080/"
        },
        "id": "6DCZIp0Z0lLE",
        "outputId": "2292929e-bbb5-4ca2-abb7-9a538ffa5860"
      },
      "source": [
        "x = torch.arange(9)\n",
        "print(x,\n",
        "      x.shape,\n",
        "      x.dtype,\n",
        "      sep='\\n')"
      ],
      "execution_count": null,
      "outputs": [
        {
          "output_type": "stream",
          "name": "stdout",
          "text": [
            "tensor([0, 1, 2, 3, 4, 5, 6, 7, 8])\n",
            "torch.Size([9])\n",
            "torch.int64\n"
          ]
        }
      ]
    },
    {
      "cell_type": "code",
      "metadata": {
        "colab": {
          "base_uri": "https://localhost:8080/"
        },
        "id": "jbWPzuKc0LYA",
        "outputId": "8724eaef-4976-42e1-da27-830c29dff1b2"
      },
      "source": [
        "y = torch.eye(3,dtype=torch.bool)\n",
        "print(y,\n",
        "      y.shape,\n",
        "      y.dtype,\n",
        "      sep='\\n')"
      ],
      "execution_count": null,
      "outputs": [
        {
          "output_type": "stream",
          "name": "stdout",
          "text": [
            "tensor([[ True, False, False],\n",
            "        [False,  True, False],\n",
            "        [False, False,  True]])\n",
            "torch.Size([3, 3])\n",
            "torch.bool\n"
          ]
        }
      ]
    },
    {
      "cell_type": "code",
      "metadata": {
        "id": "XV6vnWa81u39"
      },
      "source": [
        "z = torch.randn(size=[2, 3, 3])"
      ],
      "execution_count": null,
      "outputs": []
    },
    {
      "cell_type": "code",
      "source": [
        "print(x,y,z,sep='\\n')"
      ],
      "metadata": {
        "colab": {
          "base_uri": "https://localhost:8080/"
        },
        "id": "b9QQp6h78ODY",
        "outputId": "f7f16dd1-9a80-4e9a-ec17-023cf85a50ba"
      },
      "execution_count": null,
      "outputs": [
        {
          "output_type": "stream",
          "name": "stdout",
          "text": [
            "tensor([0, 1, 2, 3, 4, 5, 6, 7, 8])\n",
            "tensor([[ True, False, False],\n",
            "        [False,  True, False],\n",
            "        [False, False,  True]])\n",
            "tensor([[[-0.3805,  0.2403,  0.3717],\n",
            "         [ 0.5420,  1.2810, -0.5281],\n",
            "         [ 1.8960, -1.1024, -0.1697]],\n",
            "\n",
            "        [[ 2.4900, -1.9578, -1.2096],\n",
            "         [ 0.7143,  0.3503,  0.5913],\n",
            "         [ 0.8357, -0.6526, -0.2560]]])\n"
          ]
        }
      ]
    }
  ]
}