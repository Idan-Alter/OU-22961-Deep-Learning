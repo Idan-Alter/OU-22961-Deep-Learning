{
  "nbformat": 4,
  "nbformat_minor": 0,
  "metadata": {
    "colab": {
      "provenance": [],
      "collapsed_sections": [],
      "authorship_tag": "ABX9TyOzLUvw3slse+5TI2TjsLEw",
      "include_colab_link": true
    },
    "kernelspec": {
      "name": "python3",
      "display_name": "Python 3"
    },
    "language_info": {
      "name": "python"
    }
  },
  "cells": [
    {
      "cell_type": "markdown",
      "metadata": {
        "id": "view-in-github",
        "colab_type": "text"
      },
      "source": [
        "<a href=\"https://colab.research.google.com/github/Idan-Alter/OU-22961-Deep-Learning/blob/main/22961_5_2_image_conv_with_kernel.ipynb\" target=\"_parent\"><img src=\"https://colab.research.google.com/assets/colab-badge.svg\" alt=\"Open In Colab\"/></a>"
      ]
    },
    {
      "cell_type": "code",
      "execution_count": null,
      "metadata": {
        "id": "xRvZe-7xL6yT"
      },
      "outputs": [],
      "source": [
        "import torch\n",
        "import torchvision\n",
        "import matplotlib.pyplot as plt\n",
        "from torch.utils.data import DataLoader\n",
        "train_data_transformed = torchvision.datasets.FashionMNIST(\n",
        "    root=\"/22961\", train=True, download=True,\n",
        "    transform=torchvision.transforms.PILToTensor())\n",
        "\n",
        "train_dataloader = DataLoader(\n",
        "    train_data_transformed, batch_size=1)"
      ]
    },
    {
      "cell_type": "code",
      "source": [
        "img, _ = next(iter(train_dataloader))\n",
        "img    = torch.squeeze(img)\n",
        "print(img.dtype, img.size(), sep='\\n')\n",
        "print(img[9:15, 9:15])\n",
        "plt.imshow(img, cmap='Greys');"
      ],
      "metadata": {
        "colab": {
          "base_uri": "https://localhost:8080/",
          "height": 401
        },
        "id": "F0U66PrxO7RH",
        "outputId": "b160e2b9-67f8-4fa4-c06b-c9eb701ff0a3"
      },
      "execution_count": null,
      "outputs": [
        {
          "output_type": "stream",
          "name": "stdout",
          "text": [
            "torch.uint8\n",
            "torch.Size([28, 28])\n",
            "tensor([[  0,   0,   0,   0, 183, 225],\n",
            "        [  0,   0,   0,   0, 193, 228],\n",
            "        [  1,   3,   0,  12, 219, 220],\n",
            "        [  0,   6,   0,  99, 244, 222],\n",
            "        [  4,   0,   0,  55, 236, 228],\n",
            "        [  0,   0,   0, 237, 226, 217]], dtype=torch.uint8)\n"
          ]
        },
        {
          "output_type": "display_data",
          "data": {
            "text/plain": [
              "<Figure size 432x288 with 1 Axes>"
            ],
            "image/png": "[encoded data removed]"
          },
          "metadata": {
            "needs_background": "light"
          }
        }
      ]
    },
    {
      "cell_type": "code",
      "source": [
        "kern = torch.tensor([[1/16, 1/8, 1/16],\n",
        "                   [1/8, 1/4, 1/8],\n",
        "                   [1/16, 1/8, 1/16]])"
      ],
      "metadata": {
        "id": "n51JE7NnMdeD"
      },
      "execution_count": null,
      "outputs": []
    },
    {
      "cell_type": "code",
      "source": [
        "output=torch.empty(26,26)\n",
        "for i in range(26):\n",
        "  for j in range(26):\n",
        "    sub_img = img[i:i+3, j:j+3]\n",
        "    output[i, j] = (sub_img * kern).sum()\n",
        "plt.imshow(output, cmap='Greys');"
      ],
      "metadata": {
        "colab": {
          "base_uri": "https://localhost:8080/",
          "height": 265
        },
        "id": "2_exnHbYM6Ig",
        "outputId": "7f4289a1-15be-4f8c-a98b-daac198d8ded"
      },
      "execution_count": null,
      "outputs": [
        {
          "output_type": "display_data",
          "data": {
            "text/plain": [
              "<Figure size 432x288 with 1 Axes>"
            ],
            "image/png": "[encoded data removed]"
          },
          "metadata": {
            "needs_background": "light"
          }
        }
      ]
    },
    {
      "cell_type": "code",
      "source": [
        "kern   = torch.tensor([-1,1])\n",
        "output = torch.empty(28, 27)\n",
        "for i in range(28):\n",
        "  for j in range(27):\n",
        "    sub_img = img[i, j:j+2]\n",
        "    output[i,j] = (sub_img * kern).sum()\n",
        "print(output.size())\n",
        "plt.imshow(output,cmap='Greys');\n",
        "plt.colorbar();"
      ],
      "metadata": {
        "colab": {
          "base_uri": "https://localhost:8080/",
          "height": 282
        },
        "id": "r8576BiEYBNe",
        "outputId": "0c889da1-097b-4ff8-ecde-1ee89caff128"
      },
      "execution_count": null,
      "outputs": [
        {
          "output_type": "stream",
          "name": "stdout",
          "text": [
            "torch.Size([28, 27])\n"
          ]
        },
        {
          "output_type": "display_data",
          "data": {
            "text/plain": [
              "<Figure size 432x288 with 2 Axes>"
            ],
            "image/png": "[encoded data removed]"
          },
          "metadata": {
            "needs_background": "light"
          }
        }
      ]
    }
  ]
}
