{
  "nbformat": 4,
  "nbformat_minor": 0,
  "metadata": {
    "colab": {
      "provenance": [],
      "authorship_tag": "ABX9TyOtNI+Wih5if+GjdfE3o4V1",
      "include_colab_link": true
    },
    "kernelspec": {
      "name": "python3",
      "display_name": "Python 3"
    },
    "language_info": {
      "name": "python"
    }
  },
  "cells": [
    {
      "cell_type": "markdown",
      "metadata": {
        "id": "view-in-github",
        "colab_type": "text"
      },
      "source": [
        "<a href=\"https://colab.research.google.com/github/Idan-Alter/OU-22961-Deep-Learning/blob/main/22961_1_6_autograd.ipynb\" target=\"_parent\"><img src=\"https://colab.research.google.com/assets/colab-badge.svg\" alt=\"Open In Colab\"/></a>"
      ]
    },
    {
      "cell_type": "code",
      "execution_count": null,
      "metadata": {
        "id": "S9cXoLLNlkNB"
      },
      "outputs": [],
      "source": [
        "import torch"
      ]
    },
    {
      "cell_type": "code",
      "source": [
        "x = torch.tensor(2., requires_grad=True)\n",
        "y = x**2\n",
        "z = y+x\n",
        "z.backward()\n",
        "print(x.grad)"
      ],
      "metadata": {
        "id": "Kr2bXP3FmG9r",
        "colab": {
          "base_uri": "https://localhost:8080/"
        },
        "outputId": "312e643e-5370-4a85-847a-4b2a9d39aca4"
      },
      "execution_count": null,
      "outputs": [
        {
          "output_type": "stream",
          "name": "stdout",
          "text": [
            "tensor(5.)\n"
          ]
        }
      ]
    },
    {
      "cell_type": "code",
      "source": [
        "x = torch.tensor([2., 3.], requires_grad=True)\n",
        "y = x[0]*x[1]\n",
        "y.backward()\n",
        "print(x.grad)"
      ],
      "metadata": {
        "colab": {
          "base_uri": "https://localhost:8080/"
        },
        "id": "Y-vrynL1t0DW",
        "outputId": "009c8aea-edba-43fe-cc98-8212a22def2b"
      },
      "execution_count": null,
      "outputs": [
        {
          "output_type": "stream",
          "name": "stdout",
          "text": [
            "tensor([3., 2.])\n"
          ]
        }
      ]
    },
    {
      "cell_type": "code",
      "source": [
        "x = torch.tensor([2., 3.], requires_grad=True)\n",
        "y = torch.tensor([4., 5.], requires_grad=True)\n",
        "w = x.sum()**2\n",
        "z = w + y.sum()**3 + x[0] + y[1]\n",
        "z.backward()\n",
        "print(x.grad, y.grad, sep='\\n')"
      ],
      "metadata": {
        "colab": {
          "base_uri": "https://localhost:8080/"
        },
        "id": "v45diOznvrnC",
        "outputId": "3327e93a-c3d2-4267-e184-cb3418e52df7"
      },
      "execution_count": null,
      "outputs": [
        {
          "output_type": "stream",
          "name": "stdout",
          "text": [
            "tensor([11., 10.])\n",
            "tensor([243., 244.])\n"
          ]
        }
      ]
    },
    {
      "cell_type": "code",
      "source": [
        "x = torch.tensor([2., 3.], requires_grad=True)\n",
        "y = torch.tensor([4., 5.], requires_grad=True)\n",
        "w = x.sum()**2\n",
        "s = w.detach()\n",
        "z = s + y.sum()**3 + x[0] + y[1]\n",
        "z.backward()\n",
        "print(x.grad, y.grad, sep='\\n')"
      ],
      "metadata": {
        "colab": {
          "base_uri": "https://localhost:8080/"
        },
        "id": "XgasSZ7Jme6b",
        "outputId": "8c90897f-aec4-4ae7-cf55-e820f6abb261"
      },
      "execution_count": null,
      "outputs": [
        {
          "output_type": "stream",
          "name": "stdout",
          "text": [
            "tensor([1., 0.])\n",
            "tensor([243., 244.])\n"
          ]
        }
      ]
    },
    {
      "cell_type": "code",
      "source": [
        "y = torch.zeros(10, dtype=int)\n",
        "x = torch.tensor(2., requires_grad=True)\n",
        "for i in range(10):\n",
        "  z = 2*x\n",
        "  while torch.rand(1)<0.7:\n",
        "    z = 2*z\n",
        "  z.backward()\n",
        "  y[i]   = x.grad\n",
        "  x.grad = None\n",
        "print(y)"
      ],
      "metadata": {
        "colab": {
          "base_uri": "https://localhost:8080/"
        },
        "id": "6NGjnsO46x2X",
        "outputId": "edb8e88d-2f28-4cdf-96cb-117b854a0485"
      },
      "execution_count": null,
      "outputs": [
        {
          "output_type": "stream",
          "name": "stdout",
          "text": [
            "tensor([   2,   64,    2,    4,    8, 4096,   32,   64,    4,    4])\n"
          ]
        }
      ]
    },
    {
      "cell_type": "code",
      "source": [
        "y = torch.zeros(10, dtype=int)\n",
        "x = torch.tensor(2., requires_grad=True)\n",
        "for i in range(10):\n",
        "  z = 2*x\n",
        "  while torch.rand(1)<0.7:\n",
        "    z = 2*z\n",
        "  z.backward()\n",
        "  y[i] = x.grad\n",
        "print(y)"
      ],
      "metadata": {
        "colab": {
          "base_uri": "https://localhost:8080/"
        },
        "id": "8Tp7ENlK-Bv1",
        "outputId": "d2971d9b-d55d-4b76-ab57-700c5105b6b2"
      },
      "execution_count": null,
      "outputs": [
        {
          "output_type": "stream",
          "name": "stdout",
          "text": [
            "tensor([ 4,  6,  8, 24, 26, 34, 50, 52, 56, 64])\n"
          ]
        }
      ]
    },
    {
      "cell_type": "code",
      "source": [
        "y = torch.zeros(5)\n",
        "for i in range(5):\n",
        "  x = torch.randn(1, requires_grad=True)\n",
        "  if x>0:\n",
        "     z = torch.exp(x)\n",
        "  else:\n",
        "      z = -x\n",
        "  z.backward()\n",
        "  y[i] = x.grad\n",
        "print(y)"
      ],
      "metadata": {
        "colab": {
          "base_uri": "https://localhost:8080/"
        },
        "id": "jWWnXVPLCn-A",
        "outputId": "f17fc9ca-49af-45d0-f670-a4e766f6759b"
      },
      "execution_count": null,
      "outputs": [
        {
          "output_type": "stream",
          "name": "stdout",
          "text": [
            "tensor([ 3.0476,  2.8047, -1.0000,  2.0189,  1.3605])\n"
          ]
        }
      ]
    }
  ]
}